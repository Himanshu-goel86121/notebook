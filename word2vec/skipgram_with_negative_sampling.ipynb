{
 "cells": [
  {
   "cell_type": "code",
   "execution_count": 1,
   "metadata": {},
   "outputs": [
    {
     "name": "stderr",
     "output_type": "stream",
     "text": [
      "[nltk_data] Downloading package stopwords to\n",
      "[nltk_data]     C:\\Users\\Himanshu\\AppData\\Roaming\\nltk_data...\n",
      "[nltk_data]   Package stopwords is already up-to-date!\n"
     ]
    }
   ],
   "source": [
    "import numpy as np\n",
    "import pandas as pd\n",
    "from sklearn.metrics.pairwise import cosine_similarity\n",
    "from nltk.corpus import stopwords\n",
    "import nltk\n",
    "nltk.download('stopwords')\n",
    "stopwords = set(stopwords.words('english'))\n",
    "import collections\n",
    "from tqdm import tqdm\n",
    "from datetime import datetime\n",
    "import random\n",
    "import pickle"
   ]
  },
  {
   "cell_type": "code",
   "execution_count": 2,
   "metadata": {},
   "outputs": [],
   "source": [
    "data_location = \"E:/datasets/word2vec/text8/text8\"\n",
    "window_size = 4\n",
    "tablesize = 1000000"
   ]
  },
  {
   "cell_type": "code",
   "execution_count": 3,
   "metadata": {},
   "outputs": [],
   "source": [
    "data = open(data_location, \"rb\").read()\n",
    "data = data.decode(\"utf8\")"
   ]
  },
  {
   "cell_type": "code",
   "execution_count": 4,
   "metadata": {},
   "outputs": [],
   "source": [
    "token_index = collections.OrderedDict()\n",
    "token_counts = collections.OrderedDict()\n",
    "\n",
    "j=1\n",
    "tokens = data.split(\" \")[: 50000]\n",
    "tokens = [token for token in tokens if token not in stopwords]\n",
    "for index, token in enumerate(tokens):\n",
    "    if token in token_index:\n",
    "        token_counts[token] += 1\n",
    "    else:\n",
    "        token_index[token] = j\n",
    "        token_counts[token] = 1\n",
    "        j += 1\n",
    "token_index[\"UNK\"] = 0\n",
    "\n",
    "rev_token_index = {j: i for i, j in token_index.items()}\n",
    "sampling_freq = np.zeros(len(token_index))\n",
    "for i in range(len(token_index)):\n",
    "    word = rev_token_index[i]\n",
    "    if word in token_counts:\n",
    "        freq = token_counts[word] ** 0.75\n",
    "    else:\n",
    "        freq = 0.0\n",
    "    sampling_freq[i] = freq\n",
    "\n",
    "sampling_freq /= np.sum(sampling_freq)\n",
    "sampling_freq = np.cumsum(sampling_freq) * tablesize\n",
    "j = 0\n",
    "sampling_table = []\n",
    "for i in range(tablesize):\n",
    "    while i > sampling_freq[j]:\n",
    "        j = j + 1\n",
    "    sampling_table.append(j)"
   ]
  },
  {
   "cell_type": "code",
   "execution_count": 5,
   "metadata": {},
   "outputs": [],
   "source": [
    "inputs = []\n",
    "outputs = []\n",
    "for i in range(len(tokens)):\n",
    "    inputs.append(token_index[tokens[i]])\n",
    "    window_start_index = i - window_size\n",
    "    window_start_index = 0 if window_start_index < 0 else window_start_index\n",
    "    window_end_index = i + window_size\n",
    "    window_end_index = len(tokens) if window_end_index >= len(tokens) else window_end_index\n",
    "    output = []\n",
    "    for j in range(window_start_index, window_end_index):\n",
    "        if j != i:\n",
    "            output.append(token_index[tokens[j]])\n",
    "    outputs.append(output)\n",
    "outputs = np.array(outputs)"
   ]
  },
  {
   "cell_type": "code",
   "execution_count": 6,
   "metadata": {},
   "outputs": [],
   "source": [
    "def sigmoid(x):\n",
    "    return 1 / (1 + np.exp(-x))\n",
    "\n",
    "class Skipgram:\n",
    "    def __init__(self, num_features, vocab_size, negative_sample_table):\n",
    "        self.num_features = num_features\n",
    "        self.w1 = np.random.uniform(0.0, 0.5, size=(vocab_size, self.num_features))\n",
    "        self.w2 = np.random.uniform(0.0, 0.5, size=(vocab_size, self.num_features))\n",
    "        self.vocab_size = vocab_size\n",
    "        self.negative_sample_table = negative_sample_table\n",
    "    \n",
    "    def _forward_pass(self, model_input):\n",
    "        self.h1 = np.dot(model_input, self.w1)\n",
    "        self.h2 = np.dot(self.h1, self.w2.transpose())\n",
    "    \n",
    "    def _backward_pass(self, model_input, model_output, lr, num_negative_samples):\n",
    "        negative_samples = self.get_negative_sample(num_negative_samples, model_output)\n",
    "        sig_h2o = sigmoid(self.h2[model_output])\n",
    "        sig_h2k = sigmoid(-1 * self.h2[negative_samples])\n",
    "        delta_j_h2o = sig_h2o - 1\n",
    "        delta_j_h2k = 1 - sig_h2k\n",
    "        self.w1 -= np.dot(model_input, (sum(delta_j_h2o) + sum(delta_j_h2k)) * self.w2) * lr\n",
    "        self.w2[model_output] -= delta_j_h2o.reshape(len(delta_j_h2o), 1) * self.h1 * lr\n",
    "        self.w2[negative_samples] -= delta_j_h2k.reshape(len(delta_j_h2k), 1) * self.h1 * lr\n",
    "        return sig_h2o, sig_h2k\n",
    "    \n",
    "    def get_negative_sample(self, num_samples, model_output):\n",
    "        negative_samples = []\n",
    "        while len(negative_samples) < num_samples:\n",
    "            negative_sample = self.negative_sample_table[random.randint(0, tablesize - 1)]\n",
    "            if negative_sample not in model_output:\n",
    "                negative_samples.append(negative_sample)\n",
    "        return negative_samples\n",
    "    \n",
    "    def fit(self, model_inputs, model_outputs, lr, epochs, num_negative_samples):\n",
    "        for epoch in range(epochs):\n",
    "            loss = 0.0\n",
    "            sample_indices = np.arange(len(model_inputs) - 1)\n",
    "            np.random.shuffle(sample_indices)\n",
    "            for i in tqdm(sample_indices):\n",
    "                model_input = np.zeros((self.vocab_size))\n",
    "                model_input[model_inputs[i]] = 1.0\n",
    "                self._forward_pass(model_input=model_input)\n",
    "                sig_h2o, sig_h2k = self._backward_pass(model_input, model_outputs[i], lr, num_negative_samples)\n",
    "                loss += -1 * sum(np.log(sig_h2o))\n",
    "                loss += -1 * sum(np.log(sig_h2k))\n",
    "            print(\"epochs: {0} loss: {1}\".format(str(epoch+1), str(loss)))\n",
    "            pickle.dump(self, open(\"skipgram_ns_epoch_{0}\".format(str(epoch + 1)), \"wb\"))\n",
    "    \n",
    "    def most_similar(self, input_word, token_index):\n",
    "        assert input_word in token_index\n",
    "        word_vectors = (self.w1 + self.w2) / 2\n",
    "        prediction = cosine_similarity(word_vectors[token_index[input_word]].reshape(1, -1), word_vectors)[0]\n",
    "        sorted_index = np.argsort(prediction)[::-1].tolist()\n",
    "        rev_token_index = {j: i for i, j in token_index.items()}\n",
    "        for index in range(10):\n",
    "            print(rev_token_index[sorted_index[index]])"
   ]
  },
  {
   "cell_type": "code",
   "execution_count": 7,
   "metadata": {},
   "outputs": [
    {
     "name": "stderr",
     "output_type": "stream",
     "text": [
      "100%|██████████████████████████████████████████████████████████████████████████████████████████████████████████████████████████| 30576/30576 [05:54<00:00, 86.24it/s]\n",
      "  0%|                                                                                                                                      | 0/30576 [00:00<?, ?it/s]"
     ]
    },
    {
     "name": "stdout",
     "output_type": "stream",
     "text": [
      "epochs: 1 loss: 958902.0838597687\n"
     ]
    },
    {
     "name": "stderr",
     "output_type": "stream",
     "text": [
      "100%|██████████████████████████████████████████████████████████████████████████████████████████████████████████████████████████| 30576/30576 [05:53<00:00, 86.55it/s]\n",
      "  0%|                                                                                                                                      | 0/30576 [00:00<?, ?it/s]"
     ]
    },
    {
     "name": "stdout",
     "output_type": "stream",
     "text": [
      "epochs: 2 loss: 946957.8322672453\n"
     ]
    },
    {
     "name": "stderr",
     "output_type": "stream",
     "text": [
      "100%|██████████████████████████████████████████████████████████████████████████████████████████████████████████████████████████| 30576/30576 [05:50<00:00, 87.26it/s]\n",
      "  0%|                                                                                                                                      | 0/30576 [00:00<?, ?it/s]"
     ]
    },
    {
     "name": "stdout",
     "output_type": "stream",
     "text": [
      "epochs: 3 loss: 943455.7496744418\n"
     ]
    },
    {
     "name": "stderr",
     "output_type": "stream",
     "text": [
      "100%|██████████████████████████████████████████████████████████████████████████████████████████████████████████████████████████| 30576/30576 [05:47<00:00, 87.96it/s]\n",
      "  0%|                                                                                                                                      | 0/30576 [00:00<?, ?it/s]"
     ]
    },
    {
     "name": "stdout",
     "output_type": "stream",
     "text": [
      "epochs: 4 loss: 942111.4818046531\n"
     ]
    },
    {
     "name": "stderr",
     "output_type": "stream",
     "text": [
      "100%|██████████████████████████████████████████████████████████████████████████████████████████████████████████████████████████| 30576/30576 [05:46<00:00, 88.24it/s]\n",
      "  0%|                                                                                                                                      | 0/30576 [00:00<?, ?it/s]"
     ]
    },
    {
     "name": "stdout",
     "output_type": "stream",
     "text": [
      "epochs: 5 loss: 940343.8637910577\n"
     ]
    },
    {
     "name": "stderr",
     "output_type": "stream",
     "text": [
      "100%|██████████████████████████████████████████████████████████████████████████████████████████████████████████████████████████| 30576/30576 [05:48<00:00, 87.84it/s]\n",
      "  0%|                                                                                                                                      | 0/30576 [00:00<?, ?it/s]"
     ]
    },
    {
     "name": "stdout",
     "output_type": "stream",
     "text": [
      "epochs: 6 loss: 938152.9595656289\n"
     ]
    },
    {
     "name": "stderr",
     "output_type": "stream",
     "text": [
      "100%|██████████████████████████████████████████████████████████████████████████████████████████████████████████████████████████| 30576/30576 [05:47<00:00, 88.03it/s]\n",
      "  0%|                                                                                                                                      | 0/30576 [00:00<?, ?it/s]"
     ]
    },
    {
     "name": "stdout",
     "output_type": "stream",
     "text": [
      "epochs: 7 loss: 935694.4380239783\n"
     ]
    },
    {
     "name": "stderr",
     "output_type": "stream",
     "text": [
      "100%|██████████████████████████████████████████████████████████████████████████████████████████████████████████████████████████| 30576/30576 [05:47<00:00, 87.92it/s]\n",
      "  0%|                                                                                                                                      | 0/30576 [00:00<?, ?it/s]"
     ]
    },
    {
     "name": "stdout",
     "output_type": "stream",
     "text": [
      "epochs: 8 loss: 933905.9401422222\n"
     ]
    },
    {
     "name": "stderr",
     "output_type": "stream",
     "text": [
      "100%|██████████████████████████████████████████████████████████████████████████████████████████████████████████████████████████| 30576/30576 [05:48<00:00, 87.70it/s]\n",
      "  0%|                                                                                                                                      | 0/30576 [00:00<?, ?it/s]"
     ]
    },
    {
     "name": "stdout",
     "output_type": "stream",
     "text": [
      "epochs: 9 loss: 932658.0165633704\n"
     ]
    },
    {
     "name": "stderr",
     "output_type": "stream",
     "text": [
      "100%|██████████████████████████████████████████████████████████████████████████████████████████████████████████████████████████| 30576/30576 [05:49<00:00, 87.39it/s]\n",
      "  0%|                                                                                                                                      | 0/30576 [00:00<?, ?it/s]"
     ]
    },
    {
     "name": "stdout",
     "output_type": "stream",
     "text": [
      "epochs: 10 loss: 932613.7490624813\n"
     ]
    },
    {
     "name": "stderr",
     "output_type": "stream",
     "text": [
      "100%|██████████████████████████████████████████████████████████████████████████████████████████████████████████████████████████| 30576/30576 [05:51<00:00, 86.91it/s]\n",
      "  0%|                                                                                                                                      | 0/30576 [00:00<?, ?it/s]"
     ]
    },
    {
     "name": "stdout",
     "output_type": "stream",
     "text": [
      "epochs: 11 loss: 931968.8183178395\n"
     ]
    },
    {
     "name": "stderr",
     "output_type": "stream",
     "text": [
      "100%|██████████████████████████████████████████████████████████████████████████████████████████████████████████████████████████| 30576/30576 [05:49<00:00, 87.38it/s]\n",
      "  0%|                                                                                                                                      | 0/30576 [00:00<?, ?it/s]"
     ]
    },
    {
     "name": "stdout",
     "output_type": "stream",
     "text": [
      "epochs: 12 loss: 932018.9362433043\n"
     ]
    },
    {
     "name": "stderr",
     "output_type": "stream",
     "text": [
      "100%|██████████████████████████████████████████████████████████████████████████████████████████████████████████████████████████| 30576/30576 [05:50<00:00, 87.35it/s]\n",
      "  0%|                                                                                                                                      | 0/30576 [00:00<?, ?it/s]"
     ]
    },
    {
     "name": "stdout",
     "output_type": "stream",
     "text": [
      "epochs: 13 loss: 932257.7614437649\n"
     ]
    },
    {
     "name": "stderr",
     "output_type": "stream",
     "text": [
      "100%|██████████████████████████████████████████████████████████████████████████████████████████████████████████████████████████| 30576/30576 [05:49<00:00, 87.60it/s]\n",
      "  0%|                                                                                                                                      | 0/30576 [00:00<?, ?it/s]"
     ]
    },
    {
     "name": "stdout",
     "output_type": "stream",
     "text": [
      "epochs: 14 loss: 931862.7713091378\n"
     ]
    },
    {
     "name": "stderr",
     "output_type": "stream",
     "text": [
      "100%|██████████████████████████████████████████████████████████████████████████████████████████████████████████████████████████| 30576/30576 [05:45<00:00, 88.58it/s]\n",
      "  0%|                                                                                                                                      | 0/30576 [00:00<?, ?it/s]"
     ]
    },
    {
     "name": "stdout",
     "output_type": "stream",
     "text": [
      "epochs: 15 loss: 932108.7802214787\n"
     ]
    },
    {
     "name": "stderr",
     "output_type": "stream",
     "text": [
      "100%|██████████████████████████████████████████████████████████████████████████████████████████████████████████████████████████| 30576/30576 [06:08<00:00, 83.09it/s]\n",
      "  0%|                                                                                                                                      | 0/30576 [00:00<?, ?it/s]"
     ]
    },
    {
     "name": "stdout",
     "output_type": "stream",
     "text": [
      "epochs: 16 loss: 931786.2461805368\n"
     ]
    },
    {
     "name": "stderr",
     "output_type": "stream",
     "text": [
      "100%|██████████████████████████████████████████████████████████████████████████████████████████████████████████████████████████| 30576/30576 [06:07<00:00, 83.18it/s]\n",
      "  0%|                                                                                                                                      | 0/30576 [00:00<?, ?it/s]"
     ]
    },
    {
     "name": "stdout",
     "output_type": "stream",
     "text": [
      "epochs: 17 loss: 931564.371014621\n"
     ]
    },
    {
     "name": "stderr",
     "output_type": "stream",
     "text": [
      "100%|██████████████████████████████████████████████████████████████████████████████████████████████████████████████████████████| 30576/30576 [06:06<00:00, 83.52it/s]\n",
      "  0%|                                                                                                                                      | 0/30576 [00:00<?, ?it/s]"
     ]
    },
    {
     "name": "stdout",
     "output_type": "stream",
     "text": [
      "epochs: 18 loss: 931318.3827817264\n"
     ]
    },
    {
     "name": "stderr",
     "output_type": "stream",
     "text": [
      "100%|██████████████████████████████████████████████████████████████████████████████████████████████████████████████████████████| 30576/30576 [06:06<00:00, 83.52it/s]\n",
      "  0%|                                                                                                                                      | 0/30576 [00:00<?, ?it/s]"
     ]
    },
    {
     "name": "stdout",
     "output_type": "stream",
     "text": [
      "epochs: 19 loss: 931213.806720526\n"
     ]
    },
    {
     "name": "stderr",
     "output_type": "stream",
     "text": [
      "100%|██████████████████████████████████████████████████████████████████████████████████████████████████████████████████████████| 30576/30576 [06:06<00:00, 83.42it/s]\n",
      "  0%|                                                                                                                                      | 0/30576 [00:00<?, ?it/s]"
     ]
    },
    {
     "name": "stdout",
     "output_type": "stream",
     "text": [
      "epochs: 20 loss: 930999.9714537947\n"
     ]
    },
    {
     "name": "stderr",
     "output_type": "stream",
     "text": [
      "100%|██████████████████████████████████████████████████████████████████████████████████████████████████████████████████████████| 30576/30576 [06:05<00:00, 83.73it/s]\n",
      "  0%|                                                                                                                                      | 0/30576 [00:00<?, ?it/s]"
     ]
    },
    {
     "name": "stdout",
     "output_type": "stream",
     "text": [
      "epochs: 21 loss: 930913.3885861249\n"
     ]
    },
    {
     "name": "stderr",
     "output_type": "stream",
     "text": [
      "100%|██████████████████████████████████████████████████████████████████████████████████████████████████████████████████████████| 30576/30576 [06:05<00:00, 83.63it/s]\n"
     ]
    },
    {
     "name": "stdout",
     "output_type": "stream",
     "text": [
      "epochs: 22 loss: 931009.8175559986\n"
     ]
    },
    {
     "name": "stderr",
     "output_type": "stream",
     "text": [
      "100%|██████████████████████████████████████████████████████████████████████████████████████████████████████████████████████████| 30576/30576 [06:04<00:00, 83.97it/s]\n",
      "  0%|                                                                                                                                      | 0/30576 [00:00<?, ?it/s]"
     ]
    },
    {
     "name": "stdout",
     "output_type": "stream",
     "text": [
      "epochs: 23 loss: 930831.3088681777\n"
     ]
    },
    {
     "name": "stderr",
     "output_type": "stream",
     "text": [
      "100%|██████████████████████████████████████████████████████████████████████████████████████████████████████████████████████████| 30576/30576 [06:02<00:00, 84.39it/s]\n",
      "  0%|                                                                                                                                      | 0/30576 [00:00<?, ?it/s]"
     ]
    },
    {
     "name": "stdout",
     "output_type": "stream",
     "text": [
      "epochs: 24 loss: 930991.7089282615\n"
     ]
    },
    {
     "name": "stderr",
     "output_type": "stream",
     "text": [
      "100%|██████████████████████████████████████████████████████████████████████████████████████████████████████████████████████████| 30576/30576 [06:03<00:00, 84.07it/s]\n",
      "  0%|                                                                                                                                      | 0/30576 [00:00<?, ?it/s]"
     ]
    },
    {
     "name": "stdout",
     "output_type": "stream",
     "text": [
      "epochs: 25 loss: 931203.8170627201\n"
     ]
    },
    {
     "name": "stderr",
     "output_type": "stream",
     "text": [
      "100%|██████████████████████████████████████████████████████████████████████████████████████████████████████████████████████████| 30576/30576 [06:04<00:00, 83.92it/s]\n",
      "  0%|                                                                                                                                      | 0/30576 [00:00<?, ?it/s]"
     ]
    },
    {
     "name": "stdout",
     "output_type": "stream",
     "text": [
      "epochs: 26 loss: 931013.2384228631\n"
     ]
    },
    {
     "name": "stderr",
     "output_type": "stream",
     "text": [
      "100%|██████████████████████████████████████████████████████████████████████████████████████████████████████████████████████████| 30576/30576 [06:02<00:00, 84.27it/s]\n",
      "  0%|                                                                                                                                      | 0/30576 [00:00<?, ?it/s]"
     ]
    },
    {
     "name": "stdout",
     "output_type": "stream",
     "text": [
      "epochs: 27 loss: 931359.7424959275\n"
     ]
    },
    {
     "name": "stderr",
     "output_type": "stream",
     "text": [
      "100%|██████████████████████████████████████████████████████████████████████████████████████████████████████████████████████████| 30576/30576 [06:02<00:00, 84.23it/s]\n",
      "  0%|                                                                                                                                      | 0/30576 [00:00<?, ?it/s]"
     ]
    },
    {
     "name": "stdout",
     "output_type": "stream",
     "text": [
      "epochs: 28 loss: 931406.8172103582\n"
     ]
    },
    {
     "name": "stderr",
     "output_type": "stream",
     "text": [
      "100%|██████████████████████████████████████████████████████████████████████████████████████████████████████████████████████████| 30576/30576 [06:04<00:00, 83.98it/s]\n",
      "  0%|                                                                                                                                      | 0/30576 [00:00<?, ?it/s]"
     ]
    },
    {
     "name": "stdout",
     "output_type": "stream",
     "text": [
      "epochs: 29 loss: 931673.8309439111\n"
     ]
    },
    {
     "name": "stderr",
     "output_type": "stream",
     "text": [
      "100%|██████████████████████████████████████████████████████████████████████████████████████████████████████████████████████████| 30576/30576 [06:02<00:00, 84.38it/s]\n",
      "  0%|                                                                                                                                      | 0/30576 [00:00<?, ?it/s]"
     ]
    },
    {
     "name": "stdout",
     "output_type": "stream",
     "text": [
      "epochs: 30 loss: 931872.4732829523\n"
     ]
    },
    {
     "name": "stderr",
     "output_type": "stream",
     "text": [
      "100%|██████████████████████████████████████████████████████████████████████████████████████████████████████████████████████████| 30576/30576 [06:02<00:00, 84.25it/s]\n"
     ]
    },
    {
     "name": "stdout",
     "output_type": "stream",
     "text": [
      "epochs: 31 loss: 932743.842937316\n"
     ]
    },
    {
     "name": "stderr",
     "output_type": "stream",
     "text": [
      "100%|██████████████████████████████████████████████████████████████████████████████████████████████████████████████████████████| 30576/30576 [06:04<00:00, 84.00it/s]\n",
      "  0%|                                                                                                                                      | 0/30576 [00:00<?, ?it/s]"
     ]
    },
    {
     "name": "stdout",
     "output_type": "stream",
     "text": [
      "epochs: 32 loss: 932839.6217343404\n"
     ]
    },
    {
     "name": "stderr",
     "output_type": "stream",
     "text": [
      "100%|██████████████████████████████████████████████████████████████████████████████████████████████████████████████████████████| 30576/30576 [06:22<00:00, 79.88it/s]\n",
      "  0%|                                                                                                                                      | 0/30576 [00:00<?, ?it/s]"
     ]
    },
    {
     "name": "stdout",
     "output_type": "stream",
     "text": [
      "epochs: 33 loss: 933413.4183504848\n"
     ]
    },
    {
     "name": "stderr",
     "output_type": "stream",
     "text": [
      "100%|██████████████████████████████████████████████████████████████████████████████████████████████████████████████████████████| 30576/30576 [06:03<00:00, 84.17it/s]\n"
     ]
    },
    {
     "name": "stdout",
     "output_type": "stream",
     "text": [
      "epochs: 34 loss: 933917.4590411221\n"
     ]
    },
    {
     "name": "stderr",
     "output_type": "stream",
     "text": [
      "100%|██████████████████████████████████████████████████████████████████████████████████████████████████████████████████████████| 30576/30576 [06:05<00:00, 83.74it/s]\n",
      "  0%|                                                                                                                                      | 0/30576 [00:00<?, ?it/s]"
     ]
    },
    {
     "name": "stdout",
     "output_type": "stream",
     "text": [
      "epochs: 35 loss: 934237.2482884018\n"
     ]
    },
    {
     "name": "stderr",
     "output_type": "stream",
     "text": [
      "100%|██████████████████████████████████████████████████████████████████████████████████████████████████████████████████████████| 30576/30576 [06:05<00:00, 83.66it/s]\n",
      "  0%|                                                                                                                                      | 0/30576 [00:00<?, ?it/s]"
     ]
    },
    {
     "name": "stdout",
     "output_type": "stream",
     "text": [
      "epochs: 36 loss: 935007.4814466275\n"
     ]
    },
    {
     "name": "stderr",
     "output_type": "stream",
     "text": [
      "100%|██████████████████████████████████████████████████████████████████████████████████████████████████████████████████████████| 30576/30576 [06:02<00:00, 84.23it/s]\n",
      "  0%|                                                                                                                                      | 0/30576 [00:00<?, ?it/s]"
     ]
    },
    {
     "name": "stdout",
     "output_type": "stream",
     "text": [
      "epochs: 37 loss: 935537.8110968118\n"
     ]
    },
    {
     "name": "stderr",
     "output_type": "stream",
     "text": [
      "100%|██████████████████████████████████████████████████████████████████████████████████████████████████████████████████████████| 30576/30576 [06:02<00:00, 84.30it/s]\n",
      "  0%|                                                                                                                                      | 0/30576 [00:00<?, ?it/s]"
     ]
    },
    {
     "name": "stdout",
     "output_type": "stream",
     "text": [
      "epochs: 38 loss: 936531.7598688225\n"
     ]
    },
    {
     "name": "stderr",
     "output_type": "stream",
     "text": [
      "100%|██████████████████████████████████████████████████████████████████████████████████████████████████████████████████████████| 30576/30576 [06:05<00:00, 83.77it/s]\n",
      "  0%|                                                                                                                                      | 0/30576 [00:00<?, ?it/s]"
     ]
    },
    {
     "name": "stdout",
     "output_type": "stream",
     "text": [
      "epochs: 39 loss: 936747.6516934503\n"
     ]
    },
    {
     "name": "stderr",
     "output_type": "stream",
     "text": [
      "100%|██████████████████████████████████████████████████████████████████████████████████████████████████████████████████████████| 30576/30576 [06:04<00:00, 83.90it/s]\n",
      "  0%|                                                                                                                                      | 0/30576 [00:00<?, ?it/s]"
     ]
    },
    {
     "name": "stdout",
     "output_type": "stream",
     "text": [
      "epochs: 40 loss: 937667.1626705304\n"
     ]
    },
    {
     "name": "stderr",
     "output_type": "stream",
     "text": [
      "100%|██████████████████████████████████████████████████████████████████████████████████████████████████████████████████████████| 30576/30576 [06:02<00:00, 84.24it/s]\n",
      "  0%|                                                                                                                                      | 0/30576 [00:00<?, ?it/s]"
     ]
    },
    {
     "name": "stdout",
     "output_type": "stream",
     "text": [
      "epochs: 41 loss: 938786.7791527082\n"
     ]
    },
    {
     "name": "stderr",
     "output_type": "stream",
     "text": [
      "100%|██████████████████████████████████████████████████████████████████████████████████████████████████████████████████████████| 30576/30576 [06:02<00:00, 84.24it/s]\n",
      "  0%|                                                                                                                                      | 0/30576 [00:00<?, ?it/s]"
     ]
    },
    {
     "name": "stdout",
     "output_type": "stream",
     "text": [
      "epochs: 42 loss: 939166.7351330591\n"
     ]
    },
    {
     "name": "stderr",
     "output_type": "stream",
     "text": [
      "100%|██████████████████████████████████████████████████████████████████████████████████████████████████████████████████████████| 30576/30576 [06:03<00:00, 84.14it/s]\n",
      "  0%|                                                                                                                                      | 0/30576 [00:00<?, ?it/s]"
     ]
    },
    {
     "name": "stdout",
     "output_type": "stream",
     "text": [
      "epochs: 43 loss: 939678.8149084472\n"
     ]
    },
    {
     "name": "stderr",
     "output_type": "stream",
     "text": [
      "100%|██████████████████████████████████████████████████████████████████████████████████████████████████████████████████████████| 30576/30576 [06:03<00:00, 84.16it/s]\n",
      "  0%|                                                                                                                                      | 0/30576 [00:00<?, ?it/s]"
     ]
    },
    {
     "name": "stdout",
     "output_type": "stream",
     "text": [
      "epochs: 44 loss: 940592.0760010383\n"
     ]
    },
    {
     "name": "stderr",
     "output_type": "stream",
     "text": [
      "100%|██████████████████████████████████████████████████████████████████████████████████████████████████████████████████████████| 30576/30576 [06:02<00:00, 84.45it/s]\n",
      "  0%|                                                                                                                                      | 0/30576 [00:00<?, ?it/s]"
     ]
    },
    {
     "name": "stdout",
     "output_type": "stream",
     "text": [
      "epochs: 45 loss: 941469.6154297973\n"
     ]
    },
    {
     "name": "stderr",
     "output_type": "stream",
     "text": [
      "100%|██████████████████████████████████████████████████████████████████████████████████████████████████████████████████████████| 30576/30576 [06:04<00:00, 83.77it/s]\n",
      "  0%|                                                                                                                                      | 0/30576 [00:00<?, ?it/s]"
     ]
    },
    {
     "name": "stdout",
     "output_type": "stream",
     "text": [
      "epochs: 46 loss: 942107.6282134634\n"
     ]
    },
    {
     "name": "stderr",
     "output_type": "stream",
     "text": [
      "100%|██████████████████████████████████████████████████████████████████████████████████████████████████████████████████████████| 30576/30576 [06:03<00:00, 84.13it/s]\n",
      "  0%|                                                                                                                                      | 0/30576 [00:00<?, ?it/s]"
     ]
    },
    {
     "name": "stdout",
     "output_type": "stream",
     "text": [
      "epochs: 47 loss: 943431.4812641239\n"
     ]
    },
    {
     "name": "stderr",
     "output_type": "stream",
     "text": [
      "100%|██████████████████████████████████████████████████████████████████████████████████████████████████████████████████████████| 30576/30576 [06:04<00:00, 83.79it/s]\n",
      "  0%|                                                                                                                                      | 0/30576 [00:00<?, ?it/s]"
     ]
    },
    {
     "name": "stdout",
     "output_type": "stream",
     "text": [
      "epochs: 48 loss: 944298.8306057726\n"
     ]
    },
    {
     "name": "stderr",
     "output_type": "stream",
     "text": [
      "100%|██████████████████████████████████████████████████████████████████████████████████████████████████████████████████████████| 30576/30576 [06:04<00:00, 83.98it/s]\n",
      "  0%|                                                                                                                                      | 0/30576 [00:00<?, ?it/s]"
     ]
    },
    {
     "name": "stdout",
     "output_type": "stream",
     "text": [
      "epochs: 49 loss: 944920.6961391004\n"
     ]
    },
    {
     "name": "stderr",
     "output_type": "stream",
     "text": [
      "100%|██████████████████████████████████████████████████████████████████████████████████████████████████████████████████████████| 30576/30576 [06:03<00:00, 84.22it/s]\n",
      "  0%|                                                                                                                                      | 0/30576 [00:00<?, ?it/s]"
     ]
    },
    {
     "name": "stdout",
     "output_type": "stream",
     "text": [
      "epochs: 50 loss: 946382.38523313\n"
     ]
    },
    {
     "name": "stderr",
     "output_type": "stream",
     "text": [
      "100%|██████████████████████████████████████████████████████████████████████████████████████████████████████████████████████████| 30576/30576 [06:03<00:00, 84.21it/s]\n",
      "  0%|                                                                                                                                      | 0/30576 [00:00<?, ?it/s]"
     ]
    },
    {
     "name": "stdout",
     "output_type": "stream",
     "text": [
      "epochs: 51 loss: 947344.2734643585\n"
     ]
    },
    {
     "name": "stderr",
     "output_type": "stream",
     "text": [
      "100%|██████████████████████████████████████████████████████████████████████████████████████████████████████████████████████████| 30576/30576 [06:04<00:00, 83.94it/s]\n",
      "  0%|                                                                                                                                      | 0/30576 [00:00<?, ?it/s]"
     ]
    },
    {
     "name": "stdout",
     "output_type": "stream",
     "text": [
      "epochs: 52 loss: 948802.8111558104\n"
     ]
    },
    {
     "name": "stderr",
     "output_type": "stream",
     "text": [
      "100%|██████████████████████████████████████████████████████████████████████████████████████████████████████████████████████████| 30576/30576 [06:03<00:00, 84.19it/s]\n",
      "  0%|                                                                                                                                      | 0/30576 [00:00<?, ?it/s]"
     ]
    },
    {
     "name": "stdout",
     "output_type": "stream",
     "text": [
      "epochs: 53 loss: 949883.3362375185\n"
     ]
    },
    {
     "name": "stderr",
     "output_type": "stream",
     "text": [
      "100%|██████████████████████████████████████████████████████████████████████████████████████████████████████████████████████████| 30576/30576 [06:04<00:00, 83.93it/s]\n",
      "  0%|                                                                                                                                      | 0/30576 [00:00<?, ?it/s]"
     ]
    },
    {
     "name": "stdout",
     "output_type": "stream",
     "text": [
      "epochs: 54 loss: 950866.7878053059\n"
     ]
    },
    {
     "name": "stderr",
     "output_type": "stream",
     "text": [
      "100%|██████████████████████████████████████████████████████████████████████████████████████████████████████████████████████████| 30576/30576 [06:03<00:00, 84.19it/s]\n",
      "  0%|                                                                                                                                      | 0/30576 [00:00<?, ?it/s]"
     ]
    },
    {
     "name": "stdout",
     "output_type": "stream",
     "text": [
      "epochs: 55 loss: 952103.6488310695\n"
     ]
    },
    {
     "name": "stderr",
     "output_type": "stream",
     "text": [
      "100%|██████████████████████████████████████████████████████████████████████████████████████████████████████████████████████████| 30576/30576 [06:04<00:00, 83.87it/s]\n",
      "  0%|                                                                                                                                      | 0/30576 [00:00<?, ?it/s]"
     ]
    },
    {
     "name": "stdout",
     "output_type": "stream",
     "text": [
      "epochs: 56 loss: 953366.6219824164\n"
     ]
    },
    {
     "name": "stderr",
     "output_type": "stream",
     "text": [
      "100%|██████████████████████████████████████████████████████████████████████████████████████████████████████████████████████████| 30576/30576 [06:03<00:00, 84.16it/s]\n",
      "  0%|                                                                                                                                      | 0/30576 [00:00<?, ?it/s]"
     ]
    },
    {
     "name": "stdout",
     "output_type": "stream",
     "text": [
      "epochs: 57 loss: 954568.0432755129\n"
     ]
    },
    {
     "name": "stderr",
     "output_type": "stream",
     "text": [
      "100%|██████████████████████████████████████████████████████████████████████████████████████████████████████████████████████████| 30576/30576 [06:04<00:00, 83.97it/s]\n",
      "  0%|                                                                                                                                      | 0/30576 [00:00<?, ?it/s]"
     ]
    },
    {
     "name": "stdout",
     "output_type": "stream",
     "text": [
      "epochs: 58 loss: 955704.1319694984\n"
     ]
    },
    {
     "name": "stderr",
     "output_type": "stream",
     "text": [
      "100%|██████████████████████████████████████████████████████████████████████████████████████████████████████████████████████████| 30576/30576 [06:05<00:00, 83.72it/s]\n",
      "  0%|                                                                                                                                      | 0/30576 [00:00<?, ?it/s]"
     ]
    },
    {
     "name": "stdout",
     "output_type": "stream",
     "text": [
      "epochs: 59 loss: 956797.0011445434\n"
     ]
    },
    {
     "name": "stderr",
     "output_type": "stream",
     "text": [
      "100%|██████████████████████████████████████████████████████████████████████████████████████████████████████████████████████████| 30576/30576 [06:03<00:00, 84.15it/s]\n",
      "  0%|                                                                                                                                      | 0/30576 [00:00<?, ?it/s]"
     ]
    },
    {
     "name": "stdout",
     "output_type": "stream",
     "text": [
      "epochs: 60 loss: 958448.3254184303\n"
     ]
    },
    {
     "name": "stderr",
     "output_type": "stream",
     "text": [
      "100%|██████████████████████████████████████████████████████████████████████████████████████████████████████████████████████████| 30576/30576 [06:04<00:00, 83.82it/s]\n",
      "  0%|                                                                                                                                      | 0/30576 [00:00<?, ?it/s]"
     ]
    },
    {
     "name": "stdout",
     "output_type": "stream",
     "text": [
      "epochs: 61 loss: 959757.6307333972\n"
     ]
    },
    {
     "name": "stderr",
     "output_type": "stream",
     "text": [
      "100%|██████████████████████████████████████████████████████████████████████████████████████████████████████████████████████████| 30576/30576 [06:04<00:00, 83.79it/s]\n",
      "  0%|                                                                                                                                      | 0/30576 [00:00<?, ?it/s]"
     ]
    },
    {
     "name": "stdout",
     "output_type": "stream",
     "text": [
      "epochs: 62 loss: 960682.0922692304\n"
     ]
    },
    {
     "name": "stderr",
     "output_type": "stream",
     "text": [
      "100%|██████████████████████████████████████████████████████████████████████████████████████████████████████████████████████████| 30576/30576 [06:04<00:00, 83.84it/s]\n",
      "  0%|                                                                                                                                      | 0/30576 [00:00<?, ?it/s]"
     ]
    },
    {
     "name": "stdout",
     "output_type": "stream",
     "text": [
      "epochs: 63 loss: 962270.8077322339\n"
     ]
    },
    {
     "name": "stderr",
     "output_type": "stream",
     "text": [
      "100%|██████████████████████████████████████████████████████████████████████████████████████████████████████████████████████████| 30576/30576 [06:04<00:00, 83.88it/s]\n",
      "  0%|                                                                                                                                      | 0/30576 [00:00<?, ?it/s]"
     ]
    },
    {
     "name": "stdout",
     "output_type": "stream",
     "text": [
      "epochs: 64 loss: 963781.7215412247\n"
     ]
    },
    {
     "name": "stderr",
     "output_type": "stream",
     "text": [
      "100%|██████████████████████████████████████████████████████████████████████████████████████████████████████████████████████████| 30576/30576 [06:02<00:00, 84.36it/s]\n",
      "  0%|                                                                                                                                      | 0/30576 [00:00<?, ?it/s]"
     ]
    },
    {
     "name": "stdout",
     "output_type": "stream",
     "text": [
      "epochs: 65 loss: 965590.737666112\n"
     ]
    },
    {
     "name": "stderr",
     "output_type": "stream",
     "text": [
      "100%|██████████████████████████████████████████████████████████████████████████████████████████████████████████████████████████| 30576/30576 [06:06<00:00, 83.48it/s]\n",
      "  0%|                                                                                                                                      | 0/30576 [00:00<?, ?it/s]"
     ]
    },
    {
     "name": "stdout",
     "output_type": "stream",
     "text": [
      "epochs: 66 loss: 966706.0359033962\n"
     ]
    },
    {
     "name": "stderr",
     "output_type": "stream",
     "text": [
      "100%|██████████████████████████████████████████████████████████████████████████████████████████████████████████████████████████| 30576/30576 [06:03<00:00, 84.04it/s]\n",
      "  0%|                                                                                                                                      | 0/30576 [00:00<?, ?it/s]"
     ]
    },
    {
     "name": "stdout",
     "output_type": "stream",
     "text": [
      "epochs: 67 loss: 968086.4833003506\n"
     ]
    },
    {
     "name": "stderr",
     "output_type": "stream",
     "text": [
      "100%|██████████████████████████████████████████████████████████████████████████████████████████████████████████████████████████| 30576/30576 [06:03<00:00, 84.01it/s]\n",
      "  0%|                                                                                                                                      | 0/30576 [00:00<?, ?it/s]"
     ]
    },
    {
     "name": "stdout",
     "output_type": "stream",
     "text": [
      "epochs: 68 loss: 969429.8199848583\n"
     ]
    },
    {
     "name": "stderr",
     "output_type": "stream",
     "text": [
      "100%|██████████████████████████████████████████████████████████████████████████████████████████████████████████████████████████| 30576/30576 [06:05<00:00, 83.55it/s]\n",
      "  0%|                                                                                                                                      | 0/30576 [00:00<?, ?it/s]"
     ]
    },
    {
     "name": "stdout",
     "output_type": "stream",
     "text": [
      "epochs: 69 loss: 970358.0690021429\n"
     ]
    },
    {
     "name": "stderr",
     "output_type": "stream",
     "text": [
      "100%|██████████████████████████████████████████████████████████████████████████████████████████████████████████████████████████| 30576/30576 [06:03<00:00, 84.23it/s]\n",
      "  0%|                                                                                                                                      | 0/30576 [00:00<?, ?it/s]"
     ]
    },
    {
     "name": "stdout",
     "output_type": "stream",
     "text": [
      "epochs: 70 loss: 972815.8709196534\n"
     ]
    },
    {
     "name": "stderr",
     "output_type": "stream",
     "text": [
      "100%|██████████████████████████████████████████████████████████████████████████████████████████████████████████████████████████| 30576/30576 [06:04<00:00, 83.96it/s]\n",
      "  0%|                                                                                                                                      | 0/30576 [00:00<?, ?it/s]"
     ]
    },
    {
     "name": "stdout",
     "output_type": "stream",
     "text": [
      "epochs: 71 loss: 973619.7389048989\n"
     ]
    },
    {
     "name": "stderr",
     "output_type": "stream",
     "text": [
      "100%|██████████████████████████████████████████████████████████████████████████████████████████████████████████████████████████| 30576/30576 [06:04<00:00, 83.85it/s]\n",
      "  0%|                                                                                                                                      | 0/30576 [00:00<?, ?it/s]"
     ]
    },
    {
     "name": "stdout",
     "output_type": "stream",
     "text": [
      "epochs: 72 loss: 975704.5264159138\n"
     ]
    },
    {
     "name": "stderr",
     "output_type": "stream",
     "text": [
      "100%|██████████████████████████████████████████████████████████████████████████████████████████████████████████████████████████| 30576/30576 [06:04<00:00, 83.86it/s]\n",
      "  0%|                                                                                                                                      | 0/30576 [00:00<?, ?it/s]"
     ]
    },
    {
     "name": "stdout",
     "output_type": "stream",
     "text": [
      "epochs: 73 loss: 975940.2903028037\n"
     ]
    },
    {
     "name": "stderr",
     "output_type": "stream",
     "text": [
      "100%|██████████████████████████████████████████████████████████████████████████████████████████████████████████████████████████| 30576/30576 [06:03<00:00, 84.10it/s]\n",
      "  0%|                                                                                                                                      | 0/30576 [00:00<?, ?it/s]"
     ]
    },
    {
     "name": "stdout",
     "output_type": "stream",
     "text": [
      "epochs: 74 loss: 977561.700340425\n"
     ]
    },
    {
     "name": "stderr",
     "output_type": "stream",
     "text": [
      "100%|██████████████████████████████████████████████████████████████████████████████████████████████████████████████████████████| 30576/30576 [06:03<00:00, 84.13it/s]\n",
      "  0%|                                                                                                                                      | 0/30576 [00:00<?, ?it/s]"
     ]
    },
    {
     "name": "stdout",
     "output_type": "stream",
     "text": [
      "epochs: 75 loss: 979318.74898508\n"
     ]
    },
    {
     "name": "stderr",
     "output_type": "stream",
     "text": [
      "100%|██████████████████████████████████████████████████████████████████████████████████████████████████████████████████████████| 30576/30576 [06:07<00:00, 83.25it/s]\n",
      "  0%|                                                                                                                                      | 0/30576 [00:00<?, ?it/s]"
     ]
    },
    {
     "name": "stdout",
     "output_type": "stream",
     "text": [
      "epochs: 76 loss: 980859.937136044\n"
     ]
    },
    {
     "name": "stderr",
     "output_type": "stream",
     "text": [
      "100%|██████████████████████████████████████████████████████████████████████████████████████████████████████████████████████████| 30576/30576 [06:04<00:00, 83.87it/s]\n",
      "  0%|                                                                                                                                      | 0/30576 [00:00<?, ?it/s]"
     ]
    },
    {
     "name": "stdout",
     "output_type": "stream",
     "text": [
      "epochs: 77 loss: 982720.382575027\n"
     ]
    },
    {
     "name": "stderr",
     "output_type": "stream",
     "text": [
      "100%|██████████████████████████████████████████████████████████████████████████████████████████████████████████████████████████| 30576/30576 [06:02<00:00, 84.33it/s]\n",
      "  0%|                                                                                                                                      | 0/30576 [00:00<?, ?it/s]"
     ]
    },
    {
     "name": "stdout",
     "output_type": "stream",
     "text": [
      "epochs: 78 loss: 983573.7585143582\n"
     ]
    },
    {
     "name": "stderr",
     "output_type": "stream",
     "text": [
      "100%|██████████████████████████████████████████████████████████████████████████████████████████████████████████████████████████| 30576/30576 [06:04<00:00, 83.87it/s]\n",
      "  0%|                                                                                                                                      | 0/30576 [00:00<?, ?it/s]"
     ]
    },
    {
     "name": "stdout",
     "output_type": "stream",
     "text": [
      "epochs: 79 loss: 985088.8001649916\n"
     ]
    },
    {
     "name": "stderr",
     "output_type": "stream",
     "text": [
      "100%|██████████████████████████████████████████████████████████████████████████████████████████████████████████████████████████| 30576/30576 [06:03<00:00, 84.09it/s]\n",
      "  0%|                                                                                                                                      | 0/30576 [00:00<?, ?it/s]"
     ]
    },
    {
     "name": "stdout",
     "output_type": "stream",
     "text": [
      "epochs: 80 loss: 986931.2393539496\n"
     ]
    },
    {
     "name": "stderr",
     "output_type": "stream",
     "text": [
      "100%|██████████████████████████████████████████████████████████████████████████████████████████████████████████████████████████| 30576/30576 [06:03<00:00, 84.12it/s]\n",
      "  0%|                                                                                                                                      | 0/30576 [00:00<?, ?it/s]"
     ]
    },
    {
     "name": "stdout",
     "output_type": "stream",
     "text": [
      "epochs: 81 loss: 988474.9604199243\n"
     ]
    },
    {
     "name": "stderr",
     "output_type": "stream",
     "text": [
      "100%|██████████████████████████████████████████████████████████████████████████████████████████████████████████████████████████| 30576/30576 [06:04<00:00, 83.91it/s]\n",
      "  0%|                                                                                                                                      | 0/30576 [00:00<?, ?it/s]"
     ]
    },
    {
     "name": "stdout",
     "output_type": "stream",
     "text": [
      "epochs: 82 loss: 989318.5486798336\n"
     ]
    },
    {
     "name": "stderr",
     "output_type": "stream",
     "text": [
      "100%|██████████████████████████████████████████████████████████████████████████████████████████████████████████████████████████| 30576/30576 [06:02<00:00, 84.27it/s]\n",
      "  0%|                                                                                                                                      | 0/30576 [00:00<?, ?it/s]"
     ]
    },
    {
     "name": "stdout",
     "output_type": "stream",
     "text": [
      "epochs: 83 loss: 991111.266873853\n"
     ]
    },
    {
     "name": "stderr",
     "output_type": "stream",
     "text": [
      "100%|██████████████████████████████████████████████████████████████████████████████████████████████████████████████████████████| 30576/30576 [06:04<00:00, 83.99it/s]\n",
      "  0%|                                                                                                                                      | 0/30576 [00:00<?, ?it/s]"
     ]
    },
    {
     "name": "stdout",
     "output_type": "stream",
     "text": [
      "epochs: 84 loss: 993292.9881790879\n"
     ]
    },
    {
     "name": "stderr",
     "output_type": "stream",
     "text": [
      "100%|██████████████████████████████████████████████████████████████████████████████████████████████████████████████████████████| 30576/30576 [06:03<00:00, 84.05it/s]\n",
      "  0%|                                                                                                                                      | 0/30576 [00:00<?, ?it/s]"
     ]
    },
    {
     "name": "stdout",
     "output_type": "stream",
     "text": [
      "epochs: 85 loss: 994127.7638110733\n"
     ]
    },
    {
     "name": "stderr",
     "output_type": "stream",
     "text": [
      "100%|██████████████████████████████████████████████████████████████████████████████████████████████████████████████████████████| 30576/30576 [06:05<00:00, 83.57it/s]\n",
      "  0%|                                                                                                                                      | 0/30576 [00:00<?, ?it/s]"
     ]
    },
    {
     "name": "stdout",
     "output_type": "stream",
     "text": [
      "epochs: 86 loss: 995490.5179968962\n"
     ]
    },
    {
     "name": "stderr",
     "output_type": "stream",
     "text": [
      "100%|██████████████████████████████████████████████████████████████████████████████████████████████████████████████████████████| 30576/30576 [06:04<00:00, 83.90it/s]\n",
      "  0%|                                                                                                                                      | 0/30576 [00:00<?, ?it/s]"
     ]
    },
    {
     "name": "stdout",
     "output_type": "stream",
     "text": [
      "epochs: 87 loss: 996805.1375173223\n"
     ]
    },
    {
     "name": "stderr",
     "output_type": "stream",
     "text": [
      "100%|██████████████████████████████████████████████████████████████████████████████████████████████████████████████████████████| 30576/30576 [06:03<00:00, 84.05it/s]\n",
      "  0%|                                                                                                                                      | 0/30576 [00:00<?, ?it/s]"
     ]
    },
    {
     "name": "stdout",
     "output_type": "stream",
     "text": [
      "epochs: 88 loss: 998127.6402328938\n"
     ]
    },
    {
     "name": "stderr",
     "output_type": "stream",
     "text": [
      "100%|██████████████████████████████████████████████████████████████████████████████████████████████████████████████████████████| 30576/30576 [06:05<00:00, 83.74it/s]\n",
      "  0%|                                                                                                                                      | 0/30576 [00:00<?, ?it/s]"
     ]
    },
    {
     "name": "stdout",
     "output_type": "stream",
     "text": [
      "epochs: 89 loss: 1000381.5980262776\n"
     ]
    },
    {
     "name": "stderr",
     "output_type": "stream",
     "text": [
      "100%|██████████████████████████████████████████████████████████████████████████████████████████████████████████████████████████| 30576/30576 [06:03<00:00, 84.05it/s]\n",
      "  0%|                                                                                                                                      | 0/30576 [00:00<?, ?it/s]"
     ]
    },
    {
     "name": "stdout",
     "output_type": "stream",
     "text": [
      "epochs: 90 loss: 1002004.591459822\n"
     ]
    },
    {
     "name": "stderr",
     "output_type": "stream",
     "text": [
      "100%|██████████████████████████████████████████████████████████████████████████████████████████████████████████████████████████| 30576/30576 [06:05<00:00, 83.74it/s]\n",
      "  0%|                                                                                                                                      | 0/30576 [00:00<?, ?it/s]"
     ]
    },
    {
     "name": "stdout",
     "output_type": "stream",
     "text": [
      "epochs: 91 loss: 1003491.7289202318\n"
     ]
    },
    {
     "name": "stderr",
     "output_type": "stream",
     "text": [
      "100%|██████████████████████████████████████████████████████████████████████████████████████████████████████████████████████████| 30576/30576 [06:04<00:00, 83.89it/s]\n",
      "  0%|                                                                                                                                      | 0/30576 [00:00<?, ?it/s]"
     ]
    },
    {
     "name": "stdout",
     "output_type": "stream",
     "text": [
      "epochs: 92 loss: 1005355.6007747591\n"
     ]
    },
    {
     "name": "stderr",
     "output_type": "stream",
     "text": [
      "100%|██████████████████████████████████████████████████████████████████████████████████████████████████████████████████████████| 30576/30576 [06:04<00:00, 83.98it/s]\n",
      "  0%|                                                                                                                                      | 0/30576 [00:00<?, ?it/s]"
     ]
    },
    {
     "name": "stdout",
     "output_type": "stream",
     "text": [
      "epochs: 93 loss: 1006874.6056019841\n"
     ]
    },
    {
     "name": "stderr",
     "output_type": "stream",
     "text": [
      "100%|██████████████████████████████████████████████████████████████████████████████████████████████████████████████████████████| 30576/30576 [06:04<00:00, 83.88it/s]\n",
      "  0%|                                                                                                                                      | 0/30576 [00:00<?, ?it/s]"
     ]
    },
    {
     "name": "stdout",
     "output_type": "stream",
     "text": [
      "epochs: 94 loss: 1008450.3348468888\n"
     ]
    },
    {
     "name": "stderr",
     "output_type": "stream",
     "text": [
      "100%|██████████████████████████████████████████████████████████████████████████████████████████████████████████████████████████| 30576/30576 [06:03<00:00, 84.05it/s]\n",
      "  0%|                                                                                                                                      | 0/30576 [00:00<?, ?it/s]"
     ]
    },
    {
     "name": "stdout",
     "output_type": "stream",
     "text": [
      "epochs: 95 loss: 1009863.6793220915\n"
     ]
    },
    {
     "name": "stderr",
     "output_type": "stream",
     "text": [
      "100%|██████████████████████████████████████████████████████████████████████████████████████████████████████████████████████████| 30576/30576 [06:06<00:00, 83.53it/s]\n",
      "  0%|                                                                                                                                      | 0/30576 [00:00<?, ?it/s]"
     ]
    },
    {
     "name": "stdout",
     "output_type": "stream",
     "text": [
      "epochs: 96 loss: 1011239.0977101822\n"
     ]
    },
    {
     "name": "stderr",
     "output_type": "stream",
     "text": [
      "100%|██████████████████████████████████████████████████████████████████████████████████████████████████████████████████████████| 30576/30576 [06:04<00:00, 83.92it/s]\n",
      "  0%|                                                                                                                                      | 0/30576 [00:00<?, ?it/s]"
     ]
    },
    {
     "name": "stdout",
     "output_type": "stream",
     "text": [
      "epochs: 97 loss: 1013059.1317026038\n"
     ]
    },
    {
     "name": "stderr",
     "output_type": "stream",
     "text": [
      "100%|██████████████████████████████████████████████████████████████████████████████████████████████████████████████████████████| 30576/30576 [06:03<00:00, 84.06it/s]\n",
      "  0%|                                                                                                                                      | 0/30576 [00:00<?, ?it/s]"
     ]
    },
    {
     "name": "stdout",
     "output_type": "stream",
     "text": [
      "epochs: 98 loss: 1014182.6367868412\n"
     ]
    },
    {
     "name": "stderr",
     "output_type": "stream",
     "text": [
      "100%|██████████████████████████████████████████████████████████████████████████████████████████████████████████████████████████| 30576/30576 [06:04<00:00, 83.85it/s]\n",
      "  0%|                                                                                                                                      | 0/30576 [00:00<?, ?it/s]"
     ]
    },
    {
     "name": "stdout",
     "output_type": "stream",
     "text": [
      "epochs: 99 loss: 1015998.9731388679\n"
     ]
    },
    {
     "name": "stderr",
     "output_type": "stream",
     "text": [
      "100%|██████████████████████████████████████████████████████████████████████████████████████████████████████████████████████████| 30576/30576 [06:03<00:00, 84.07it/s]\n",
      "  0%|                                                                                                                                      | 0/30576 [00:00<?, ?it/s]"
     ]
    },
    {
     "name": "stdout",
     "output_type": "stream",
     "text": [
      "epochs: 100 loss: 1017410.9422584964\n"
     ]
    },
    {
     "name": "stderr",
     "output_type": "stream",
     "text": [
      "100%|██████████████████████████████████████████████████████████████████████████████████████████████████████████████████████████| 30576/30576 [06:04<00:00, 83.78it/s]\n"
     ]
    },
    {
     "name": "stdout",
     "output_type": "stream",
     "text": [
      "epochs: 101 loss: 1019598.057395708\n"
     ]
    },
    {
     "name": "stderr",
     "output_type": "stream",
     "text": [
      "100%|██████████████████████████████████████████████████████████████████████████████████████████████████████████████████████████| 30576/30576 [06:05<00:00, 83.60it/s]\n",
      "  0%|                                                                                                                                      | 0/30576 [00:00<?, ?it/s]"
     ]
    },
    {
     "name": "stdout",
     "output_type": "stream",
     "text": [
      "epochs: 102 loss: 1020659.1769813882\n"
     ]
    },
    {
     "name": "stderr",
     "output_type": "stream",
     "text": [
      "100%|██████████████████████████████████████████████████████████████████████████████████████████████████████████████████████████| 30576/30576 [06:03<00:00, 84.09it/s]\n",
      "  0%|                                                                                                                                      | 0/30576 [00:00<?, ?it/s]"
     ]
    },
    {
     "name": "stdout",
     "output_type": "stream",
     "text": [
      "epochs: 103 loss: 1021872.4971453879\n"
     ]
    },
    {
     "name": "stderr",
     "output_type": "stream",
     "text": [
      "100%|██████████████████████████████████████████████████████████████████████████████████████████████████████████████████████████| 30576/30576 [06:03<00:00, 84.07it/s]\n",
      "  0%|                                                                                                                                      | 0/30576 [00:00<?, ?it/s]"
     ]
    },
    {
     "name": "stdout",
     "output_type": "stream",
     "text": [
      "epochs: 104 loss: 1023455.5456489574\n"
     ]
    },
    {
     "name": "stderr",
     "output_type": "stream",
     "text": [
      "100%|██████████████████████████████████████████████████████████████████████████████████████████████████████████████████████████| 30576/30576 [06:04<00:00, 83.90it/s]\n",
      "  0%|                                                                                                                                      | 0/30576 [00:00<?, ?it/s]"
     ]
    },
    {
     "name": "stdout",
     "output_type": "stream",
     "text": [
      "epochs: 105 loss: 1025673.689188927\n"
     ]
    },
    {
     "name": "stderr",
     "output_type": "stream",
     "text": [
      "100%|██████████████████████████████████████████████████████████████████████████████████████████████████████████████████████████| 30576/30576 [06:04<00:00, 83.88it/s]\n",
      "  0%|                                                                                                                                      | 0/30576 [00:00<?, ?it/s]"
     ]
    },
    {
     "name": "stdout",
     "output_type": "stream",
     "text": [
      "epochs: 106 loss: 1026965.2028413309\n"
     ]
    },
    {
     "name": "stderr",
     "output_type": "stream",
     "text": [
      "100%|██████████████████████████████████████████████████████████████████████████████████████████████████████████████████████████| 30576/30576 [06:04<00:00, 83.98it/s]\n",
      "  0%|                                                                                                                                      | 0/30576 [00:00<?, ?it/s]"
     ]
    },
    {
     "name": "stdout",
     "output_type": "stream",
     "text": [
      "epochs: 107 loss: 1028980.0045603663\n"
     ]
    },
    {
     "name": "stderr",
     "output_type": "stream",
     "text": [
      "100%|██████████████████████████████████████████████████████████████████████████████████████████████████████████████████████████| 30576/30576 [06:03<00:00, 84.04it/s]\n",
      "  0%|                                                                                                                                      | 0/30576 [00:00<?, ?it/s]"
     ]
    },
    {
     "name": "stdout",
     "output_type": "stream",
     "text": [
      "epochs: 108 loss: 1030480.0829437479\n"
     ]
    },
    {
     "name": "stderr",
     "output_type": "stream",
     "text": [
      "100%|██████████████████████████████████████████████████████████████████████████████████████████████████████████████████████████| 30576/30576 [06:04<00:00, 83.87it/s]\n",
      "  0%|                                                                                                                                      | 0/30576 [00:00<?, ?it/s]"
     ]
    },
    {
     "name": "stdout",
     "output_type": "stream",
     "text": [
      "epochs: 109 loss: 1033094.1686693822\n"
     ]
    },
    {
     "name": "stderr",
     "output_type": "stream",
     "text": [
      "100%|██████████████████████████████████████████████████████████████████████████████████████████████████████████████████████████| 30576/30576 [06:04<00:00, 83.82it/s]\n",
      "  0%|                                                                                                                                      | 0/30576 [00:00<?, ?it/s]"
     ]
    },
    {
     "name": "stdout",
     "output_type": "stream",
     "text": [
      "epochs: 110 loss: 1035108.5499915621\n"
     ]
    },
    {
     "name": "stderr",
     "output_type": "stream",
     "text": [
      "100%|██████████████████████████████████████████████████████████████████████████████████████████████████████████████████████████| 30576/30576 [06:04<00:00, 83.78it/s]\n",
      "  0%|                                                                                                                                      | 0/30576 [00:00<?, ?it/s]"
     ]
    },
    {
     "name": "stdout",
     "output_type": "stream",
     "text": [
      "epochs: 111 loss: 1037645.1024365922\n"
     ]
    },
    {
     "name": "stderr",
     "output_type": "stream",
     "text": [
      "100%|██████████████████████████████████████████████████████████████████████████████████████████████████████████████████████████| 30576/30576 [06:04<00:00, 83.84it/s]\n",
      "  0%|                                                                                                                                      | 0/30576 [00:00<?, ?it/s]"
     ]
    },
    {
     "name": "stdout",
     "output_type": "stream",
     "text": [
      "epochs: 112 loss: 1039506.786244422\n"
     ]
    },
    {
     "name": "stderr",
     "output_type": "stream",
     "text": [
      "100%|██████████████████████████████████████████████████████████████████████████████████████████████████████████████████████████| 30576/30576 [06:04<00:00, 84.00it/s]\n",
      "  0%|                                                                                                                                      | 0/30576 [00:00<?, ?it/s]"
     ]
    },
    {
     "name": "stdout",
     "output_type": "stream",
     "text": [
      "epochs: 113 loss: 1041783.4793056078\n"
     ]
    },
    {
     "name": "stderr",
     "output_type": "stream",
     "text": [
      "100%|██████████████████████████████████████████████████████████████████████████████████████████████████████████████████████████| 30576/30576 [06:04<00:00, 83.96it/s]\n",
      "  0%|                                                                                                                                      | 0/30576 [00:00<?, ?it/s]"
     ]
    },
    {
     "name": "stdout",
     "output_type": "stream",
     "text": [
      "epochs: 114 loss: 1044343.0751420549\n"
     ]
    },
    {
     "name": "stderr",
     "output_type": "stream",
     "text": [
      "100%|██████████████████████████████████████████████████████████████████████████████████████████████████████████████████████████| 30576/30576 [06:05<00:00, 83.73it/s]\n",
      "  0%|                                                                                                                                      | 0/30576 [00:00<?, ?it/s]"
     ]
    },
    {
     "name": "stdout",
     "output_type": "stream",
     "text": [
      "epochs: 115 loss: 1047014.5237040354\n"
     ]
    },
    {
     "name": "stderr",
     "output_type": "stream",
     "text": [
      "100%|██████████████████████████████████████████████████████████████████████████████████████████████████████████████████████████| 30576/30576 [06:17<00:00, 81.07it/s]\n",
      "  0%|                                                                                                                                      | 0/30576 [00:00<?, ?it/s]"
     ]
    },
    {
     "name": "stdout",
     "output_type": "stream",
     "text": [
      "epochs: 116 loss: 1050501.7644473643\n"
     ]
    },
    {
     "name": "stderr",
     "output_type": "stream",
     "text": [
      " 59%|███████████████████████████████████████████████████████████████████████▊                                                  | 17988/30576 [03:36<02:57, 71.10it/s]"
     ]
    },
    {
     "ename": "KeyboardInterrupt",
     "evalue": "",
     "output_type": "error",
     "traceback": [
      "\u001b[1;31m---------------------------------------------------------------------------\u001b[0m",
      "\u001b[1;31mKeyboardInterrupt\u001b[0m                         Traceback (most recent call last)",
      "\u001b[1;32m<ipython-input-7-59da196fc63c>\u001b[0m in \u001b[0;36m<module>\u001b[1;34m\u001b[0m\n\u001b[0;32m      1\u001b[0m \u001b[0mmodel\u001b[0m \u001b[1;33m=\u001b[0m \u001b[0mSkipgram\u001b[0m\u001b[1;33m(\u001b[0m\u001b[1;36m100\u001b[0m\u001b[1;33m,\u001b[0m \u001b[0mlen\u001b[0m\u001b[1;33m(\u001b[0m\u001b[0mtoken_index\u001b[0m\u001b[1;33m)\u001b[0m \u001b[1;33m+\u001b[0m \u001b[1;36m1\u001b[0m\u001b[1;33m,\u001b[0m \u001b[0msampling_table\u001b[0m\u001b[1;33m)\u001b[0m\u001b[1;33m\u001b[0m\u001b[1;33m\u001b[0m\u001b[0m\n\u001b[1;32m----> 2\u001b[1;33m \u001b[0mmodel\u001b[0m\u001b[1;33m.\u001b[0m\u001b[0mfit\u001b[0m\u001b[1;33m(\u001b[0m\u001b[0minputs\u001b[0m\u001b[1;33m,\u001b[0m \u001b[0moutputs\u001b[0m\u001b[1;33m,\u001b[0m \u001b[1;36m0.001\u001b[0m\u001b[1;33m,\u001b[0m \u001b[1;36m300\u001b[0m\u001b[1;33m,\u001b[0m \u001b[1;36m200\u001b[0m\u001b[1;33m)\u001b[0m\u001b[1;33m\u001b[0m\u001b[1;33m\u001b[0m\u001b[0m\n\u001b[0m",
      "\u001b[1;32m<ipython-input-6-069688016055>\u001b[0m in \u001b[0;36mfit\u001b[1;34m(self, model_inputs, model_outputs, lr, epochs, num_negative_samples)\u001b[0m\n\u001b[0;32m     42\u001b[0m                 \u001b[0mmodel_input\u001b[0m\u001b[1;33m[\u001b[0m\u001b[0mmodel_inputs\u001b[0m\u001b[1;33m[\u001b[0m\u001b[0mi\u001b[0m\u001b[1;33m]\u001b[0m\u001b[1;33m]\u001b[0m \u001b[1;33m=\u001b[0m \u001b[1;36m1.0\u001b[0m\u001b[1;33m\u001b[0m\u001b[1;33m\u001b[0m\u001b[0m\n\u001b[0;32m     43\u001b[0m                 \u001b[0mself\u001b[0m\u001b[1;33m.\u001b[0m\u001b[0m_forward_pass\u001b[0m\u001b[1;33m(\u001b[0m\u001b[0mmodel_input\u001b[0m\u001b[1;33m=\u001b[0m\u001b[0mmodel_input\u001b[0m\u001b[1;33m)\u001b[0m\u001b[1;33m\u001b[0m\u001b[1;33m\u001b[0m\u001b[0m\n\u001b[1;32m---> 44\u001b[1;33m                 \u001b[0msig_h2o\u001b[0m\u001b[1;33m,\u001b[0m \u001b[0msig_h2k\u001b[0m \u001b[1;33m=\u001b[0m \u001b[0mself\u001b[0m\u001b[1;33m.\u001b[0m\u001b[0m_backward_pass\u001b[0m\u001b[1;33m(\u001b[0m\u001b[0mmodel_input\u001b[0m\u001b[1;33m,\u001b[0m \u001b[0mmodel_outputs\u001b[0m\u001b[1;33m[\u001b[0m\u001b[0mi\u001b[0m\u001b[1;33m]\u001b[0m\u001b[1;33m,\u001b[0m \u001b[0mlr\u001b[0m\u001b[1;33m,\u001b[0m \u001b[0mnum_negative_samples\u001b[0m\u001b[1;33m)\u001b[0m\u001b[1;33m\u001b[0m\u001b[1;33m\u001b[0m\u001b[0m\n\u001b[0m\u001b[0;32m     45\u001b[0m                 \u001b[0mloss\u001b[0m \u001b[1;33m+=\u001b[0m \u001b[1;33m-\u001b[0m\u001b[1;36m1\u001b[0m \u001b[1;33m*\u001b[0m \u001b[0msum\u001b[0m\u001b[1;33m(\u001b[0m\u001b[0mnp\u001b[0m\u001b[1;33m.\u001b[0m\u001b[0mlog\u001b[0m\u001b[1;33m(\u001b[0m\u001b[0msig_h2o\u001b[0m\u001b[1;33m)\u001b[0m\u001b[1;33m)\u001b[0m\u001b[1;33m\u001b[0m\u001b[1;33m\u001b[0m\u001b[0m\n\u001b[0;32m     46\u001b[0m                 \u001b[0mloss\u001b[0m \u001b[1;33m+=\u001b[0m \u001b[1;33m-\u001b[0m\u001b[1;36m1\u001b[0m \u001b[1;33m*\u001b[0m \u001b[0msum\u001b[0m\u001b[1;33m(\u001b[0m\u001b[0mnp\u001b[0m\u001b[1;33m.\u001b[0m\u001b[0mlog\u001b[0m\u001b[1;33m(\u001b[0m\u001b[0msig_h2k\u001b[0m\u001b[1;33m)\u001b[0m\u001b[1;33m)\u001b[0m\u001b[1;33m\u001b[0m\u001b[1;33m\u001b[0m\u001b[0m\n",
      "\u001b[1;32m<ipython-input-6-069688016055>\u001b[0m in \u001b[0;36m_backward_pass\u001b[1;34m(self, model_input, model_output, lr, num_negative_samples)\u001b[0m\n\u001b[0;32m     20\u001b[0m         \u001b[0mdelta_j_h2o\u001b[0m \u001b[1;33m=\u001b[0m \u001b[0msig_h2o\u001b[0m \u001b[1;33m-\u001b[0m \u001b[1;36m1\u001b[0m\u001b[1;33m\u001b[0m\u001b[1;33m\u001b[0m\u001b[0m\n\u001b[0;32m     21\u001b[0m         \u001b[0mdelta_j_h2k\u001b[0m \u001b[1;33m=\u001b[0m \u001b[1;36m1\u001b[0m \u001b[1;33m-\u001b[0m \u001b[0msig_h2k\u001b[0m\u001b[1;33m\u001b[0m\u001b[1;33m\u001b[0m\u001b[0m\n\u001b[1;32m---> 22\u001b[1;33m         \u001b[0mself\u001b[0m\u001b[1;33m.\u001b[0m\u001b[0mw1\u001b[0m \u001b[1;33m-=\u001b[0m \u001b[0mnp\u001b[0m\u001b[1;33m.\u001b[0m\u001b[0mdot\u001b[0m\u001b[1;33m(\u001b[0m\u001b[0mmodel_input\u001b[0m\u001b[1;33m,\u001b[0m \u001b[1;33m(\u001b[0m\u001b[0msum\u001b[0m\u001b[1;33m(\u001b[0m\u001b[0mdelta_j_h2o\u001b[0m\u001b[1;33m)\u001b[0m \u001b[1;33m+\u001b[0m \u001b[0msum\u001b[0m\u001b[1;33m(\u001b[0m\u001b[0mdelta_j_h2k\u001b[0m\u001b[1;33m)\u001b[0m\u001b[1;33m)\u001b[0m \u001b[1;33m*\u001b[0m \u001b[0mself\u001b[0m\u001b[1;33m.\u001b[0m\u001b[0mw2\u001b[0m\u001b[1;33m)\u001b[0m \u001b[1;33m*\u001b[0m \u001b[0mlr\u001b[0m\u001b[1;33m\u001b[0m\u001b[1;33m\u001b[0m\u001b[0m\n\u001b[0m\u001b[0;32m     23\u001b[0m         \u001b[0mself\u001b[0m\u001b[1;33m.\u001b[0m\u001b[0mw2\u001b[0m\u001b[1;33m[\u001b[0m\u001b[0mmodel_output\u001b[0m\u001b[1;33m]\u001b[0m \u001b[1;33m-=\u001b[0m \u001b[0mdelta_j_h2o\u001b[0m\u001b[1;33m.\u001b[0m\u001b[0mreshape\u001b[0m\u001b[1;33m(\u001b[0m\u001b[0mlen\u001b[0m\u001b[1;33m(\u001b[0m\u001b[0mdelta_j_h2o\u001b[0m\u001b[1;33m)\u001b[0m\u001b[1;33m,\u001b[0m \u001b[1;36m1\u001b[0m\u001b[1;33m)\u001b[0m \u001b[1;33m*\u001b[0m \u001b[0mself\u001b[0m\u001b[1;33m.\u001b[0m\u001b[0mh1\u001b[0m \u001b[1;33m*\u001b[0m \u001b[0mlr\u001b[0m\u001b[1;33m\u001b[0m\u001b[1;33m\u001b[0m\u001b[0m\n\u001b[0;32m     24\u001b[0m         \u001b[0mself\u001b[0m\u001b[1;33m.\u001b[0m\u001b[0mw2\u001b[0m\u001b[1;33m[\u001b[0m\u001b[0mnegative_samples\u001b[0m\u001b[1;33m]\u001b[0m \u001b[1;33m-=\u001b[0m \u001b[0mdelta_j_h2k\u001b[0m\u001b[1;33m.\u001b[0m\u001b[0mreshape\u001b[0m\u001b[1;33m(\u001b[0m\u001b[0mlen\u001b[0m\u001b[1;33m(\u001b[0m\u001b[0mdelta_j_h2k\u001b[0m\u001b[1;33m)\u001b[0m\u001b[1;33m,\u001b[0m \u001b[1;36m1\u001b[0m\u001b[1;33m)\u001b[0m \u001b[1;33m*\u001b[0m \u001b[0mself\u001b[0m\u001b[1;33m.\u001b[0m\u001b[0mh1\u001b[0m \u001b[1;33m*\u001b[0m \u001b[0mlr\u001b[0m\u001b[1;33m\u001b[0m\u001b[1;33m\u001b[0m\u001b[0m\n",
      "\u001b[1;32m<__array_function__ internals>\u001b[0m in \u001b[0;36mdot\u001b[1;34m(*args, **kwargs)\u001b[0m\n",
      "\u001b[1;31mKeyboardInterrupt\u001b[0m: "
     ]
    }
   ],
   "source": [
    "model = Skipgram(100, len(token_index) + 1, sampling_table)\n",
    "model.fit(inputs, outputs, 0.001, 300, 200)"
   ]
  },
  {
   "cell_type": "code",
   "execution_count": null,
   "metadata": {},
   "outputs": [],
   "source": [
    "model.most_similar(\"coup\", token_index)"
   ]
  },
  {
   "cell_type": "code",
   "execution_count": null,
   "metadata": {},
   "outputs": [],
   "source": [
    "token_index"
   ]
  },
  {
   "cell_type": "code",
   "execution_count": null,
   "metadata": {},
   "outputs": [],
   "source": []
  }
 ],
 "metadata": {
  "kernelspec": {
   "display_name": "Python 3",
   "language": "python",
   "name": "python3"
  },
  "language_info": {
   "codemirror_mode": {
    "name": "ipython",
    "version": 3
   },
   "file_extension": ".py",
   "mimetype": "text/x-python",
   "name": "python",
   "nbconvert_exporter": "python",
   "pygments_lexer": "ipython3",
   "version": "3.6.7"
  }
 },
 "nbformat": 4,
 "nbformat_minor": 2
}
