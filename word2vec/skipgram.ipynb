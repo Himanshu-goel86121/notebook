{
 "cells": [
  {
   "cell_type": "code",
   "execution_count": 1,
   "metadata": {},
   "outputs": [
    {
     "name": "stderr",
     "output_type": "stream",
     "text": [
      "[nltk_data] Downloading package stopwords to\n",
      "[nltk_data]     C:\\Users\\Himanshu\\AppData\\Roaming\\nltk_data...\n",
      "[nltk_data]   Package stopwords is already up-to-date!\n"
     ]
    }
   ],
   "source": [
    "import numpy as np\n",
    "import pandas as pd\n",
    "from sklearn.metrics.pairwise import cosine_similarity\n",
    "from nltk.corpus import stopwords\n",
    "import nltk\n",
    "nltk.download('stopwords')\n",
    "stopwords = set(stopwords.words('english'))\n",
    "from tqdm import tqdm\n",
    "import pickle"
   ]
  },
  {
   "cell_type": "code",
   "execution_count": 2,
   "metadata": {},
   "outputs": [],
   "source": [
    "data_location = \"E:/datasets/word2vec/text8/text8\"\n",
    "window_size = 4"
   ]
  },
  {
   "cell_type": "code",
   "execution_count": 3,
   "metadata": {},
   "outputs": [],
   "source": [
    "data = open(data_location, \"rb\").read()\n",
    "data = data.decode(\"utf8\")"
   ]
  },
  {
   "cell_type": "code",
   "execution_count": 4,
   "metadata": {},
   "outputs": [
    {
     "name": "stdout",
     "output_type": "stream",
     "text": [
      "30577\n"
     ]
    }
   ],
   "source": [
    "token_index = {}\n",
    "token_counts = {}\n",
    "\n",
    "j=1\n",
    "tokens = data.split(\" \")[: 50000]\n",
    "tokens = [token for token in tokens if token not in stopwords]\n",
    "print(len(tokens))\n",
    "for index, token in enumerate(tokens):\n",
    "    if token in token_index:\n",
    "        token_counts[token] += 1\n",
    "    else:\n",
    "        token_index[token] = j\n",
    "        token_counts[token] = 1\n",
    "        j += 1"
   ]
  },
  {
   "cell_type": "code",
   "execution_count": 5,
   "metadata": {},
   "outputs": [],
   "source": [
    "inputs = []\n",
    "outputs = []\n",
    "for i in range(len(tokens)):\n",
    "    inputs.append(token_index[tokens[i]])\n",
    "    window_start_index = i - window_size\n",
    "    window_start_index = 0 if window_start_index < 0 else window_start_index\n",
    "    window_end_index = i + window_size\n",
    "    window_end_index = len(tokens) if window_end_index >= len(tokens) - 1 else window_end_index\n",
    "    output = []\n",
    "    for j in range(window_start_index, window_end_index):\n",
    "        if j != i:\n",
    "            output.append(token_index[tokens[j]])\n",
    "    outputs.append(output)"
   ]
  },
  {
   "cell_type": "code",
   "execution_count": 6,
   "metadata": {},
   "outputs": [],
   "source": [
    "class Skipgram:\n",
    "    \n",
    "    def __init__(self, num_features, vocab_size):\n",
    "        self.num_features = num_features\n",
    "        self.w1 = np.random.uniform(0.0, 0.5, size=(vocab_size, self.num_features))\n",
    "        self.w2 = np.random.uniform(0.0, 0.5, size=(self.num_features, vocab_size))\n",
    "        self.vocab_size = vocab_size\n",
    "    \n",
    "    def _forward_pass(self, model_input):\n",
    "        self.h1 = np.dot(model_input, self.w1)\n",
    "        self.h2 = np.dot(self.h1, self.w2)\n",
    "        self.h2_exp = np.exp(self.h2 - np.max(self.h2))\n",
    "        self.softmax_score = self.h2_exp/np.sum(self.h2_exp)\n",
    "        return self.softmax_score\n",
    "    \n",
    "    def _backward_pass(self, model_input, model_output, lr):\n",
    "        t_minus_s = (model_output - self.softmax_score)\n",
    "        w2_grad = np.dot(np.reshape(self.h1, (self.num_features, 1)),\n",
    "                         np.reshape(t_minus_s, (1, self.vocab_size)))\n",
    "        w1_grad = np.dot(np.reshape(model_input, (self.vocab_size, 1)),\n",
    "                         np.reshape(np.dot(t_minus_s, self.w1), (1, self.num_features)))\n",
    "        self.w1 = self.w1 + (lr * w1_grad)\n",
    "        self.w2 = self.w2 + (lr * w2_grad)\n",
    "    \n",
    "    def fit(self, model_inputs, model_outputs, lr, epochs):\n",
    "        for epoch in range(epochs):\n",
    "            loss = 0.0\n",
    "            sample_indices = np.arange(len(model_inputs) - 1)\n",
    "            np.random.shuffle(sample_indices)\n",
    "            for i in tqdm(sample_indices):\n",
    "                model_input = np.zeros((self.vocab_size))\n",
    "                model_input[model_inputs[i]] = 1.0\n",
    "                self._forward_pass(model_input=model_input)\n",
    "                model_output = np.zeros((self.vocab_size))\n",
    "                for j in model_outputs[i]:\n",
    "                    model_output[j] += 1/len(model_outputs[i])\n",
    "                self._backward_pass(model_input, model_output, lr)\n",
    "                loss += -1 * np.log(np.dot(self.softmax_score, model_output))\n",
    "            print(\"epochs: {0} loss: {1}\".format(str(epoch+1), str(loss)))\n",
    "            pickle.dump(self, open(\"skipgram_normal_epoch_{0}\".format(str(epoch + 1)), \"wb\"))\n",
    "            \n",
    "    def most_similar(self, input_word, token_index):\n",
    "        assert input_word in token_index\n",
    "        word_vectors = (self.w1 + self.w2.transpose()) / 2\n",
    "        prediction = cosine_similarity(word_vectors[token_index[input_word]].reshape(1, -1), word_vectors)[0]\n",
    "        sorted_index = np.argsort(prediction)[::-1].tolist()\n",
    "        rev_token_index = {j: i for i, j in token_index.items()}\n",
    "        for index in range(10):\n",
    "            print(rev_token_index[sorted_index[index]])"
   ]
  },
  {
   "cell_type": "code",
   "execution_count": 7,
   "metadata": {},
   "outputs": [
    {
     "name": "stderr",
     "output_type": "stream",
     "text": [
      "100%|██████████████████████████████████████████████████████████████████████████████████████████████████████████████████████████| 30576/30576 [21:23<00:00, 23.82it/s]\n",
      "  0%|                                                                                                                                      | 0/30576 [00:00<?, ?it/s]"
     ]
    },
    {
     "name": "stdout",
     "output_type": "stream",
     "text": [
      "epochs: 1 loss: 209012.98596704492\n"
     ]
    },
    {
     "name": "stderr",
     "output_type": "stream",
     "text": [
      "100%|██████████████████████████████████████████████████████████████████████████████████████████████████████████████████████████| 30576/30576 [21:19<00:00, 23.90it/s]\n",
      "  0%|                                                                                                                                      | 0/30576 [00:00<?, ?it/s]"
     ]
    },
    {
     "name": "stdout",
     "output_type": "stream",
     "text": [
      "epochs: 2 loss: 201048.68955743808\n"
     ]
    },
    {
     "name": "stderr",
     "output_type": "stream",
     "text": [
      "100%|██████████████████████████████████████████████████████████████████████████████████████████████████████████████████████████| 30576/30576 [21:12<00:00, 24.02it/s]\n",
      "  0%|                                                                                                                                      | 0/30576 [00:00<?, ?it/s]"
     ]
    },
    {
     "name": "stdout",
     "output_type": "stream",
     "text": [
      "epochs: 3 loss: 196697.47425454366\n"
     ]
    },
    {
     "name": "stderr",
     "output_type": "stream",
     "text": [
      "100%|██████████████████████████████████████████████████████████████████████████████████████████████████████████████████████████| 30576/30576 [21:12<00:00, 24.04it/s]\n",
      "  0%|                                                                                                                                      | 0/30576 [00:00<?, ?it/s]"
     ]
    },
    {
     "name": "stdout",
     "output_type": "stream",
     "text": [
      "epochs: 4 loss: 192264.64476016606\n"
     ]
    },
    {
     "name": "stderr",
     "output_type": "stream",
     "text": [
      "100%|██████████████████████████████████████████████████████████████████████████████████████████████████████████████████████████| 30576/30576 [21:19<00:00, 23.89it/s]\n"
     ]
    },
    {
     "name": "stdout",
     "output_type": "stream",
     "text": [
      "epochs: 5 loss: 187916.02792386146\n"
     ]
    },
    {
     "name": "stderr",
     "output_type": "stream",
     "text": [
      "100%|██████████████████████████████████████████████████████████████████████████████████████████████████████████████████████████| 30576/30576 [21:26<00:00, 23.76it/s]\n",
      "  0%|                                                                                                                                      | 0/30576 [00:00<?, ?it/s]"
     ]
    },
    {
     "name": "stdout",
     "output_type": "stream",
     "text": [
      "epochs: 6 loss: 183849.57989508152\n"
     ]
    },
    {
     "name": "stderr",
     "output_type": "stream",
     "text": [
      "100%|██████████████████████████████████████████████████████████████████████████████████████████████████████████████████████████| 30576/30576 [21:13<00:00, 24.01it/s]\n",
      "  0%|                                                                                                                                      | 0/30576 [00:00<?, ?it/s]"
     ]
    },
    {
     "name": "stdout",
     "output_type": "stream",
     "text": [
      "epochs: 7 loss: 180083.5547939608\n"
     ]
    },
    {
     "name": "stderr",
     "output_type": "stream",
     "text": [
      "100%|██████████████████████████████████████████████████████████████████████████████████████████████████████████████████████████| 30576/30576 [21:13<00:00, 24.00it/s]\n",
      "  0%|                                                                                                                                      | 0/30576 [00:00<?, ?it/s]"
     ]
    },
    {
     "name": "stdout",
     "output_type": "stream",
     "text": [
      "epochs: 8 loss: 176592.492418882\n"
     ]
    },
    {
     "name": "stderr",
     "output_type": "stream",
     "text": [
      "100%|██████████████████████████████████████████████████████████████████████████████████████████████████████████████████████████| 30576/30576 [21:12<00:00, 24.03it/s]\n",
      "  0%|                                                                                                                                      | 0/30576 [00:00<?, ?it/s]"
     ]
    },
    {
     "name": "stdout",
     "output_type": "stream",
     "text": [
      "epochs: 9 loss: 173291.4021221578\n"
     ]
    },
    {
     "name": "stderr",
     "output_type": "stream",
     "text": [
      "100%|██████████████████████████████████████████████████████████████████████████████████████████████████████████████████████████| 30576/30576 [21:11<00:00, 24.05it/s]\n",
      "  0%|                                                                                                                                      | 0/30576 [00:00<?, ?it/s]"
     ]
    },
    {
     "name": "stdout",
     "output_type": "stream",
     "text": [
      "epochs: 10 loss: 170282.76556187464\n"
     ]
    },
    {
     "name": "stderr",
     "output_type": "stream",
     "text": [
      "100%|██████████████████████████████████████████████████████████████████████████████████████████████████████████████████████████| 30576/30576 [21:14<00:00, 24.00it/s]\n",
      "  0%|                                                                                                                                      | 0/30576 [00:00<?, ?it/s]"
     ]
    },
    {
     "name": "stdout",
     "output_type": "stream",
     "text": [
      "epochs: 11 loss: 167497.3699985637\n"
     ]
    },
    {
     "name": "stderr",
     "output_type": "stream",
     "text": [
      "100%|██████████████████████████████████████████████████████████████████████████████████████████████████████████████████████████| 30576/30576 [21:14<00:00, 24.00it/s]\n",
      "  0%|                                                                                                                                      | 0/30576 [00:00<?, ?it/s]"
     ]
    },
    {
     "name": "stdout",
     "output_type": "stream",
     "text": [
      "epochs: 12 loss: 165019.67223780593\n"
     ]
    },
    {
     "name": "stderr",
     "output_type": "stream",
     "text": [
      "100%|██████████████████████████████████████████████████████████████████████████████████████████████████████████████████████████| 30576/30576 [21:14<00:00, 24.00it/s]\n",
      "  0%|                                                                                                                                      | 0/30576 [00:00<?, ?it/s]"
     ]
    },
    {
     "name": "stdout",
     "output_type": "stream",
     "text": [
      "epochs: 13 loss: 162675.30691473756\n"
     ]
    },
    {
     "name": "stderr",
     "output_type": "stream",
     "text": [
      "100%|██████████████████████████████████████████████████████████████████████████████████████████████████████████████████████████| 30576/30576 [21:13<00:00, 24.01it/s]\n",
      "  0%|                                                                                                                                      | 0/30576 [00:00<?, ?it/s]"
     ]
    },
    {
     "name": "stdout",
     "output_type": "stream",
     "text": [
      "epochs: 14 loss: 160535.09814466434\n"
     ]
    },
    {
     "name": "stderr",
     "output_type": "stream",
     "text": [
      "100%|██████████████████████████████████████████████████████████████████████████████████████████████████████████████████████████| 30576/30576 [21:22<00:00, 23.84it/s]\n",
      "  0%|                                                                                                                                      | 0/30576 [00:00<?, ?it/s]"
     ]
    },
    {
     "name": "stdout",
     "output_type": "stream",
     "text": [
      "epochs: 15 loss: 158478.8866185611\n"
     ]
    },
    {
     "name": "stderr",
     "output_type": "stream",
     "text": [
      "100%|██████████████████████████████████████████████████████████████████████████████████████████████████████████████████████████| 30576/30576 [21:19<00:00, 23.90it/s]\n",
      "  0%|                                                                                                                                      | 0/30576 [00:00<?, ?it/s]"
     ]
    },
    {
     "name": "stdout",
     "output_type": "stream",
     "text": [
      "epochs: 16 loss: 156574.81826212603\n"
     ]
    },
    {
     "name": "stderr",
     "output_type": "stream",
     "text": [
      "100%|██████████████████████████████████████████████████████████████████████████████████████████████████████████████████████████| 30576/30576 [21:18<00:00, 23.91it/s]\n",
      "  0%|                                                                                                                                      | 0/30576 [00:00<?, ?it/s]"
     ]
    },
    {
     "name": "stdout",
     "output_type": "stream",
     "text": [
      "epochs: 17 loss: 154897.14958620942\n"
     ]
    },
    {
     "name": "stderr",
     "output_type": "stream",
     "text": [
      "100%|██████████████████████████████████████████████████████████████████████████████████████████████████████████████████████████| 30576/30576 [21:15<00:00, 23.98it/s]\n",
      "  0%|                                                                                                                                      | 0/30576 [00:00<?, ?it/s]"
     ]
    },
    {
     "name": "stdout",
     "output_type": "stream",
     "text": [
      "epochs: 18 loss: 153223.0830188811\n"
     ]
    },
    {
     "name": "stderr",
     "output_type": "stream",
     "text": [
      "100%|██████████████████████████████████████████████████████████████████████████████████████████████████████████████████████████| 30576/30576 [21:15<00:00, 23.98it/s]\n",
      "  0%|                                                                                                                                      | 0/30576 [00:00<?, ?it/s]"
     ]
    },
    {
     "name": "stdout",
     "output_type": "stream",
     "text": [
      "epochs: 19 loss: 151626.6241155815\n"
     ]
    },
    {
     "name": "stderr",
     "output_type": "stream",
     "text": [
      "100%|██████████████████████████████████████████████████████████████████████████████████████████████████████████████████████████| 30576/30576 [21:15<00:00, 23.97it/s]\n",
      "  0%|                                                                                                                                      | 0/30576 [00:00<?, ?it/s]"
     ]
    },
    {
     "name": "stdout",
     "output_type": "stream",
     "text": [
      "epochs: 20 loss: 150186.37203871078\n"
     ]
    },
    {
     "name": "stderr",
     "output_type": "stream",
     "text": [
      "100%|██████████████████████████████████████████████████████████████████████████████████████████████████████████████████████████| 30576/30576 [21:16<00:00, 23.95it/s]\n",
      "  0%|                                                                                                                                      | 0/30576 [00:00<?, ?it/s]"
     ]
    },
    {
     "name": "stdout",
     "output_type": "stream",
     "text": [
      "epochs: 21 loss: 148853.04359183973\n"
     ]
    },
    {
     "name": "stderr",
     "output_type": "stream",
     "text": [
      "100%|██████████████████████████████████████████████████████████████████████████████████████████████████████████████████████████| 30576/30576 [21:15<00:00, 23.97it/s]\n",
      "  0%|                                                                                                                                      | 0/30576 [00:00<?, ?it/s]"
     ]
    },
    {
     "name": "stdout",
     "output_type": "stream",
     "text": [
      "epochs: 22 loss: 147620.50292465554\n"
     ]
    },
    {
     "name": "stderr",
     "output_type": "stream",
     "text": [
      "100%|██████████████████████████████████████████████████████████████████████████████████████████████████████████████████████████| 30576/30576 [21:18<00:00, 23.91it/s]\n",
      "  0%|                                                                                                                                      | 0/30576 [00:00<?, ?it/s]"
     ]
    },
    {
     "name": "stdout",
     "output_type": "stream",
     "text": [
      "epochs: 23 loss: 146551.52017790257\n"
     ]
    },
    {
     "name": "stderr",
     "output_type": "stream",
     "text": [
      "100%|██████████████████████████████████████████████████████████████████████████████████████████████████████████████████████████| 30576/30576 [21:17<00:00, 23.94it/s]\n",
      "  0%|                                                                                                                                      | 0/30576 [00:00<?, ?it/s]"
     ]
    },
    {
     "name": "stdout",
     "output_type": "stream",
     "text": [
      "epochs: 24 loss: 145788.13073877053\n"
     ]
    },
    {
     "name": "stderr",
     "output_type": "stream",
     "text": [
      "100%|██████████████████████████████████████████████████████████████████████████████████████████████████████████████████████████| 30576/30576 [21:13<00:00, 24.01it/s]\n",
      "  0%|                                                                                                                                      | 0/30576 [00:00<?, ?it/s]"
     ]
    },
    {
     "name": "stdout",
     "output_type": "stream",
     "text": [
      "epochs: 25 loss: 145073.4635785774\n"
     ]
    },
    {
     "name": "stderr",
     "output_type": "stream",
     "text": [
      "100%|██████████████████████████████████████████████████████████████████████████████████████████████████████████████████████████| 30576/30576 [21:21<00:00, 23.85it/s]\n",
      "  0%|                                                                                                                                      | 0/30576 [00:00<?, ?it/s]"
     ]
    },
    {
     "name": "stdout",
     "output_type": "stream",
     "text": [
      "epochs: 26 loss: 144572.56722305727\n"
     ]
    },
    {
     "name": "stderr",
     "output_type": "stream",
     "text": [
      "100%|██████████████████████████████████████████████████████████████████████████████████████████████████████████████████████████| 30576/30576 [21:17<00:00, 23.93it/s]\n",
      "  0%|                                                                                                                                      | 0/30576 [00:00<?, ?it/s]"
     ]
    },
    {
     "name": "stdout",
     "output_type": "stream",
     "text": [
      "epochs: 27 loss: 144146.26548750518\n"
     ]
    },
    {
     "name": "stderr",
     "output_type": "stream",
     "text": [
      "100%|██████████████████████████████████████████████████████████████████████████████████████████████████████████████████████████| 30576/30576 [21:20<00:00, 23.88it/s]\n",
      "  0%|                                                                                                                              | 3/30576 [00:00<17:50, 28.55it/s]"
     ]
    },
    {
     "name": "stdout",
     "output_type": "stream",
     "text": [
      "epochs: 28 loss: 143767.96074130439\n"
     ]
    },
    {
     "name": "stderr",
     "output_type": "stream",
     "text": [
      "100%|██████████████████████████████████████████████████████████████████████████████████████████████████████████████████████████| 30576/30576 [21:28<00:00, 23.72it/s]\n",
      "  0%|                                                                                                                                      | 0/30576 [00:00<?, ?it/s]"
     ]
    },
    {
     "name": "stdout",
     "output_type": "stream",
     "text": [
      "epochs: 29 loss: 143602.71921518754\n"
     ]
    },
    {
     "name": "stderr",
     "output_type": "stream",
     "text": [
      "100%|██████████████████████████████████████████████████████████████████████████████████████████████████████████████████████████| 30576/30576 [14:43<00:00, 34.62it/s]\n",
      "  0%|                                                                                                                              | 5/30576 [00:00<11:06, 45.84it/s]"
     ]
    },
    {
     "name": "stdout",
     "output_type": "stream",
     "text": [
      "epochs: 30 loss: 143380.21639170474\n"
     ]
    },
    {
     "name": "stderr",
     "output_type": "stream",
     "text": [
      "100%|██████████████████████████████████████████████████████████████████████████████████████████████████████████████████████████| 30576/30576 [14:13<00:00, 35.84it/s]\n",
      "  0%|                                                                                                                              | 4/30576 [00:00<13:07, 38.81it/s]"
     ]
    },
    {
     "name": "stdout",
     "output_type": "stream",
     "text": [
      "epochs: 31 loss: 143135.08999529402\n"
     ]
    },
    {
     "name": "stderr",
     "output_type": "stream",
     "text": [
      "100%|██████████████████████████████████████████████████████████████████████████████████████████████████████████████████████████| 30576/30576 [14:12<00:00, 35.86it/s]\n",
      "  0%|                                                                                                                              | 5/30576 [00:00<10:54, 46.70it/s]"
     ]
    },
    {
     "name": "stdout",
     "output_type": "stream",
     "text": [
      "epochs: 32 loss: 143051.20195517136\n"
     ]
    },
    {
     "name": "stderr",
     "output_type": "stream",
     "text": [
      "100%|██████████████████████████████████████████████████████████████████████████████████████████████████████████████████████████| 30576/30576 [14:19<00:00, 35.58it/s]\n",
      "  0%|                                                                                                                              | 5/30576 [00:00<11:25, 44.61it/s]"
     ]
    },
    {
     "name": "stdout",
     "output_type": "stream",
     "text": [
      "epochs: 33 loss: 142867.29203341168\n"
     ]
    },
    {
     "name": "stderr",
     "output_type": "stream",
     "text": [
      "100%|██████████████████████████████████████████████████████████████████████████████████████████████████████████████████████████| 30576/30576 [14:14<00:00, 35.77it/s]\n",
      "  0%|                                                                                                                              | 5/30576 [00:00<11:55, 42.71it/s]"
     ]
    },
    {
     "name": "stdout",
     "output_type": "stream",
     "text": [
      "epochs: 34 loss: 142726.51862090113\n"
     ]
    },
    {
     "name": "stderr",
     "output_type": "stream",
     "text": [
      "100%|██████████████████████████████████████████████████████████████████████████████████████████████████████████████████████████| 30576/30576 [14:06<00:00, 36.10it/s]\n",
      "  0%|                                                                                                                              | 5/30576 [00:00<11:00, 46.27it/s]"
     ]
    },
    {
     "name": "stdout",
     "output_type": "stream",
     "text": [
      "epochs: 35 loss: 142575.3641656672\n"
     ]
    },
    {
     "name": "stderr",
     "output_type": "stream",
     "text": [
      "100%|██████████████████████████████████████████████████████████████████████████████████████████████████████████████████████████| 30576/30576 [14:32<00:00, 35.04it/s]\n",
      "  0%|                                                                                                                                      | 0/30576 [00:00<?, ?it/s]"
     ]
    },
    {
     "name": "stdout",
     "output_type": "stream",
     "text": [
      "epochs: 36 loss: 142486.9941217501\n"
     ]
    },
    {
     "name": "stderr",
     "output_type": "stream",
     "text": [
      "100%|██████████████████████████████████████████████████████████████████████████████████████████████████████████████████████████| 30576/30576 [14:21<00:00, 35.50it/s]\n",
      "  0%|                                                                                                                              | 5/30576 [00:00<11:00, 46.26it/s]"
     ]
    },
    {
     "name": "stdout",
     "output_type": "stream",
     "text": [
      "epochs: 37 loss: 142405.48720363158\n"
     ]
    },
    {
     "name": "stderr",
     "output_type": "stream",
     "text": [
      "100%|██████████████████████████████████████████████████████████████████████████████████████████████████████████████████████████| 30576/30576 [14:08<00:00, 36.04it/s]\n",
      "  0%|                                                                                                                              | 2/30576 [00:00<28:48, 17.69it/s]"
     ]
    },
    {
     "name": "stdout",
     "output_type": "stream",
     "text": [
      "epochs: 38 loss: 142349.62799281254\n"
     ]
    },
    {
     "name": "stderr",
     "output_type": "stream",
     "text": [
      "100%|██████████████████████████████████████████████████████████████████████████████████████████████████████████████████████████| 30576/30576 [14:17<00:00, 35.64it/s]\n",
      "  0%|                                                                                                                              | 3/30576 [00:00<18:00, 28.28it/s]"
     ]
    },
    {
     "name": "stdout",
     "output_type": "stream",
     "text": [
      "epochs: 39 loss: 142295.48991393452\n"
     ]
    },
    {
     "name": "stderr",
     "output_type": "stream",
     "text": [
      "100%|██████████████████████████████████████████████████████████████████████████████████████████████████████████████████████████| 30576/30576 [14:08<00:00, 36.02it/s]\n",
      "  0%|                                                                                                                                      | 0/30576 [00:00<?, ?it/s]"
     ]
    },
    {
     "name": "stdout",
     "output_type": "stream",
     "text": [
      "epochs: 40 loss: 142152.2803914025\n"
     ]
    },
    {
     "name": "stderr",
     "output_type": "stream",
     "text": [
      "100%|██████████████████████████████████████████████████████████████████████████████████████████████████████████████████████████| 30576/30576 [13:59<00:00, 36.44it/s]\n",
      "  0%|                                                                                                                              | 5/30576 [00:00<10:48, 47.14it/s]"
     ]
    },
    {
     "name": "stdout",
     "output_type": "stream",
     "text": [
      "epochs: 41 loss: 142038.93267177357\n"
     ]
    },
    {
     "name": "stderr",
     "output_type": "stream",
     "text": [
      "100%|██████████████████████████████████████████████████████████████████████████████████████████████████████████████████████████| 30576/30576 [14:11<00:00, 35.91it/s]\n",
      "  0%|                                                                                                                              | 5/30576 [00:00<12:14, 41.64it/s]"
     ]
    },
    {
     "name": "stdout",
     "output_type": "stream",
     "text": [
      "epochs: 42 loss: 141972.56061747822\n"
     ]
    },
    {
     "name": "stderr",
     "output_type": "stream",
     "text": [
      "100%|██████████████████████████████████████████████████████████████████████████████████████████████████████████████████████████| 30576/30576 [13:45<00:00, 37.03it/s]\n",
      "  0%|                                                                                                                              | 4/30576 [00:00<12:52, 39.58it/s]"
     ]
    },
    {
     "name": "stdout",
     "output_type": "stream",
     "text": [
      "epochs: 43 loss: 141964.91171697655\n"
     ]
    },
    {
     "name": "stderr",
     "output_type": "stream",
     "text": [
      "100%|██████████████████████████████████████████████████████████████████████████████████████████████████████████████████████████| 30576/30576 [14:03<00:00, 36.23it/s]\n",
      "  0%|                                                                                                                              | 5/30576 [00:00<10:54, 46.70it/s]"
     ]
    },
    {
     "name": "stdout",
     "output_type": "stream",
     "text": [
      "epochs: 44 loss: 141874.88201257456\n"
     ]
    },
    {
     "name": "stderr",
     "output_type": "stream",
     "text": [
      "100%|██████████████████████████████████████████████████████████████████████████████████████████████████████████████████████████| 30576/30576 [14:09<00:00, 35.97it/s]\n",
      "  0%|                                                                                                                                      | 0/30576 [00:00<?, ?it/s]"
     ]
    },
    {
     "name": "stdout",
     "output_type": "stream",
     "text": [
      "epochs: 45 loss: 141728.0491100634\n"
     ]
    },
    {
     "name": "stderr",
     "output_type": "stream",
     "text": [
      "100%|██████████████████████████████████████████████████████████████████████████████████████████████████████████████████████████| 30576/30576 [14:14<00:00, 35.78it/s]\n",
      "  0%|                                                                                                                              | 5/30576 [00:00<11:13, 45.42it/s]"
     ]
    },
    {
     "name": "stdout",
     "output_type": "stream",
     "text": [
      "epochs: 46 loss: 141799.8100290402\n"
     ]
    },
    {
     "name": "stderr",
     "output_type": "stream",
     "text": [
      "100%|██████████████████████████████████████████████████████████████████████████████████████████████████████████████████████████| 30576/30576 [14:12<00:00, 35.86it/s]\n",
      "  0%|                                                                                                                                      | 0/30576 [00:00<?, ?it/s]"
     ]
    },
    {
     "name": "stdout",
     "output_type": "stream",
     "text": [
      "epochs: 47 loss: 141679.99635671833\n"
     ]
    },
    {
     "name": "stderr",
     "output_type": "stream",
     "text": [
      "100%|██████████████████████████████████████████████████████████████████████████████████████████████████████████████████████████| 30576/30576 [14:20<00:00, 35.51it/s]\n",
      "  0%|                                                                                                                              | 5/30576 [00:00<11:06, 45.84it/s]"
     ]
    },
    {
     "name": "stdout",
     "output_type": "stream",
     "text": [
      "epochs: 48 loss: 141585.38904041974\n"
     ]
    },
    {
     "name": "stderr",
     "output_type": "stream",
     "text": [
      "100%|██████████████████████████████████████████████████████████████████████████████████████████████████████████████████████████| 30576/30576 [14:16<00:00, 35.71it/s]\n",
      "  0%|                                                                                                                              | 5/30576 [00:00<11:13, 45.42it/s]"
     ]
    },
    {
     "name": "stdout",
     "output_type": "stream",
     "text": [
      "epochs: 49 loss: 141595.69435679493\n"
     ]
    },
    {
     "name": "stderr",
     "output_type": "stream",
     "text": [
      "100%|██████████████████████████████████████████████████████████████████████████████████████████████████████████████████████████| 30576/30576 [14:17<00:00, 35.68it/s]\n",
      "  0%|                                                                                                                              | 5/30576 [00:00<11:00, 46.27it/s]"
     ]
    },
    {
     "name": "stdout",
     "output_type": "stream",
     "text": [
      "epochs: 50 loss: 141579.80601789118\n"
     ]
    },
    {
     "name": "stderr",
     "output_type": "stream",
     "text": [
      "100%|██████████████████████████████████████████████████████████████████████████████████████████████████████████████████████████| 30576/30576 [14:18<00:00, 35.61it/s]\n",
      "  0%|                                                                                                                              | 5/30576 [00:00<11:13, 45.42it/s]"
     ]
    },
    {
     "name": "stdout",
     "output_type": "stream",
     "text": [
      "epochs: 51 loss: 141409.4977506004\n"
     ]
    },
    {
     "name": "stderr",
     "output_type": "stream",
     "text": [
      "100%|██████████████████████████████████████████████████████████████████████████████████████████████████████████████████████████| 30576/30576 [14:15<00:00, 35.74it/s]\n",
      "  0%|                                                                                                                              | 5/30576 [00:00<11:43, 43.45it/s]"
     ]
    },
    {
     "name": "stdout",
     "output_type": "stream",
     "text": [
      "epochs: 52 loss: 141437.91541313104\n"
     ]
    },
    {
     "name": "stderr",
     "output_type": "stream",
     "text": [
      "100%|██████████████████████████████████████████████████████████████████████████████████████████████████████████████████████████| 30576/30576 [14:22<00:00, 35.43it/s]\n",
      "  0%|                                                                                                                              | 5/30576 [00:00<11:06, 45.84it/s]"
     ]
    },
    {
     "name": "stdout",
     "output_type": "stream",
     "text": [
      "epochs: 53 loss: 141353.53045607757\n"
     ]
    },
    {
     "name": "stderr",
     "output_type": "stream",
     "text": [
      "100%|██████████████████████████████████████████████████████████████████████████████████████████████████████████████████████████| 30576/30576 [14:22<00:00, 35.43it/s]\n",
      "  0%|                                                                                                                              | 5/30576 [00:00<10:54, 46.70it/s]"
     ]
    },
    {
     "name": "stdout",
     "output_type": "stream",
     "text": [
      "epochs: 54 loss: 141353.313987849\n"
     ]
    },
    {
     "name": "stderr",
     "output_type": "stream",
     "text": [
      "100%|██████████████████████████████████████████████████████████████████████████████████████████████████████████████████████████| 30576/30576 [14:09<00:00, 35.98it/s]\n",
      "  0%|                                                                                                                                      | 0/30576 [00:00<?, ?it/s]"
     ]
    },
    {
     "name": "stdout",
     "output_type": "stream",
     "text": [
      "epochs: 55 loss: 141338.7965579222\n"
     ]
    },
    {
     "name": "stderr",
     "output_type": "stream",
     "text": [
      "100%|██████████████████████████████████████████████████████████████████████████████████████████████████████████████████████████| 30576/30576 [14:10<00:00, 35.93it/s]\n",
      "  0%|                                                                                                                              | 2/30576 [00:00<29:49, 17.08it/s]"
     ]
    },
    {
     "name": "stdout",
     "output_type": "stream",
     "text": [
      "epochs: 56 loss: 141251.9678272667\n"
     ]
    },
    {
     "name": "stderr",
     "output_type": "stream",
     "text": [
      "100%|██████████████████████████████████████████████████████████████████████████████████████████████████████████████████████████| 30576/30576 [14:18<00:00, 35.61it/s]\n",
      "  0%|                                                                                                                              | 5/30576 [00:00<11:06, 45.84it/s]"
     ]
    },
    {
     "name": "stdout",
     "output_type": "stream",
     "text": [
      "epochs: 57 loss: 141260.2240126038\n"
     ]
    },
    {
     "name": "stderr",
     "output_type": "stream",
     "text": [
      "100%|██████████████████████████████████████████████████████████████████████████████████████████████████████████████████████████| 30576/30576 [13:59<00:00, 36.44it/s]\n",
      "  0%|                                                                                                                              | 4/30576 [00:00<12:44, 39.97it/s]"
     ]
    },
    {
     "name": "stdout",
     "output_type": "stream",
     "text": [
      "epochs: 58 loss: 141180.418809145\n"
     ]
    },
    {
     "name": "stderr",
     "output_type": "stream",
     "text": [
      "100%|██████████████████████████████████████████████████████████████████████████████████████████████████████████████████████████| 30576/30576 [13:47<00:00, 36.93it/s]\n",
      "  0%|                                                                                                                              | 4/30576 [00:00<14:39, 34.76it/s]"
     ]
    },
    {
     "name": "stdout",
     "output_type": "stream",
     "text": [
      "epochs: 59 loss: 141153.08727364958\n"
     ]
    },
    {
     "name": "stderr",
     "output_type": "stream",
     "text": [
      "100%|██████████████████████████████████████████████████████████████████████████████████████████████████████████████████████████| 30576/30576 [14:05<00:00, 36.16it/s]\n",
      "  0%|                                                                                                                              | 5/30576 [00:00<11:13, 45.42it/s]"
     ]
    },
    {
     "name": "stdout",
     "output_type": "stream",
     "text": [
      "epochs: 60 loss: 141115.2803265546\n"
     ]
    },
    {
     "name": "stderr",
     "output_type": "stream",
     "text": [
      "100%|██████████████████████████████████████████████████████████████████████████████████████████████████████████████████████████| 30576/30576 [14:14<00:00, 35.79it/s]\n",
      "  0%|                                                                                                                                      | 0/30576 [00:00<?, ?it/s]"
     ]
    },
    {
     "name": "stdout",
     "output_type": "stream",
     "text": [
      "epochs: 61 loss: 141079.58223970715\n"
     ]
    },
    {
     "name": "stderr",
     "output_type": "stream",
     "text": [
      "100%|██████████████████████████████████████████████████████████████████████████████████████████████████████████████████████████| 30576/30576 [14:13<00:00, 35.82it/s]\n",
      "  0%|                                                                                                                              | 5/30576 [00:00<10:48, 47.14it/s]"
     ]
    },
    {
     "name": "stdout",
     "output_type": "stream",
     "text": [
      "epochs: 62 loss: 141012.13123239175\n"
     ]
    },
    {
     "name": "stderr",
     "output_type": "stream",
     "text": [
      "100%|██████████████████████████████████████████████████████████████████████████████████████████████████████████████████████████| 30576/30576 [14:12<00:00, 35.87it/s]\n",
      "  0%|                                                                                                                              | 2/30576 [00:00<26:46, 19.03it/s]"
     ]
    },
    {
     "name": "stdout",
     "output_type": "stream",
     "text": [
      "epochs: 63 loss: 141031.59921504112\n"
     ]
    },
    {
     "name": "stderr",
     "output_type": "stream",
     "text": [
      "100%|██████████████████████████████████████████████████████████████████████████████████████████████████████████████████████████| 30576/30576 [14:10<00:00, 35.93it/s]\n",
      "  0%|                                                                                                                              | 4/30576 [00:00<14:16, 35.69it/s]"
     ]
    },
    {
     "name": "stdout",
     "output_type": "stream",
     "text": [
      "epochs: 64 loss: 140981.89748658825\n"
     ]
    },
    {
     "name": "stderr",
     "output_type": "stream",
     "text": [
      "100%|██████████████████████████████████████████████████████████████████████████████████████████████████████████████████████████| 30576/30576 [13:41<00:00, 37.22it/s]\n",
      "  0%|                                                                                                                              | 4/30576 [00:00<12:44, 39.97it/s]"
     ]
    },
    {
     "name": "stdout",
     "output_type": "stream",
     "text": [
      "epochs: 65 loss: 140996.03568034433\n"
     ]
    },
    {
     "name": "stderr",
     "output_type": "stream",
     "text": [
      "100%|██████████████████████████████████████████████████████████████████████████████████████████████████████████████████████████| 30576/30576 [14:21<00:00, 35.51it/s]\n",
      "  0%|                                                                                                                              | 5/30576 [00:00<10:48, 47.14it/s]"
     ]
    },
    {
     "name": "stdout",
     "output_type": "stream",
     "text": [
      "epochs: 66 loss: 140918.65780086155\n"
     ]
    },
    {
     "name": "stderr",
     "output_type": "stream",
     "text": [
      "100%|██████████████████████████████████████████████████████████████████████████████████████████████████████████████████████████| 30576/30576 [14:14<00:00, 35.77it/s]\n",
      "  0%|                                                                                                                              | 4/30576 [00:00<14:47, 34.46it/s]"
     ]
    },
    {
     "name": "stdout",
     "output_type": "stream",
     "text": [
      "epochs: 67 loss: 140935.95599863975\n"
     ]
    },
    {
     "name": "stderr",
     "output_type": "stream",
     "text": [
      "100%|██████████████████████████████████████████████████████████████████████████████████████████████████████████████████████████| 30576/30576 [14:13<00:00, 35.81it/s]\n",
      "  0%|                                                                                                                                      | 0/30576 [00:00<?, ?it/s]"
     ]
    },
    {
     "name": "stdout",
     "output_type": "stream",
     "text": [
      "epochs: 68 loss: 140875.79738003877\n"
     ]
    },
    {
     "name": "stderr",
     "output_type": "stream",
     "text": [
      "100%|██████████████████████████████████████████████████████████████████████████████████████████████████████████████████████████| 30576/30576 [14:25<00:00, 35.33it/s]\n",
      "  0%|                                                                                                                              | 5/30576 [00:00<10:56, 46.59it/s]"
     ]
    },
    {
     "name": "stdout",
     "output_type": "stream",
     "text": [
      "epochs: 69 loss: 140830.5828673931\n"
     ]
    },
    {
     "name": "stderr",
     "output_type": "stream",
     "text": [
      "100%|██████████████████████████████████████████████████████████████████████████████████████████████████████████████████████████| 30576/30576 [14:13<00:00, 35.84it/s]\n",
      "  0%|                                                                                                                              | 5/30576 [00:00<10:54, 46.70it/s]"
     ]
    },
    {
     "name": "stdout",
     "output_type": "stream",
     "text": [
      "epochs: 70 loss: 140821.85086278903\n"
     ]
    },
    {
     "name": "stderr",
     "output_type": "stream",
     "text": [
      "100%|██████████████████████████████████████████████████████████████████████████████████████████████████████████████████████████| 30576/30576 [14:18<00:00, 35.60it/s]\n",
      "  0%|                                                                                                                              | 5/30576 [00:00<11:13, 45.42it/s]"
     ]
    },
    {
     "name": "stdout",
     "output_type": "stream",
     "text": [
      "epochs: 71 loss: 140827.24071702626\n"
     ]
    },
    {
     "name": "stderr",
     "output_type": "stream",
     "text": [
      "100%|██████████████████████████████████████████████████████████████████████████████████████████████████████████████████████████| 30576/30576 [14:25<00:00, 35.33it/s]\n",
      "  0%|                                                                                                                                      | 0/30576 [00:00<?, ?it/s]"
     ]
    },
    {
     "name": "stdout",
     "output_type": "stream",
     "text": [
      "epochs: 72 loss: 140780.74219461234\n"
     ]
    },
    {
     "name": "stderr",
     "output_type": "stream",
     "text": [
      "100%|██████████████████████████████████████████████████████████████████████████████████████████████████████████████████████████| 30576/30576 [14:19<00:00, 35.58it/s]\n",
      "  0%|                                                                                                                              | 5/30576 [00:00<11:00, 46.29it/s]"
     ]
    },
    {
     "name": "stdout",
     "output_type": "stream",
     "text": [
      "epochs: 73 loss: 140752.0691843525\n"
     ]
    },
    {
     "name": "stderr",
     "output_type": "stream",
     "text": [
      "100%|██████████████████████████████████████████████████████████████████████████████████████████████████████████████████████████| 30576/30576 [14:11<00:00, 35.92it/s]\n",
      "  0%|                                                                                                                              | 5/30576 [00:00<11:31, 44.22it/s]"
     ]
    },
    {
     "name": "stdout",
     "output_type": "stream",
     "text": [
      "epochs: 74 loss: 140761.49096341128\n"
     ]
    },
    {
     "name": "stderr",
     "output_type": "stream",
     "text": [
      "100%|██████████████████████████████████████████████████████████████████████████████████████████████████████████████████████████| 30576/30576 [13:29<00:00, 37.76it/s]\n",
      "  0%|                                                                                                                                      | 0/30576 [00:00<?, ?it/s]"
     ]
    },
    {
     "name": "stdout",
     "output_type": "stream",
     "text": [
      "epochs: 75 loss: 140692.05178313085\n"
     ]
    },
    {
     "name": "stderr",
     "output_type": "stream",
     "text": [
      "100%|██████████████████████████████████████████████████████████████████████████████████████████████████████████████████████████| 30576/30576 [13:27<00:00, 37.87it/s]\n",
      "  0%|                                                                                                                                      | 0/30576 [00:00<?, ?it/s]"
     ]
    },
    {
     "name": "stdout",
     "output_type": "stream",
     "text": [
      "epochs: 76 loss: 140679.91812159034\n"
     ]
    },
    {
     "name": "stderr",
     "output_type": "stream",
     "text": [
      "100%|██████████████████████████████████████████████████████████████████████████████████████████████████████████████████████████| 30576/30576 [14:21<00:00, 35.51it/s]\n",
      "  0%|                                                                                                                              | 5/30576 [00:00<10:51, 46.90it/s]"
     ]
    },
    {
     "name": "stdout",
     "output_type": "stream",
     "text": [
      "epochs: 77 loss: 140706.16585991278\n"
     ]
    },
    {
     "name": "stderr",
     "output_type": "stream",
     "text": [
      "100%|██████████████████████████████████████████████████████████████████████████████████████████████████████████████████████████| 30576/30576 [15:24<00:00, 33.06it/s]\n",
      "  0%|                                                                                                                              | 5/30576 [00:00<10:42, 47.59it/s]"
     ]
    },
    {
     "name": "stdout",
     "output_type": "stream",
     "text": [
      "epochs: 78 loss: 140639.16573513058\n"
     ]
    },
    {
     "name": "stderr",
     "output_type": "stream",
     "text": [
      "100%|██████████████████████████████████████████████████████████████████████████████████████████████████████████████████████████| 30576/30576 [15:29<00:00, 32.89it/s]\n",
      "  0%|                                                                                                                                      | 0/30576 [00:00<?, ?it/s]"
     ]
    },
    {
     "name": "stdout",
     "output_type": "stream",
     "text": [
      "epochs: 79 loss: 140590.59008326777\n"
     ]
    },
    {
     "name": "stderr",
     "output_type": "stream",
     "text": [
      "100%|██████████████████████████████████████████████████████████████████████████████████████████████████████████████████████████| 30576/30576 [17:13<00:00, 29.60it/s]\n",
      "  0%|                                                                                                                              | 4/30576 [00:00<13:45, 37.01it/s]"
     ]
    },
    {
     "name": "stdout",
     "output_type": "stream",
     "text": [
      "epochs: 80 loss: 140647.45891527578\n"
     ]
    },
    {
     "name": "stderr",
     "output_type": "stream",
     "text": [
      "100%|██████████████████████████████████████████████████████████████████████████████████████████████████████████████████████████| 30576/30576 [19:30<00:00, 26.13it/s]\n",
      "  0%|                                                                                                                                      | 0/30576 [00:00<?, ?it/s]"
     ]
    },
    {
     "name": "stdout",
     "output_type": "stream",
     "text": [
      "epochs: 81 loss: 140688.7607054249\n"
     ]
    },
    {
     "name": "stderr",
     "output_type": "stream",
     "text": [
      "100%|██████████████████████████████████████████████████████████████████████████████████████████████████████████████████████████| 30576/30576 [18:26<00:00, 27.63it/s]\n",
      "  0%|                                                                                                                                      | 0/30576 [00:00<?, ?it/s]"
     ]
    },
    {
     "name": "stdout",
     "output_type": "stream",
     "text": [
      "epochs: 82 loss: 140612.50444725578\n"
     ]
    },
    {
     "name": "stderr",
     "output_type": "stream",
     "text": [
      "100%|██████████████████████████████████████████████████████████████████████████████████████████████████████████████████████████| 30576/30576 [16:49<00:00, 30.29it/s]\n",
      "  0%|                                                                                                                              | 5/30576 [00:00<11:19, 44.98it/s]"
     ]
    },
    {
     "name": "stdout",
     "output_type": "stream",
     "text": [
      "epochs: 83 loss: 140564.32280041254\n"
     ]
    },
    {
     "name": "stderr",
     "output_type": "stream",
     "text": [
      "100%|██████████████████████████████████████████████████████████████████████████████████████████████████████████████████████████| 30576/30576 [17:38<00:00, 28.89it/s]\n",
      "  0%|                                                                                                                                      | 0/30576 [00:00<?, ?it/s]"
     ]
    },
    {
     "name": "stdout",
     "output_type": "stream",
     "text": [
      "epochs: 84 loss: 140546.64459748205\n"
     ]
    },
    {
     "name": "stderr",
     "output_type": "stream",
     "text": [
      "100%|██████████████████████████████████████████████████████████████████████████████████████████████████████████████████████████| 30576/30576 [17:57<00:00, 28.39it/s]\n",
      "  0%|                                                                                                                              | 3/30576 [00:00<16:59, 29.98it/s]"
     ]
    },
    {
     "name": "stdout",
     "output_type": "stream",
     "text": [
      "epochs: 85 loss: 140549.5828624943\n"
     ]
    },
    {
     "name": "stderr",
     "output_type": "stream",
     "text": [
      "100%|██████████████████████████████████████████████████████████████████████████████████████████████████████████████████████████| 30576/30576 [18:41<00:00, 27.27it/s]\n",
      "  0%|                                                                                                                                      | 0/30576 [00:00<?, ?it/s]"
     ]
    },
    {
     "name": "stdout",
     "output_type": "stream",
     "text": [
      "epochs: 86 loss: 140506.86541998008\n"
     ]
    },
    {
     "name": "stderr",
     "output_type": "stream",
     "text": [
      "100%|██████████████████████████████████████████████████████████████████████████████████████████████████████████████████████████| 30576/30576 [17:17<00:00, 29.48it/s]\n",
      "  0%|                                                                                                                              | 5/30576 [00:00<10:36, 48.04it/s]"
     ]
    },
    {
     "name": "stdout",
     "output_type": "stream",
     "text": [
      "epochs: 87 loss: 140475.8904502212\n"
     ]
    },
    {
     "name": "stderr",
     "output_type": "stream",
     "text": [
      "100%|██████████████████████████████████████████████████████████████████████████████████████████████████████████████████████████| 30576/30576 [14:08<00:00, 36.06it/s]\n",
      "  0%|                                                                                                                              | 5/30576 [00:00<10:48, 47.14it/s]"
     ]
    },
    {
     "name": "stdout",
     "output_type": "stream",
     "text": [
      "epochs: 88 loss: 140535.3943355038\n"
     ]
    },
    {
     "name": "stderr",
     "output_type": "stream",
     "text": [
      "100%|██████████████████████████████████████████████████████████████████████████████████████████████████████████████████████████| 30576/30576 [14:27<00:00, 35.24it/s]\n",
      "  0%|                                                                                                                              | 5/30576 [00:00<11:49, 43.10it/s]"
     ]
    },
    {
     "name": "stdout",
     "output_type": "stream",
     "text": [
      "epochs: 89 loss: 140431.3991396132\n"
     ]
    },
    {
     "name": "stderr",
     "output_type": "stream",
     "text": [
      "100%|██████████████████████████████████████████████████████████████████████████████████████████████████████████████████████████| 30576/30576 [14:23<00:00, 35.41it/s]\n",
      "  0%|                                                                                                                              | 5/30576 [00:00<10:35, 48.07it/s]"
     ]
    },
    {
     "name": "stdout",
     "output_type": "stream",
     "text": [
      "epochs: 90 loss: 140468.82000401348\n"
     ]
    },
    {
     "name": "stderr",
     "output_type": "stream",
     "text": [
      "100%|███████████████████████████████████████████████████████████████████████████████████████████████████████████████████████| 30576/30576 [14:04:23<00:00,  1.66s/it]\n",
      "  0%|                                                                                                                                      | 0/30576 [00:00<?, ?it/s]"
     ]
    },
    {
     "name": "stdout",
     "output_type": "stream",
     "text": [
      "epochs: 91 loss: 140475.96926736075\n"
     ]
    },
    {
     "name": "stderr",
     "output_type": "stream",
     "text": [
      "100%|██████████████████████████████████████████████████████████████████████████████████████████████████████████████████████████| 30576/30576 [16:29<00:00, 30.89it/s]\n",
      "  0%|                                                                                                                              | 4/30576 [00:00<13:07, 38.81it/s]"
     ]
    },
    {
     "name": "stdout",
     "output_type": "stream",
     "text": [
      "epochs: 92 loss: 140398.83503031923\n"
     ]
    },
    {
     "name": "stderr",
     "output_type": "stream",
     "text": [
      "100%|██████████████████████████████████████████████████████████████████████████████████████████████████████████████████████████| 30576/30576 [16:33<00:00, 30.79it/s]\n",
      "  0%|                                                                                                                                      | 0/30576 [00:00<?, ?it/s]"
     ]
    },
    {
     "name": "stdout",
     "output_type": "stream",
     "text": [
      "epochs: 93 loss: 140410.72394566168\n"
     ]
    },
    {
     "name": "stderr",
     "output_type": "stream",
     "text": [
      "100%|██████████████████████████████████████████████████████████████████████████████████████████████████████████████████████████| 30576/30576 [16:23<00:00, 31.09it/s]\n",
      "  0%|                                                                                                                              | 5/30576 [00:00<12:01, 42.34it/s]"
     ]
    },
    {
     "name": "stdout",
     "output_type": "stream",
     "text": [
      "epochs: 94 loss: 140339.01848177434\n"
     ]
    },
    {
     "name": "stderr",
     "output_type": "stream",
     "text": [
      "100%|██████████████████████████████████████████████████████████████████████████████████████████████████████████████████████████| 30576/30576 [16:39<00:00, 30.58it/s]\n",
      "  0%|                                                                                                                                      | 0/30576 [00:00<?, ?it/s]"
     ]
    },
    {
     "name": "stdout",
     "output_type": "stream",
     "text": [
      "epochs: 95 loss: 140434.26650418135\n"
     ]
    },
    {
     "name": "stderr",
     "output_type": "stream",
     "text": [
      "100%|██████████████████████████████████████████████████████████████████████████████████████████████████████████████████████████| 30576/30576 [16:33<00:00, 30.77it/s]\n",
      "  0%|                                                                                                                                      | 0/30576 [00:00<?, ?it/s]"
     ]
    },
    {
     "name": "stdout",
     "output_type": "stream",
     "text": [
      "epochs: 96 loss: 140380.9753970296\n"
     ]
    },
    {
     "name": "stderr",
     "output_type": "stream",
     "text": [
      "100%|██████████████████████████████████████████████████████████████████████████████████████████████████████████████████████████| 30576/30576 [16:50<00:00, 30.25it/s]\n",
      "  0%|                                                                                                                              | 5/30576 [00:00<13:03, 39.04it/s]"
     ]
    },
    {
     "name": "stdout",
     "output_type": "stream",
     "text": [
      "epochs: 97 loss: 140399.2536172329\n"
     ]
    },
    {
     "name": "stderr",
     "output_type": "stream",
     "text": [
      "100%|██████████████████████████████████████████████████████████████████████████████████████████████████████████████████████████| 30576/30576 [15:40<00:00, 32.51it/s]\n",
      "  0%|                                                                                                                              | 5/30576 [00:00<11:43, 43.45it/s]"
     ]
    },
    {
     "name": "stdout",
     "output_type": "stream",
     "text": [
      "epochs: 98 loss: 140286.071669356\n"
     ]
    },
    {
     "name": "stderr",
     "output_type": "stream",
     "text": [
      "100%|██████████████████████████████████████████████████████████████████████████████████████████████████████████████████████████| 30576/30576 [14:23<00:00, 35.42it/s]\n",
      "  0%|                                                                                                                              | 5/30576 [00:00<10:42, 47.59it/s]"
     ]
    },
    {
     "name": "stdout",
     "output_type": "stream",
     "text": [
      "epochs: 99 loss: 140417.52919878627\n"
     ]
    },
    {
     "name": "stderr",
     "output_type": "stream",
     "text": [
      "100%|██████████████████████████████████████████████████████████████████████████████████████████████████████████████████████████| 30576/30576 [14:10<00:00, 35.96it/s]\n",
      "  0%|                                                                                                                              | 2/30576 [00:00<25:45, 19.79it/s]"
     ]
    },
    {
     "name": "stdout",
     "output_type": "stream",
     "text": [
      "epochs: 100 loss: 140320.48271327355\n"
     ]
    },
    {
     "name": "stderr",
     "output_type": "stream",
     "text": [
      "100%|██████████████████████████████████████████████████████████████████████████████████████████████████████████████████████████| 30576/30576 [14:27<00:00, 35.23it/s]\n",
      "  0%|                                                                                                                              | 5/30576 [00:00<11:19, 45.02it/s]"
     ]
    },
    {
     "name": "stdout",
     "output_type": "stream",
     "text": [
      "epochs: 101 loss: 140380.64760193817\n"
     ]
    },
    {
     "name": "stderr",
     "output_type": "stream",
     "text": [
      "100%|██████████████████████████████████████████████████████████████████████████████████████████████████████████████████████████| 30576/30576 [14:27<00:00, 35.26it/s]\n",
      "  0%|                                                                                                                                      | 0/30576 [00:00<?, ?it/s]"
     ]
    },
    {
     "name": "stdout",
     "output_type": "stream",
     "text": [
      "epochs: 102 loss: 140282.01440355714\n"
     ]
    },
    {
     "name": "stderr",
     "output_type": "stream",
     "text": [
      "100%|██████████████████████████████████████████████████████████████████████████████████████████████████████████████████████████| 30576/30576 [14:23<00:00, 35.40it/s]\n",
      "  0%|                                                                                                                              | 5/30576 [00:00<10:36, 48.04it/s]"
     ]
    },
    {
     "name": "stdout",
     "output_type": "stream",
     "text": [
      "epochs: 103 loss: 140326.6478451863\n"
     ]
    },
    {
     "name": "stderr",
     "output_type": "stream",
     "text": [
      "100%|██████████████████████████████████████████████████████████████████████████████████████████████████████████████████████████| 30576/30576 [14:32<00:00, 35.05it/s]\n",
      "  0%|                                                                                                                              | 5/30576 [00:00<10:48, 47.14it/s]"
     ]
    },
    {
     "name": "stdout",
     "output_type": "stream",
     "text": [
      "epochs: 104 loss: 140239.66928546972\n"
     ]
    },
    {
     "name": "stderr",
     "output_type": "stream",
     "text": [
      "100%|██████████████████████████████████████████████████████████████████████████████████████████████████████████████████████████| 30576/30576 [14:34<00:00, 34.97it/s]\n",
      "  0%|                                                                                                                              | 5/30576 [00:00<10:36, 48.04it/s]"
     ]
    },
    {
     "name": "stdout",
     "output_type": "stream",
     "text": [
      "epochs: 105 loss: 140256.61776807273\n"
     ]
    },
    {
     "name": "stderr",
     "output_type": "stream",
     "text": [
      "100%|██████████████████████████████████████████████████████████████████████████████████████████████████████████████████████████| 30576/30576 [14:26<00:00, 35.30it/s]\n",
      "  0%|                                                                                                                              | 5/30576 [00:00<10:36, 48.04it/s]"
     ]
    },
    {
     "name": "stdout",
     "output_type": "stream",
     "text": [
      "epochs: 106 loss: 140248.20464298312\n"
     ]
    },
    {
     "name": "stderr",
     "output_type": "stream",
     "text": [
      "100%|██████████████████████████████████████████████████████████████████████████████████████████████████████████████████████████| 30576/30576 [14:31<00:00, 35.08it/s]\n",
      "  0%|                                                                                                                              | 5/30576 [00:00<10:36, 48.04it/s]"
     ]
    },
    {
     "name": "stdout",
     "output_type": "stream",
     "text": [
      "epochs: 107 loss: 140271.99855492642\n"
     ]
    },
    {
     "name": "stderr",
     "output_type": "stream",
     "text": [
      "100%|██████████████████████████████████████████████████████████████████████████████████████████████████████████████████████████| 30576/30576 [14:33<00:00, 35.01it/s]\n",
      "  0%|                                                                                                                              | 5/30576 [00:00<10:42, 47.59it/s]"
     ]
    },
    {
     "name": "stdout",
     "output_type": "stream",
     "text": [
      "epochs: 108 loss: 140267.41946113214\n"
     ]
    },
    {
     "name": "stderr",
     "output_type": "stream",
     "text": [
      "100%|██████████████████████████████████████████████████████████████████████████████████████████████████████████████████████████| 30576/30576 [14:29<00:00, 35.18it/s]\n",
      "  0%|                                                                                                                              | 5/30576 [00:00<10:42, 47.59it/s]"
     ]
    },
    {
     "name": "stdout",
     "output_type": "stream",
     "text": [
      "epochs: 109 loss: 140234.9384151497\n"
     ]
    },
    {
     "name": "stderr",
     "output_type": "stream",
     "text": [
      "100%|██████████████████████████████████████████████████████████████████████████████████████████████████████████████████████████| 30576/30576 [14:38<00:00, 34.82it/s]\n",
      "  0%|                                                                                                                                      | 0/30576 [00:00<?, ?it/s]"
     ]
    },
    {
     "name": "stdout",
     "output_type": "stream",
     "text": [
      "epochs: 110 loss: 140245.2258461511\n"
     ]
    },
    {
     "name": "stderr",
     "output_type": "stream",
     "text": [
      "100%|██████████████████████████████████████████████████████████████████████████████████████████████████████████████████████████| 30576/30576 [21:16<00:00, 23.96it/s]\n",
      "  0%|                                                                                                                                      | 0/30576 [00:00<?, ?it/s]"
     ]
    },
    {
     "name": "stdout",
     "output_type": "stream",
     "text": [
      "epochs: 111 loss: 140232.25735980642\n"
     ]
    },
    {
     "name": "stderr",
     "output_type": "stream",
     "text": [
      "100%|██████████████████████████████████████████████████████████████████████████████████████████████████████████████████████████| 30576/30576 [21:29<00:00, 23.72it/s]\n",
      "  0%|                                                                                                                                      | 0/30576 [00:00<?, ?it/s]"
     ]
    },
    {
     "name": "stdout",
     "output_type": "stream",
     "text": [
      "epochs: 112 loss: 140216.98180897473\n"
     ]
    },
    {
     "name": "stderr",
     "output_type": "stream",
     "text": [
      "100%|██████████████████████████████████████████████████████████████████████████████████████████████████████████████████████████| 30576/30576 [22:03<00:00, 23.10it/s]\n",
      "  0%|                                                                                                                              | 3/30576 [00:00<19:22, 26.30it/s]"
     ]
    },
    {
     "name": "stdout",
     "output_type": "stream",
     "text": [
      "epochs: 113 loss: 140262.14754272567\n"
     ]
    },
    {
     "name": "stderr",
     "output_type": "stream",
     "text": [
      "100%|██████████████████████████████████████████████████████████████████████████████████████████████████████████████████████████| 30576/30576 [22:27<00:00, 22.69it/s]\n",
      "  0%|                                                                                                                                      | 0/30576 [00:00<?, ?it/s]"
     ]
    },
    {
     "name": "stdout",
     "output_type": "stream",
     "text": [
      "epochs: 114 loss: 140200.0770733948\n"
     ]
    },
    {
     "name": "stderr",
     "output_type": "stream",
     "text": [
      "100%|██████████████████████████████████████████████████████████████████████████████████████████████████████████████████████████| 30576/30576 [23:16<00:00, 21.89it/s]\n",
      "  0%|                                                                                                                                      | 0/30576 [00:00<?, ?it/s]"
     ]
    },
    {
     "name": "stdout",
     "output_type": "stream",
     "text": [
      "epochs: 115 loss: 140200.84973010275\n"
     ]
    },
    {
     "name": "stderr",
     "output_type": "stream",
     "text": [
      "100%|██████████████████████████████████████████████████████████████████████████████████████████████████████████████████████████| 30576/30576 [21:58<00:00, 23.20it/s]\n",
      "  0%|                                                                                                                                      | 0/30576 [00:00<?, ?it/s]"
     ]
    },
    {
     "name": "stdout",
     "output_type": "stream",
     "text": [
      "epochs: 116 loss: 140194.81553472005\n"
     ]
    },
    {
     "name": "stderr",
     "output_type": "stream",
     "text": [
      "100%|██████████████████████████████████████████████████████████████████████████████████████████████████████████████████████████| 30576/30576 [17:55<00:00, 28.44it/s]\n",
      "  0%|                                                                                                                              | 4/30576 [00:00<12:52, 39.58it/s]"
     ]
    },
    {
     "name": "stdout",
     "output_type": "stream",
     "text": [
      "epochs: 117 loss: 140180.80932798015\n"
     ]
    },
    {
     "name": "stderr",
     "output_type": "stream",
     "text": [
      "100%|██████████████████████████████████████████████████████████████████████████████████████████████████████████████████████████| 30576/30576 [15:56<00:00, 31.97it/s]\n",
      "  0%|                                                                                                                                      | 0/30576 [00:00<?, ?it/s]"
     ]
    },
    {
     "name": "stdout",
     "output_type": "stream",
     "text": [
      "epochs: 118 loss: 140229.95792465276\n"
     ]
    },
    {
     "name": "stderr",
     "output_type": "stream",
     "text": [
      "100%|██████████████████████████████████████████████████████████████████████████████████████████████████████████████████████████| 30576/30576 [16:17<00:00, 31.27it/s]\n",
      "  0%|                                                                                                                              | 5/30576 [00:00<11:37, 43.83it/s]"
     ]
    },
    {
     "name": "stdout",
     "output_type": "stream",
     "text": [
      "epochs: 119 loss: 140246.43531115723\n"
     ]
    },
    {
     "name": "stderr",
     "output_type": "stream",
     "text": [
      "100%|██████████████████████████████████████████████████████████████████████████████████████████████████████████████████████████| 30576/30576 [16:22<00:00, 31.13it/s]\n",
      "  0%|                                                                                                                              | 5/30576 [00:00<11:49, 43.07it/s]"
     ]
    },
    {
     "name": "stdout",
     "output_type": "stream",
     "text": [
      "epochs: 120 loss: 140197.28210672204\n"
     ]
    },
    {
     "name": "stderr",
     "output_type": "stream",
     "text": [
      "100%|██████████████████████████████████████████████████████████████████████████████████████████████████████████████████████████| 30576/30576 [16:19<00:00, 31.21it/s]\n",
      "  0%|                                                                                                                              | 5/30576 [00:00<11:49, 43.07it/s]"
     ]
    },
    {
     "name": "stdout",
     "output_type": "stream",
     "text": [
      "epochs: 121 loss: 140150.71114236672\n"
     ]
    },
    {
     "name": "stderr",
     "output_type": "stream",
     "text": [
      "100%|██████████████████████████████████████████████████████████████████████████████████████████████████████████████████████████| 30576/30576 [14:37<00:00, 34.86it/s]\n",
      "  0%|                                                                                                                              | 5/30576 [00:00<10:36, 48.05it/s]"
     ]
    },
    {
     "name": "stdout",
     "output_type": "stream",
     "text": [
      "epochs: 122 loss: 140198.91826142106\n"
     ]
    },
    {
     "name": "stderr",
     "output_type": "stream",
     "text": [
      "100%|██████████████████████████████████████████████████████████████████████████████████████████████████████████████████████████| 30576/30576 [14:31<00:00, 35.10it/s]\n",
      "  0%|                                                                                                                              | 5/30576 [00:00<11:00, 46.26it/s]"
     ]
    },
    {
     "name": "stdout",
     "output_type": "stream",
     "text": [
      "epochs: 123 loss: 140157.66536557823\n"
     ]
    },
    {
     "name": "stderr",
     "output_type": "stream",
     "text": [
      "100%|██████████████████████████████████████████████████████████████████████████████████████████████████████████████████████████| 30576/30576 [14:39<00:00, 34.78it/s]\n",
      "  0%|                                                                                                                              | 5/30576 [00:00<10:42, 47.59it/s]"
     ]
    },
    {
     "name": "stdout",
     "output_type": "stream",
     "text": [
      "epochs: 124 loss: 140183.0441236105\n"
     ]
    },
    {
     "name": "stderr",
     "output_type": "stream",
     "text": [
      "100%|██████████████████████████████████████████████████████████████████████████████████████████████████████████████████████████| 30576/30576 [14:39<00:00, 34.77it/s]\n",
      "  0%|                                                                                                                              | 3/30576 [00:00<19:22, 26.30it/s]"
     ]
    },
    {
     "name": "stdout",
     "output_type": "stream",
     "text": [
      "epochs: 125 loss: 140186.24945273783\n"
     ]
    },
    {
     "name": "stderr",
     "output_type": "stream",
     "text": [
      "100%|██████████████████████████████████████████████████████████████████████████████████████████████████████████████████████████| 30576/30576 [14:25<00:00, 35.33it/s]\n",
      "  0%|                                                                                                                                      | 0/30576 [00:00<?, ?it/s]"
     ]
    },
    {
     "name": "stdout",
     "output_type": "stream",
     "text": [
      "epochs: 126 loss: 140113.4074550291\n"
     ]
    },
    {
     "name": "stderr",
     "output_type": "stream",
     "text": [
      "100%|██████████████████████████████████████████████████████████████████████████████████████████████████████████████████████████| 30576/30576 [14:52<00:00, 34.27it/s]\n",
      "  0%|                                                                                                                              | 2/30576 [00:00<29:34, 17.23it/s]"
     ]
    },
    {
     "name": "stdout",
     "output_type": "stream",
     "text": [
      "epochs: 127 loss: 140149.37827547197\n"
     ]
    },
    {
     "name": "stderr",
     "output_type": "stream",
     "text": [
      "100%|██████████████████████████████████████████████████████████████████████████████████████████████████████████████████████████| 30576/30576 [14:35<00:00, 34.94it/s]\n",
      "  0%|                                                                                                                              | 5/30576 [00:00<10:42, 47.59it/s]"
     ]
    },
    {
     "name": "stdout",
     "output_type": "stream",
     "text": [
      "epochs: 128 loss: 140135.14833891808\n"
     ]
    },
    {
     "name": "stderr",
     "output_type": "stream",
     "text": [
      "100%|██████████████████████████████████████████████████████████████████████████████████████████████████████████████████████████| 30576/30576 [14:32<00:00, 35.03it/s]\n",
      "  0%|                                                                                                                              | 5/30576 [00:00<10:36, 48.04it/s]"
     ]
    },
    {
     "name": "stdout",
     "output_type": "stream",
     "text": [
      "epochs: 129 loss: 140129.89073544208\n"
     ]
    },
    {
     "name": "stderr",
     "output_type": "stream",
     "text": [
      "100%|██████████████████████████████████████████████████████████████████████████████████████████████████████████████████████████| 30576/30576 [14:33<00:00, 35.02it/s]\n",
      "  0%|                                                                                                                              | 2/30576 [00:00<26:00, 19.59it/s]"
     ]
    },
    {
     "name": "stdout",
     "output_type": "stream",
     "text": [
      "epochs: 130 loss: 140159.7709706657\n"
     ]
    },
    {
     "name": "stderr",
     "output_type": "stream",
     "text": [
      "100%|██████████████████████████████████████████████████████████████████████████████████████████████████████████████████████████| 30576/30576 [14:33<00:00, 35.00it/s]\n",
      "  0%|                                                                                                                              | 5/30576 [00:00<11:00, 46.27it/s]"
     ]
    },
    {
     "name": "stdout",
     "output_type": "stream",
     "text": [
      "epochs: 131 loss: 140123.60754512457\n"
     ]
    },
    {
     "name": "stderr",
     "output_type": "stream",
     "text": [
      "100%|██████████████████████████████████████████████████████████████████████████████████████████████████████████████████████████| 30576/30576 [14:36<00:00, 34.88it/s]\n",
      "  0%|                                                                                                                                      | 0/30576 [00:00<?, ?it/s]"
     ]
    },
    {
     "name": "stdout",
     "output_type": "stream",
     "text": [
      "epochs: 132 loss: 140141.44106917808\n"
     ]
    },
    {
     "name": "stderr",
     "output_type": "stream",
     "text": [
      "100%|██████████████████████████████████████████████████████████████████████████████████████████████████████████████████████████| 30576/30576 [14:37<00:00, 34.83it/s]\n",
      "  0%|                                                                                                                              | 5/30576 [00:00<10:54, 46.72it/s]"
     ]
    },
    {
     "name": "stdout",
     "output_type": "stream",
     "text": [
      "epochs: 133 loss: 140157.22400839833\n"
     ]
    },
    {
     "name": "stderr",
     "output_type": "stream",
     "text": [
      "100%|██████████████████████████████████████████████████████████████████████████████████████████████████████████████████████████| 30576/30576 [14:42<00:00, 34.65it/s]\n",
      "  0%|                                                                                                                              | 5/30576 [00:00<10:42, 47.59it/s]"
     ]
    },
    {
     "name": "stdout",
     "output_type": "stream",
     "text": [
      "epochs: 134 loss: 140124.63896670417\n"
     ]
    },
    {
     "name": "stderr",
     "output_type": "stream",
     "text": [
      "100%|██████████████████████████████████████████████████████████████████████████████████████████████████████████████████████████| 30576/30576 [14:29<00:00, 35.18it/s]\n",
      "  0%|                                                                                                                              | 5/30576 [00:00<10:36, 48.04it/s]"
     ]
    },
    {
     "name": "stdout",
     "output_type": "stream",
     "text": [
      "epochs: 135 loss: 140107.8730612489\n"
     ]
    },
    {
     "name": "stderr",
     "output_type": "stream",
     "text": [
      "100%|██████████████████████████████████████████████████████████████████████████████████████████████████████████████████████████| 30576/30576 [14:36<00:00, 34.88it/s]\n",
      "  0%|                                                                                                                              | 4/30576 [00:00<14:16, 35.69it/s]"
     ]
    },
    {
     "name": "stdout",
     "output_type": "stream",
     "text": [
      "epochs: 136 loss: 140060.04358758405\n"
     ]
    },
    {
     "name": "stderr",
     "output_type": "stream",
     "text": [
      "100%|██████████████████████████████████████████████████████████████████████████████████████████████████████████████████████████| 30576/30576 [14:31<00:00, 35.08it/s]\n",
      "  0%|                                                                                                                              | 5/30576 [00:00<10:37, 47.92it/s]"
     ]
    },
    {
     "name": "stdout",
     "output_type": "stream",
     "text": [
      "epochs: 137 loss: 140141.95406600196\n"
     ]
    },
    {
     "name": "stderr",
     "output_type": "stream",
     "text": [
      "100%|██████████████████████████████████████████████████████████████████████████████████████████████████████████████████████████| 30576/30576 [14:28<00:00, 35.21it/s]\n",
      "  0%|                                                                                                                                      | 0/30576 [00:00<?, ?it/s]"
     ]
    },
    {
     "name": "stdout",
     "output_type": "stream",
     "text": [
      "epochs: 138 loss: 140176.4738510535\n"
     ]
    },
    {
     "name": "stderr",
     "output_type": "stream",
     "text": [
      "100%|██████████████████████████████████████████████████████████████████████████████████████████████████████████████████████████| 30576/30576 [14:31<00:00, 35.08it/s]\n",
      "  0%|                                                                                                                                      | 0/30576 [00:00<?, ?it/s]"
     ]
    },
    {
     "name": "stdout",
     "output_type": "stream",
     "text": [
      "epochs: 139 loss: 140116.78674873934\n"
     ]
    },
    {
     "name": "stderr",
     "output_type": "stream",
     "text": [
      "100%|██████████████████████████████████████████████████████████████████████████████████████████████████████████████████████████| 30576/30576 [14:29<00:00, 35.18it/s]\n",
      "  0%|                                                                                                                              | 5/30576 [00:00<10:36, 48.04it/s]"
     ]
    },
    {
     "name": "stdout",
     "output_type": "stream",
     "text": [
      "epochs: 140 loss: 140161.23885568435\n"
     ]
    },
    {
     "name": "stderr",
     "output_type": "stream",
     "text": [
      "100%|██████████████████████████████████████████████████████████████████████████████████████████████████████████████████████████| 30576/30576 [14:36<00:00, 34.87it/s]\n",
      "  0%|                                                                                                                              | 5/30576 [00:00<10:42, 47.59it/s]"
     ]
    },
    {
     "name": "stdout",
     "output_type": "stream",
     "text": [
      "epochs: 141 loss: 140151.67373287881\n"
     ]
    },
    {
     "name": "stderr",
     "output_type": "stream",
     "text": [
      "100%|██████████████████████████████████████████████████████████████████████████████████████████████████████████████████████████| 30576/30576 [14:33<00:00, 35.02it/s]\n",
      "  0%|                                                                                                                              | 5/30576 [00:00<10:42, 47.59it/s]"
     ]
    },
    {
     "name": "stdout",
     "output_type": "stream",
     "text": [
      "epochs: 142 loss: 140107.42618720027\n"
     ]
    },
    {
     "name": "stderr",
     "output_type": "stream",
     "text": [
      "100%|██████████████████████████████████████████████████████████████████████████████████████████████████████████████████████████| 30576/30576 [14:41<00:00, 34.67it/s]\n",
      "  0%|                                                                                                                              | 3/30576 [00:00<17:40, 28.83it/s]"
     ]
    },
    {
     "name": "stdout",
     "output_type": "stream",
     "text": [
      "epochs: 143 loss: 140154.94985421113\n"
     ]
    },
    {
     "name": "stderr",
     "output_type": "stream",
     "text": [
      "100%|██████████████████████████████████████████████████████████████████████████████████████████████████████████████████████████| 30576/30576 [14:29<00:00, 35.18it/s]\n",
      "  0%|                                                                                                                                      | 0/30576 [00:00<?, ?it/s]"
     ]
    },
    {
     "name": "stdout",
     "output_type": "stream",
     "text": [
      "epochs: 144 loss: 140165.91908725494\n"
     ]
    },
    {
     "name": "stderr",
     "output_type": "stream",
     "text": [
      "100%|██████████████████████████████████████████████████████████████████████████████████████████████████████████████████████████| 30576/30576 [14:43<00:00, 34.60it/s]\n",
      "  0%|                                                                                                                                      | 0/30576 [00:00<?, ?it/s]"
     ]
    },
    {
     "name": "stdout",
     "output_type": "stream",
     "text": [
      "epochs: 145 loss: 140161.3327906164\n"
     ]
    },
    {
     "name": "stderr",
     "output_type": "stream",
     "text": [
      "100%|██████████████████████████████████████████████████████████████████████████████████████████████████████████████████████████| 30576/30576 [14:36<00:00, 34.89it/s]\n",
      "  0%|                                                                                                                              | 3/30576 [00:00<19:12, 26.53it/s]"
     ]
    },
    {
     "name": "stdout",
     "output_type": "stream",
     "text": [
      "epochs: 146 loss: 140118.00092034068\n"
     ]
    },
    {
     "name": "stderr",
     "output_type": "stream",
     "text": [
      "100%|██████████████████████████████████████████████████████████████████████████████████████████████████████████████████████████| 30576/30576 [14:38<00:00, 34.81it/s]\n",
      "  0%|                                                                                                                              | 5/30576 [00:00<10:36, 48.04it/s]"
     ]
    },
    {
     "name": "stdout",
     "output_type": "stream",
     "text": [
      "epochs: 147 loss: 140200.79700540449\n"
     ]
    },
    {
     "name": "stderr",
     "output_type": "stream",
     "text": [
      "100%|██████████████████████████████████████████████████████████████████████████████████████████████████████████████████████████| 30576/30576 [14:44<00:00, 34.56it/s]\n",
      "  0%|                                                                                                                              | 5/30576 [00:00<10:36, 48.05it/s]"
     ]
    },
    {
     "name": "stdout",
     "output_type": "stream",
     "text": [
      "epochs: 148 loss: 140072.0422740549\n"
     ]
    },
    {
     "name": "stderr",
     "output_type": "stream",
     "text": [
      "100%|██████████████████████████████████████████████████████████████████████████████████████████████████████████████████████████| 30576/30576 [14:35<00:00, 34.94it/s]\n",
      "  0%|                                                                                                                                      | 0/30576 [00:00<?, ?it/s]"
     ]
    },
    {
     "name": "stdout",
     "output_type": "stream",
     "text": [
      "epochs: 149 loss: 140078.2966651317\n"
     ]
    },
    {
     "name": "stderr",
     "output_type": "stream",
     "text": [
      "100%|██████████████████████████████████████████████████████████████████████████████████████████████████████████████████████████| 30576/30576 [14:33<00:00, 34.99it/s]\n",
      "  0%|                                                                                                                              | 5/30576 [00:00<10:42, 47.59it/s]"
     ]
    },
    {
     "name": "stdout",
     "output_type": "stream",
     "text": [
      "epochs: 150 loss: 140043.34607130577\n"
     ]
    },
    {
     "name": "stderr",
     "output_type": "stream",
     "text": [
      "100%|██████████████████████████████████████████████████████████████████████████████████████████████████████████████████████████| 30576/30576 [14:10<00:00, 35.97it/s]\n",
      "  0%|                                                                                                                                      | 0/30576 [00:00<?, ?it/s]"
     ]
    },
    {
     "name": "stdout",
     "output_type": "stream",
     "text": [
      "epochs: 151 loss: 140128.49974111712\n"
     ]
    },
    {
     "name": "stderr",
     "output_type": "stream",
     "text": [
      "100%|██████████████████████████████████████████████████████████████████████████████████████████████████████████████████████████| 30576/30576 [14:39<00:00, 34.76it/s]\n",
      "  0%|                                                                                                                              | 3/30576 [00:00<19:22, 26.30it/s]"
     ]
    },
    {
     "name": "stdout",
     "output_type": "stream",
     "text": [
      "epochs: 152 loss: 140182.280217962\n"
     ]
    },
    {
     "name": "stderr",
     "output_type": "stream",
     "text": [
      "100%|██████████████████████████████████████████████████████████████████████████████████████████████████████████████████████████| 30576/30576 [14:38<00:00, 34.81it/s]\n",
      "  0%|                                                                                                                                      | 0/30576 [00:00<?, ?it/s]"
     ]
    },
    {
     "name": "stdout",
     "output_type": "stream",
     "text": [
      "epochs: 153 loss: 140102.21101433097\n"
     ]
    },
    {
     "name": "stderr",
     "output_type": "stream",
     "text": [
      "100%|██████████████████████████████████████████████████████████████████████████████████████████████████████████████████████████| 30576/30576 [14:36<00:00, 34.87it/s]\n",
      "  0%|                                                                                                                              | 5/30576 [00:00<11:19, 45.02it/s]"
     ]
    },
    {
     "name": "stdout",
     "output_type": "stream",
     "text": [
      "epochs: 154 loss: 140196.3252692624\n"
     ]
    },
    {
     "name": "stderr",
     "output_type": "stream",
     "text": [
      "100%|██████████████████████████████████████████████████████████████████████████████████████████████████████████████████████████| 30576/30576 [14:35<00:00, 34.92it/s]\n",
      "  0%|                                                                                                                              | 5/30576 [00:00<10:36, 48.04it/s]"
     ]
    },
    {
     "name": "stdout",
     "output_type": "stream",
     "text": [
      "epochs: 155 loss: 140124.23799066455\n"
     ]
    },
    {
     "name": "stderr",
     "output_type": "stream",
     "text": [
      "100%|██████████████████████████████████████████████████████████████████████████████████████████████████████████████████████████| 30576/30576 [14:42<00:00, 34.64it/s]\n",
      "  0%|                                                                                                                              | 5/30576 [00:00<10:42, 47.59it/s]"
     ]
    },
    {
     "name": "stdout",
     "output_type": "stream",
     "text": [
      "epochs: 156 loss: 140100.18879071472\n"
     ]
    },
    {
     "name": "stderr",
     "output_type": "stream",
     "text": [
      "100%|██████████████████████████████████████████████████████████████████████████████████████████████████████████████████████████| 30576/30576 [14:36<00:00, 34.89it/s]\n",
      "  0%|                                                                                                                                      | 0/30576 [00:00<?, ?it/s]"
     ]
    },
    {
     "name": "stdout",
     "output_type": "stream",
     "text": [
      "epochs: 157 loss: 140176.86314379313\n"
     ]
    },
    {
     "name": "stderr",
     "output_type": "stream",
     "text": [
      "100%|██████████████████████████████████████████████████████████████████████████████████████████████████████████████████████████| 30576/30576 [14:36<00:00, 34.87it/s]\n",
      "  0%|                                                                                                                              | 3/30576 [00:00<22:05, 23.06it/s]"
     ]
    },
    {
     "name": "stdout",
     "output_type": "stream",
     "text": [
      "epochs: 158 loss: 140060.68541201382\n"
     ]
    },
    {
     "name": "stderr",
     "output_type": "stream",
     "text": [
      "100%|██████████████████████████████████████████████████████████████████████████████████████████████████████████████████████████| 30576/30576 [14:29<00:00, 35.18it/s]\n",
      "  0%|                                                                                                                              | 5/30576 [00:00<11:57, 42.64it/s]"
     ]
    },
    {
     "name": "stdout",
     "output_type": "stream",
     "text": [
      "epochs: 159 loss: 140160.49012862286\n"
     ]
    },
    {
     "name": "stderr",
     "output_type": "stream",
     "text": [
      "100%|██████████████████████████████████████████████████████████████████████████████████████████████████████████████████████████| 30576/30576 [14:35<00:00, 34.92it/s]\n",
      "  0%|                                                                                                                                      | 0/30576 [00:00<?, ?it/s]"
     ]
    },
    {
     "name": "stdout",
     "output_type": "stream",
     "text": [
      "epochs: 160 loss: 140092.1880661353\n"
     ]
    },
    {
     "name": "stderr",
     "output_type": "stream",
     "text": [
      "100%|██████████████████████████████████████████████████████████████████████████████████████████████████████████████████████████| 30576/30576 [14:47<00:00, 34.46it/s]\n",
      "  0%|                                                                                                                              | 5/30576 [00:00<10:42, 47.59it/s]"
     ]
    },
    {
     "name": "stdout",
     "output_type": "stream",
     "text": [
      "epochs: 161 loss: 140137.28412778798\n"
     ]
    },
    {
     "name": "stderr",
     "output_type": "stream",
     "text": [
      "100%|██████████████████████████████████████████████████████████████████████████████████████████████████████████████████████████| 30576/30576 [14:28<00:00, 35.20it/s]\n",
      "  0%|                                                                                                                              | 5/30576 [00:00<11:03, 46.07it/s]"
     ]
    },
    {
     "name": "stdout",
     "output_type": "stream",
     "text": [
      "epochs: 162 loss: 140144.29274279217\n"
     ]
    },
    {
     "name": "stderr",
     "output_type": "stream",
     "text": [
      "100%|██████████████████████████████████████████████████████████████████████████████████████████████████████████████████████████| 30576/30576 [14:44<00:00, 34.55it/s]\n",
      "  0%|                                                                                                                              | 4/30576 [00:00<15:25, 33.04it/s]"
     ]
    },
    {
     "name": "stdout",
     "output_type": "stream",
     "text": [
      "epochs: 163 loss: 140165.6066230445\n"
     ]
    },
    {
     "name": "stderr",
     "output_type": "stream",
     "text": [
      "100%|██████████████████████████████████████████████████████████████████████████████████████████████████████████████████████████| 30576/30576 [14:41<00:00, 34.69it/s]\n",
      "  0%|                                                                                                                                      | 0/30576 [00:00<?, ?it/s]"
     ]
    },
    {
     "name": "stdout",
     "output_type": "stream",
     "text": [
      "epochs: 164 loss: 140150.19621499957\n"
     ]
    },
    {
     "name": "stderr",
     "output_type": "stream",
     "text": [
      "100%|██████████████████████████████████████████████████████████████████████████████████████████████████████████████████████████| 30576/30576 [14:40<00:00, 34.74it/s]\n",
      "  0%|                                                                                                                              | 5/30576 [00:00<11:43, 43.45it/s]"
     ]
    },
    {
     "name": "stdout",
     "output_type": "stream",
     "text": [
      "epochs: 165 loss: 140084.42335142507\n"
     ]
    },
    {
     "name": "stderr",
     "output_type": "stream",
     "text": [
      "100%|██████████████████████████████████████████████████████████████████████████████████████████████████████████████████████████| 30576/30576 [14:43<00:00, 34.59it/s]\n",
      "  0%|                                                                                                                              | 5/30576 [00:00<11:00, 46.27it/s]"
     ]
    },
    {
     "name": "stdout",
     "output_type": "stream",
     "text": [
      "epochs: 166 loss: 140230.90413261636\n"
     ]
    },
    {
     "name": "stderr",
     "output_type": "stream",
     "text": [
      "100%|██████████████████████████████████████████████████████████████████████████████████████████████████████████████████████████| 30576/30576 [14:41<00:00, 34.68it/s]\n",
      "  0%|                                                                                                                                      | 0/30576 [00:00<?, ?it/s]"
     ]
    },
    {
     "name": "stdout",
     "output_type": "stream",
     "text": [
      "epochs: 167 loss: 140124.6325135922\n"
     ]
    },
    {
     "name": "stderr",
     "output_type": "stream",
     "text": [
      "100%|██████████████████████████████████████████████████████████████████████████████████████████████████████████████████████████| 30576/30576 [14:39<00:00, 34.76it/s]\n",
      "  0%|                                                                                                                              | 5/30576 [00:00<10:42, 47.59it/s]"
     ]
    },
    {
     "name": "stdout",
     "output_type": "stream",
     "text": [
      "epochs: 168 loss: 140157.67714159697\n"
     ]
    },
    {
     "name": "stderr",
     "output_type": "stream",
     "text": [
      "100%|██████████████████████████████████████████████████████████████████████████████████████████████████████████████████████████| 30576/30576 [14:45<00:00, 34.53it/s]\n",
      "  0%|                                                                                                                              | 5/30576 [00:00<10:42, 47.59it/s]"
     ]
    },
    {
     "name": "stdout",
     "output_type": "stream",
     "text": [
      "epochs: 169 loss: 140127.60240687281\n"
     ]
    },
    {
     "name": "stderr",
     "output_type": "stream",
     "text": [
      "100%|██████████████████████████████████████████████████████████████████████████████████████████████████████████████████████████| 30576/30576 [14:41<00:00, 34.67it/s]\n",
      "  0%|                                                                                                                              | 5/30576 [00:00<10:38, 47.87it/s]"
     ]
    },
    {
     "name": "stdout",
     "output_type": "stream",
     "text": [
      "epochs: 170 loss: 140182.60647076793\n"
     ]
    },
    {
     "name": "stderr",
     "output_type": "stream",
     "text": [
      "100%|██████████████████████████████████████████████████████████████████████████████████████████████████████████████████████████| 30576/30576 [16:44<00:00, 30.45it/s]\n",
      "  0%|                                                                                                                                      | 0/30576 [00:00<?, ?it/s]"
     ]
    },
    {
     "name": "stdout",
     "output_type": "stream",
     "text": [
      "epochs: 171 loss: 140156.11409493492\n"
     ]
    },
    {
     "name": "stderr",
     "output_type": "stream",
     "text": [
      "100%|██████████████████████████████████████████████████████████████████████████████████████████████████████████████████████████| 30576/30576 [16:45<00:00, 30.41it/s]\n",
      "  0%|                                                                                                                                      | 0/30576 [00:00<?, ?it/s]"
     ]
    },
    {
     "name": "stdout",
     "output_type": "stream",
     "text": [
      "epochs: 172 loss: 140177.47530804487\n"
     ]
    },
    {
     "name": "stderr",
     "output_type": "stream",
     "text": [
      "100%|██████████████████████████████████████████████████████████████████████████████████████████████████████████████████████████| 30576/30576 [16:17<00:00, 31.27it/s]\n",
      "  0%|                                                                                                                              | 5/30576 [00:00<11:43, 43.45it/s]"
     ]
    },
    {
     "name": "stdout",
     "output_type": "stream",
     "text": [
      "epochs: 173 loss: 140131.28160803978\n"
     ]
    },
    {
     "name": "stderr",
     "output_type": "stream",
     "text": [
      "100%|██████████████████████████████████████████████████████████████████████████████████████████████████████████████████████████| 30576/30576 [15:50<00:00, 32.17it/s]\n",
      "  0%|                                                                                                                                      | 0/30576 [00:00<?, ?it/s]"
     ]
    },
    {
     "name": "stdout",
     "output_type": "stream",
     "text": [
      "epochs: 174 loss: 140229.98721364557\n"
     ]
    },
    {
     "name": "stderr",
     "output_type": "stream",
     "text": [
      "100%|██████████████████████████████████████████████████████████████████████████████████████████████████████████████████████████| 30576/30576 [14:44<00:00, 34.58it/s]\n",
      "  0%|                                                                                                                              | 5/30576 [00:00<10:42, 47.59it/s]"
     ]
    },
    {
     "name": "stdout",
     "output_type": "stream",
     "text": [
      "epochs: 175 loss: 140144.53256089633\n"
     ]
    },
    {
     "name": "stderr",
     "output_type": "stream",
     "text": [
      "100%|██████████████████████████████████████████████████████████████████████████████████████████████████████████████████████████| 30576/30576 [17:54<00:00, 28.45it/s]\n",
      "  0%|                                                                                                                                      | 0/30576 [00:00<?, ?it/s]"
     ]
    },
    {
     "name": "stdout",
     "output_type": "stream",
     "text": [
      "epochs: 176 loss: 140187.20010960035\n"
     ]
    },
    {
     "name": "stderr",
     "output_type": "stream",
     "text": [
      "100%|██████████████████████████████████████████████████████████████████████████████████████████████████████████████████████████| 30576/30576 [17:58<00:00, 28.36it/s]\n",
      "  0%|                                                                                                                                      | 0/30576 [00:00<?, ?it/s]"
     ]
    },
    {
     "name": "stdout",
     "output_type": "stream",
     "text": [
      "epochs: 177 loss: 140210.43367779173\n"
     ]
    },
    {
     "name": "stderr",
     "output_type": "stream",
     "text": [
      "100%|██████████████████████████████████████████████████████████████████████████████████████████████████████████████████████████| 30576/30576 [18:02<00:00, 28.24it/s]\n",
      "  0%|                                                                                                                                      | 0/30576 [00:00<?, ?it/s]"
     ]
    },
    {
     "name": "stdout",
     "output_type": "stream",
     "text": [
      "epochs: 178 loss: 140243.92968139422\n"
     ]
    },
    {
     "name": "stderr",
     "output_type": "stream",
     "text": [
      "100%|██████████████████████████████████████████████████████████████████████████████████████████████████████████████████████████| 30576/30576 [17:21<00:00, 29.35it/s]\n",
      "  0%|                                                                                                                              | 4/30576 [00:00<15:02, 33.88it/s]"
     ]
    },
    {
     "name": "stdout",
     "output_type": "stream",
     "text": [
      "epochs: 179 loss: 140191.82109371055\n"
     ]
    },
    {
     "name": "stderr",
     "output_type": "stream",
     "text": [
      "100%|██████████████████████████████████████████████████████████████████████████████████████████████████████████████████████████| 30576/30576 [16:35<00:00, 30.72it/s]\n",
      "  0%|                                                                                                                              | 4/30576 [00:00<13:07, 38.81it/s]"
     ]
    },
    {
     "name": "stdout",
     "output_type": "stream",
     "text": [
      "epochs: 180 loss: 140189.43482600292\n"
     ]
    },
    {
     "name": "stderr",
     "output_type": "stream",
     "text": [
      "100%|██████████████████████████████████████████████████████████████████████████████████████████████████████████████████████████| 30576/30576 [17:17<00:00, 29.46it/s]\n",
      "  0%|                                                                                                                              | 4/30576 [00:00<14:16, 35.69it/s]"
     ]
    },
    {
     "name": "stdout",
     "output_type": "stream",
     "text": [
      "epochs: 181 loss: 140227.97731728837\n"
     ]
    },
    {
     "name": "stderr",
     "output_type": "stream",
     "text": [
      "100%|██████████████████████████████████████████████████████████████████████████████████████████████████████████████████████████| 30576/30576 [16:30<00:00, 30.85it/s]\n",
      "  0%|                                                                                                                              | 4/30576 [00:00<14:16, 35.69it/s]"
     ]
    },
    {
     "name": "stdout",
     "output_type": "stream",
     "text": [
      "epochs: 182 loss: 140244.09617346214\n"
     ]
    },
    {
     "name": "stderr",
     "output_type": "stream",
     "text": [
      "100%|██████████████████████████████████████████████████████████████████████████████████████████████████████████████████████████| 30576/30576 [16:52<00:00, 30.19it/s]\n",
      "  0%|                                                                                                                              | 5/30576 [00:00<12:08, 41.99it/s]"
     ]
    },
    {
     "name": "stdout",
     "output_type": "stream",
     "text": [
      "epochs: 183 loss: 140255.52217944336\n"
     ]
    },
    {
     "name": "stderr",
     "output_type": "stream",
     "text": [
      "100%|██████████████████████████████████████████████████████████████████████████████████████████████████████████████████████████| 30576/30576 [16:48<00:00, 30.33it/s]\n",
      "  0%|                                                                                                                              | 5/30576 [00:00<12:38, 40.30it/s]"
     ]
    },
    {
     "name": "stdout",
     "output_type": "stream",
     "text": [
      "epochs: 184 loss: 140156.23150732534\n"
     ]
    },
    {
     "name": "stderr",
     "output_type": "stream",
     "text": [
      "100%|██████████████████████████████████████████████████████████████████████████████████████████████████████████████████████████| 30576/30576 [17:49<00:00, 28.59it/s]\n",
      "  0%|                                                                                                                              | 4/30576 [00:00<12:44, 39.97it/s]"
     ]
    },
    {
     "name": "stdout",
     "output_type": "stream",
     "text": [
      "epochs: 185 loss: 140270.08864680145\n"
     ]
    },
    {
     "name": "stderr",
     "output_type": "stream",
     "text": [
      "100%|██████████████████████████████████████████████████████████████████████████████████████████████████████████████████████████| 30576/30576 [16:32<00:00, 30.82it/s]\n",
      "  0%|                                                                                                                              | 3/30576 [00:00<18:00, 28.28it/s]"
     ]
    },
    {
     "name": "stdout",
     "output_type": "stream",
     "text": [
      "epochs: 186 loss: 140223.70405262223\n"
     ]
    },
    {
     "name": "stderr",
     "output_type": "stream",
     "text": [
      "100%|██████████████████████████████████████████████████████████████████████████████████████████████████████████████████████████| 30576/30576 [16:00<00:00, 31.84it/s]\n",
      "  0%|                                                                                                                              | 5/30576 [00:00<11:06, 45.84it/s]"
     ]
    },
    {
     "name": "stdout",
     "output_type": "stream",
     "text": [
      "epochs: 187 loss: 140243.24785912302\n"
     ]
    },
    {
     "name": "stderr",
     "output_type": "stream",
     "text": [
      "100%|██████████████████████████████████████████████████████████████████████████████████████████████████████████████████████████| 30576/30576 [28:07<00:00, 18.12it/s]\n"
     ]
    },
    {
     "name": "stdout",
     "output_type": "stream",
     "text": [
      "epochs: 188 loss: 140219.6660955323\n"
     ]
    },
    {
     "name": "stderr",
     "output_type": "stream",
     "text": [
      "100%|██████████████████████████████████████████████████████████████████████████████████████████████████████████████████████████| 30576/30576 [54:38<00:00,  9.33it/s]\n"
     ]
    },
    {
     "name": "stdout",
     "output_type": "stream",
     "text": [
      "epochs: 189 loss: 140280.02316123713\n"
     ]
    },
    {
     "name": "stderr",
     "output_type": "stream",
     "text": [
      "100%|██████████████████████████████████████████████████████████████████████████████████████████████████████████████████████████| 30576/30576 [54:16<00:00,  9.39it/s]\n"
     ]
    },
    {
     "name": "stdout",
     "output_type": "stream",
     "text": [
      "epochs: 190 loss: 140235.81656063907\n"
     ]
    },
    {
     "name": "stderr",
     "output_type": "stream",
     "text": [
      "100%|██████████████████████████████████████████████████████████████████████████████████████████████████████████████████████████| 30576/30576 [54:44<00:00,  9.31it/s]\n"
     ]
    },
    {
     "name": "stdout",
     "output_type": "stream",
     "text": [
      "epochs: 191 loss: 140304.42678658685\n"
     ]
    },
    {
     "name": "stderr",
     "output_type": "stream",
     "text": [
      " 52%|███████████████████████████████████████████████████████████████▍                                                          | 15887/30576 [27:41<06:20, 38.57it/s]"
     ]
    },
    {
     "ename": "KeyboardInterrupt",
     "evalue": "",
     "output_type": "error",
     "traceback": [
      "\u001b[1;31m---------------------------------------------------------------------------\u001b[0m",
      "\u001b[1;31mKeyboardInterrupt\u001b[0m                         Traceback (most recent call last)",
      "\u001b[1;32m<ipython-input-7-4ac014dd685b>\u001b[0m in \u001b[0;36m<module>\u001b[1;34m\u001b[0m\n\u001b[0;32m      1\u001b[0m \u001b[0mmodel\u001b[0m \u001b[1;33m=\u001b[0m \u001b[0mSkipgram\u001b[0m\u001b[1;33m(\u001b[0m\u001b[1;36m100\u001b[0m\u001b[1;33m,\u001b[0m \u001b[0mlen\u001b[0m\u001b[1;33m(\u001b[0m\u001b[0mtoken_index\u001b[0m\u001b[1;33m)\u001b[0m \u001b[1;33m+\u001b[0m \u001b[1;36m1\u001b[0m\u001b[1;33m)\u001b[0m\u001b[1;33m\u001b[0m\u001b[1;33m\u001b[0m\u001b[0m\n\u001b[1;32m----> 2\u001b[1;33m \u001b[0mmodel\u001b[0m\u001b[1;33m.\u001b[0m\u001b[0mfit\u001b[0m\u001b[1;33m(\u001b[0m\u001b[0minputs\u001b[0m\u001b[1;33m,\u001b[0m \u001b[0moutputs\u001b[0m\u001b[1;33m,\u001b[0m \u001b[1;36m0.1\u001b[0m\u001b[1;33m,\u001b[0m \u001b[1;36m300\u001b[0m\u001b[1;33m)\u001b[0m\u001b[1;33m\u001b[0m\u001b[1;33m\u001b[0m\u001b[0m\n\u001b[0m\u001b[0;32m      3\u001b[0m \u001b[1;33m\u001b[0m\u001b[0m\n",
      "\u001b[1;32m<ipython-input-6-8f552ee04da8>\u001b[0m in \u001b[0;36mfit\u001b[1;34m(self, model_inputs, model_outputs, lr, epochs)\u001b[0m\n\u001b[0;32m     35\u001b[0m                 \u001b[1;32mfor\u001b[0m \u001b[0mj\u001b[0m \u001b[1;32min\u001b[0m \u001b[0mmodel_outputs\u001b[0m\u001b[1;33m[\u001b[0m\u001b[0mi\u001b[0m\u001b[1;33m]\u001b[0m\u001b[1;33m:\u001b[0m\u001b[1;33m\u001b[0m\u001b[1;33m\u001b[0m\u001b[0m\n\u001b[0;32m     36\u001b[0m                     \u001b[0mmodel_output\u001b[0m\u001b[1;33m[\u001b[0m\u001b[0mj\u001b[0m\u001b[1;33m]\u001b[0m \u001b[1;33m+=\u001b[0m \u001b[1;36m1\u001b[0m\u001b[1;33m/\u001b[0m\u001b[0mlen\u001b[0m\u001b[1;33m(\u001b[0m\u001b[0mmodel_outputs\u001b[0m\u001b[1;33m[\u001b[0m\u001b[0mi\u001b[0m\u001b[1;33m]\u001b[0m\u001b[1;33m)\u001b[0m\u001b[1;33m\u001b[0m\u001b[1;33m\u001b[0m\u001b[0m\n\u001b[1;32m---> 37\u001b[1;33m                 \u001b[0mself\u001b[0m\u001b[1;33m.\u001b[0m\u001b[0m_backward_pass\u001b[0m\u001b[1;33m(\u001b[0m\u001b[0mmodel_input\u001b[0m\u001b[1;33m,\u001b[0m \u001b[0mmodel_output\u001b[0m\u001b[1;33m,\u001b[0m \u001b[0mlr\u001b[0m\u001b[1;33m)\u001b[0m\u001b[1;33m\u001b[0m\u001b[1;33m\u001b[0m\u001b[0m\n\u001b[0m\u001b[0;32m     38\u001b[0m                 \u001b[0mloss\u001b[0m \u001b[1;33m+=\u001b[0m \u001b[1;33m-\u001b[0m\u001b[1;36m1\u001b[0m \u001b[1;33m*\u001b[0m \u001b[0mnp\u001b[0m\u001b[1;33m.\u001b[0m\u001b[0mlog\u001b[0m\u001b[1;33m(\u001b[0m\u001b[0mnp\u001b[0m\u001b[1;33m.\u001b[0m\u001b[0mdot\u001b[0m\u001b[1;33m(\u001b[0m\u001b[0mself\u001b[0m\u001b[1;33m.\u001b[0m\u001b[0msoftmax_score\u001b[0m\u001b[1;33m,\u001b[0m \u001b[0mmodel_output\u001b[0m\u001b[1;33m)\u001b[0m\u001b[1;33m)\u001b[0m\u001b[1;33m\u001b[0m\u001b[1;33m\u001b[0m\u001b[0m\n\u001b[0;32m     39\u001b[0m             \u001b[0mprint\u001b[0m\u001b[1;33m(\u001b[0m\u001b[1;34m\"epochs: {0} loss: {1}\"\u001b[0m\u001b[1;33m.\u001b[0m\u001b[0mformat\u001b[0m\u001b[1;33m(\u001b[0m\u001b[0mstr\u001b[0m\u001b[1;33m(\u001b[0m\u001b[0mepoch\u001b[0m\u001b[1;33m+\u001b[0m\u001b[1;36m1\u001b[0m\u001b[1;33m)\u001b[0m\u001b[1;33m,\u001b[0m \u001b[0mstr\u001b[0m\u001b[1;33m(\u001b[0m\u001b[0mloss\u001b[0m\u001b[1;33m)\u001b[0m\u001b[1;33m)\u001b[0m\u001b[1;33m)\u001b[0m\u001b[1;33m\u001b[0m\u001b[1;33m\u001b[0m\u001b[0m\n",
      "\u001b[1;32m<ipython-input-6-8f552ee04da8>\u001b[0m in \u001b[0;36m_backward_pass\u001b[1;34m(self, model_input, model_output, lr)\u001b[0m\n\u001b[0;32m     17\u001b[0m         \u001b[0mt_minus_s\u001b[0m \u001b[1;33m=\u001b[0m \u001b[1;33m(\u001b[0m\u001b[0mmodel_output\u001b[0m \u001b[1;33m-\u001b[0m \u001b[0mself\u001b[0m\u001b[1;33m.\u001b[0m\u001b[0msoftmax_score\u001b[0m\u001b[1;33m)\u001b[0m\u001b[1;33m\u001b[0m\u001b[1;33m\u001b[0m\u001b[0m\n\u001b[0;32m     18\u001b[0m         w2_grad = np.dot(np.reshape(self.h1, (self.num_features, 1)),\n\u001b[1;32m---> 19\u001b[1;33m                          np.reshape(t_minus_s, (1, self.vocab_size)))\n\u001b[0m\u001b[0;32m     20\u001b[0m         w1_grad = np.dot(np.reshape(model_input, (self.vocab_size, 1)),\n\u001b[0;32m     21\u001b[0m                          np.reshape(np.dot(t_minus_s, self.w1), (1, self.num_features)))\n",
      "\u001b[1;32m<__array_function__ internals>\u001b[0m in \u001b[0;36mdot\u001b[1;34m(*args, **kwargs)\u001b[0m\n",
      "\u001b[1;31mKeyboardInterrupt\u001b[0m: "
     ]
    }
   ],
   "source": [
    "model = Skipgram(100, len(token_index) + 1)\n",
    "model.fit(inputs, outputs, 0.1, 300)\n",
    "\n"
   ]
  },
  {
   "cell_type": "code",
   "execution_count": 12,
   "metadata": {},
   "outputs": [
    {
     "data": {
      "text/plain": [
       "[('one', 931),\n",
       " ('nine', 481),\n",
       " ('zero', 444),\n",
       " ('two', 358),\n",
       " ('eight', 344),\n",
       " ('lincoln', 334),\n",
       " ('six', 273),\n",
       " ('three', 238),\n",
       " ('five', 204),\n",
       " ('four', 195),\n",
       " ('seven', 163),\n",
       " ('autism', 160),\n",
       " ('aristotle', 137),\n",
       " ('also', 123),\n",
       " ('rand', 108),\n",
       " ('war', 106),\n",
       " ('achilles', 102),\n",
       " ('anarchism', 102),\n",
       " ('many', 100),\n",
       " ('people', 88),\n",
       " ('autistic', 87),\n",
       " ('states', 84),\n",
       " ('would', 83),\n",
       " ('first', 78),\n",
       " ('anarchists', 76),\n",
       " ('may', 75),\n",
       " ('philosophy', 73),\n",
       " ('anarchist', 71),\n",
       " ('see', 69),\n",
       " ('time', 68),\n",
       " ('abraham', 67),\n",
       " ('state', 67),\n",
       " ('best', 64),\n",
       " ('often', 60),\n",
       " ('united', 59),\n",
       " ('others', 58),\n",
       " ('social', 58),\n",
       " ('altruism', 56),\n",
       " ('union', 56),\n",
       " ('however', 53),\n",
       " ('new', 52),\n",
       " ('american', 50),\n",
       " ('alabama', 48),\n",
       " ('slavery', 46),\n",
       " ('life', 46),\n",
       " ('general', 46),\n",
       " ('academy', 44),\n",
       " ('used', 43),\n",
       " ('abu', 42),\n",
       " ('film', 42),\n",
       " ('movement', 42),\n",
       " ('although', 42),\n",
       " ('early', 42),\n",
       " ('president', 41),\n",
       " ('dhabi', 41),\n",
       " ('form', 41),\n",
       " ('man', 41),\n",
       " ('history', 41),\n",
       " ('national', 40),\n",
       " ('world', 39),\n",
       " ('society', 39),\n",
       " ('person', 38),\n",
       " ('use', 38),\n",
       " ('illinois', 37),\n",
       " ('ayn', 37),\n",
       " ('even', 36),\n",
       " ('including', 36),\n",
       " ('children', 35),\n",
       " ('works', 35),\n",
       " ('de', 35),\n",
       " ('name', 34),\n",
       " ('present', 34),\n",
       " ('government', 34),\n",
       " ('example', 34),\n",
       " ('called', 34),\n",
       " ('political', 34),\n",
       " ('anarcho', 33),\n",
       " ('years', 33),\n",
       " ('moral', 33),\n",
       " ('human', 33),\n",
       " ('work', 33),\n",
       " ('term', 33),\n",
       " ('e', 32),\n",
       " ('part', 32),\n",
       " ('well', 32),\n",
       " ('another', 32),\n",
       " ('thought', 32),\n",
       " ('ideas', 32),\n",
       " ('anti', 32),\n",
       " ('greek', 32),\n",
       " ('awards', 31),\n",
       " ('non', 31),\n",
       " ('left', 31),\n",
       " ('like', 31),\n",
       " ('party', 31),\n",
       " ('later', 31),\n",
       " ('individual', 31),\n",
       " ('albedo', 30),\n",
       " ('age', 30),\n",
       " ('made', 30),\n",
       " ('different', 30),\n",
       " ('language', 30),\n",
       " ('known', 30),\n",
       " ('free', 30),\n",
       " ('award', 29),\n",
       " ('plato', 29),\n",
       " ('became', 29),\n",
       " ('much', 29),\n",
       " ('civil', 29),\n",
       " ('letter', 28),\n",
       " ('disorder', 28),\n",
       " ('good', 28),\n",
       " ('since', 28),\n",
       " ('individuals', 28),\n",
       " ('must', 27),\n",
       " ('within', 27),\n",
       " ('groups', 27),\n",
       " ('th', 27),\n",
       " ('believe', 27),\n",
       " ('without', 27),\n",
       " ('second', 26),\n",
       " ('g', 26),\n",
       " ('high', 26),\n",
       " ('due', 26),\n",
       " ('system', 26),\n",
       " ('could', 26),\n",
       " ('self', 26),\n",
       " ('republican', 25),\n",
       " ('politics', 25),\n",
       " ('right', 25),\n",
       " ('major', 25),\n",
       " ('act', 25),\n",
       " ('u', 24),\n",
       " ('ethical', 24),\n",
       " ('help', 24),\n",
       " ('syndrome', 24),\n",
       " ('disorders', 24),\n",
       " ('ethics', 24),\n",
       " ('international', 24),\n",
       " ('property', 24),\n",
       " ('modern', 24),\n",
       " ('found', 24),\n",
       " ('law', 24),\n",
       " ('c', 23),\n",
       " ('great', 23),\n",
       " ('spectrum', 23),\n",
       " ('behavior', 23),\n",
       " ('causes', 23),\n",
       " ('particular', 23),\n",
       " ('certain', 23),\n",
       " ('though', 23),\n",
       " ('robert', 23),\n",
       " ('set', 23),\n",
       " ('book', 23),\n",
       " ('considered', 23),\n",
       " ('century', 23),\n",
       " ('according', 23),\n",
       " ('university', 22),\n",
       " ('body', 22),\n",
       " ('cause', 22),\n",
       " ('several', 22),\n",
       " ('post', 22),\n",
       " ('theory', 22),\n",
       " ('slaves', 21),\n",
       " ('public', 21),\n",
       " ('year', 21),\n",
       " ('asperger', 21),\n",
       " ('child', 21),\n",
       " ('science', 21),\n",
       " ('following', 21),\n",
       " ('writings', 21),\n",
       " ('thus', 21),\n",
       " ('chinese', 21),\n",
       " ('took', 21),\n",
       " ('institute', 21),\n",
       " ('said', 21),\n",
       " ('natural', 21),\n",
       " ('movements', 21),\n",
       " ('still', 21),\n",
       " ('english', 21),\n",
       " ('house', 20),\n",
       " ('logic', 20),\n",
       " ('bc', 20),\n",
       " ('lee', 20),\n",
       " ('things', 20),\n",
       " ('living', 20),\n",
       " ('culture', 20),\n",
       " ('back', 20),\n",
       " ('common', 20),\n",
       " ('support', 20),\n",
       " ('alexander', 20),\n",
       " ('capitalism', 20),\n",
       " ('based', 20),\n",
       " ('way', 20),\n",
       " ('branden', 19),\n",
       " ('shall', 19),\n",
       " ('son', 19),\n",
       " ('effect', 19),\n",
       " ('among', 19),\n",
       " ('john', 19),\n",
       " ('earth', 19),\n",
       " ('views', 19),\n",
       " ('popular', 19),\n",
       " ('army', 19),\n",
       " ('action', 19),\n",
       " ('important', 19),\n",
       " ('believed', 19),\n",
       " ('wrote', 19),\n",
       " ('times', 19),\n",
       " ('published', 19),\n",
       " ('held', 19),\n",
       " ('sometimes', 19),\n",
       " ('objectivist', 18),\n",
       " ('grant', 18),\n",
       " ('death', 18),\n",
       " ('troy', 18),\n",
       " ('confederate', 18),\n",
       " ('chance', 18),\n",
       " ('autistics', 18),\n",
       " ('developmental', 18),\n",
       " ('list', 18),\n",
       " ('city', 18),\n",
       " ('links', 18),\n",
       " ('lack', 18),\n",
       " ('long', 18),\n",
       " ('take', 18),\n",
       " ('number', 18),\n",
       " ('rights', 18),\n",
       " ('proudhon', 18),\n",
       " ('economic', 18),\n",
       " ('means', 18),\n",
       " ('obligation', 17),\n",
       " ('father', 17),\n",
       " ('march', 17),\n",
       " ('center', 17),\n",
       " ('play', 17),\n",
       " ('january', 17),\n",
       " ('george', 17),\n",
       " ('interests', 17),\n",
       " ('books', 17),\n",
       " ('day', 17),\n",
       " ('land', 17),\n",
       " ('black', 17),\n",
       " ('never', 17),\n",
       " ('co', 17),\n",
       " ('capital', 17),\n",
       " ('famous', 17),\n",
       " ('point', 17),\n",
       " ('every', 17),\n",
       " ('rather', 17),\n",
       " ('republicans', 16),\n",
       " ('al', 16),\n",
       " ('values', 16),\n",
       " ('america', 16),\n",
       " ('area', 16),\n",
       " ('constitution', 16),\n",
       " ('knowledge', 16),\n",
       " ('generally', 16),\n",
       " ('give', 16),\n",
       " ('terms', 16),\n",
       " ('make', 16),\n",
       " ('areas', 16),\n",
       " ('election', 16),\n",
       " ('led', 16),\n",
       " ('development', 16),\n",
       " ('votes', 16),\n",
       " ('today', 16),\n",
       " ('members', 16),\n",
       " ('saw', 16),\n",
       " ('include', 16),\n",
       " ('words', 16),\n",
       " ('edited', 16),\n",
       " ('doctrine', 16),\n",
       " ('interest', 16),\n",
       " ('reason', 16),\n",
       " ('might', 16),\n",
       " ('anarchy', 16),\n",
       " ('authoritarian', 16),\n",
       " ('films', 15),\n",
       " ('metaphysics', 15),\n",
       " ('press', 15),\n",
       " ('washington', 15),\n",
       " ('hector', 15),\n",
       " ('save', 15),\n",
       " ('functioning', 15),\n",
       " ('increase', 15),\n",
       " ('effects', 15),\n",
       " ('become', 15),\n",
       " ('know', 15),\n",
       " ('little', 15),\n",
       " ('universal', 15),\n",
       " ('fact', 15),\n",
       " ('communication', 15),\n",
       " ('view', 15),\n",
       " ('article', 15),\n",
       " ('usually', 15),\n",
       " ('school', 15),\n",
       " ('began', 15),\n",
       " ('acts', 15),\n",
       " ('around', 15),\n",
       " ('workers', 15),\n",
       " ('opposed', 15),\n",
       " ('william', 15),\n",
       " ('upon', 15),\n",
       " ('related', 15),\n",
       " ('word', 15),\n",
       " ('revolution', 15),\n",
       " ('slave', 14),\n",
       " ('men', 14),\n",
       " ('greatest', 14),\n",
       " ('presidential', 14),\n",
       " ('south', 14),\n",
       " ('river', 14),\n",
       " ('snow', 14),\n",
       " ('goal', 14),\n",
       " ('study', 14),\n",
       " ('family', 14),\n",
       " ('research', 14),\n",
       " ('able', 14),\n",
       " ('current', 14),\n",
       " ('diagnosis', 14),\n",
       " ('references', 14),\n",
       " ('specific', 14),\n",
       " ('information', 14),\n",
       " ('god', 14),\n",
       " ('months', 14),\n",
       " ('christian', 14),\n",
       " ('violence', 14),\n",
       " ('cnt', 14),\n",
       " ('need', 14),\n",
       " ('supported', 14),\n",
       " ('described', 14),\n",
       " ('communism', 14),\n",
       " ('argue', 14),\n",
       " ('place', 14),\n",
       " ('french', 14),\n",
       " ('class', 14),\n",
       " ('objectivism', 13),\n",
       " ('altruistic', 13),\n",
       " ('mcclellan', 13),\n",
       " ('signed', 13),\n",
       " ('animals', 13),\n",
       " ('proclamation', 13),\n",
       " ('emancipation', 13),\n",
       " ('campaign', 13),\n",
       " ('trojan', 13),\n",
       " ('say', 13),\n",
       " ('pervasive', 13),\n",
       " ('mental', 13),\n",
       " ('short', 13),\n",
       " ('fiction', 13),\n",
       " ('personal', 13),\n",
       " ('behind', 13),\n",
       " ('main', 13),\n",
       " ('least', 13),\n",
       " ('external', 13),\n",
       " ('david', 13),\n",
       " ('feminist', 13),\n",
       " ('tai', 13),\n",
       " ('physical', 13),\n",
       " ('north', 13),\n",
       " ('group', 13),\n",
       " ('towards', 13),\n",
       " ('industrial', 13),\n",
       " ('force', 13),\n",
       " ('actions', 13),\n",
       " ('late', 13),\n",
       " ('spanish', 13),\n",
       " ('nature', 13),\n",
       " ('away', 13),\n",
       " ('strategy', 13),\n",
       " ('bakunin', 13),\n",
       " ('ever', 13),\n",
       " ('power', 13),\n",
       " ('thing', 13),\n",
       " ('egoism', 13),\n",
       " ('claim', 13),\n",
       " ('philosophical', 13),\n",
       " ('ancient', 13),\n",
       " ('altruists', 12),\n",
       " ('physics', 12),\n",
       " ('philosopher', 12),\n",
       " ('douglas', 12),\n",
       " ('springfield', 12),\n",
       " ('volume', 12),\n",
       " ('eventually', 12),\n",
       " ('named', 12),\n",
       " ('patroclus', 12),\n",
       " ('hero', 12),\n",
       " ('federal', 12),\n",
       " ('alphabet', 12),\n",
       " ('isbn', 12),\n",
       " ('oil', 12),\n",
       " ('island', 12),\n",
       " ('emirates', 12),\n",
       " ('nathaniel', 12),\n",
       " ('change', 12),\n",
       " ('speech', 12),\n",
       " ('parents', 12),\n",
       " ('education', 12),\n",
       " ('scientific', 12),\n",
       " ('ability', 12),\n",
       " ('interaction', 12),\n",
       " ('possible', 12),\n",
       " ('case', 12),\n",
       " ('health', 12),\n",
       " ('intellectual', 12),\n",
       " ('etc', 12),\n",
       " ('old', 12),\n",
       " ('authority', 12),\n",
       " ('control', 12),\n",
       " ('opposition', 12),\n",
       " ('february', 12),\n",
       " ('method', 12),\n",
       " ('therefore', 12),\n",
       " ('us', 12),\n",
       " ('b', 12),\n",
       " ('community', 12),\n",
       " ('resources', 12),\n",
       " ('king', 12),\n",
       " ('benefit', 11),\n",
       " ('director', 11),\n",
       " ('aristotelian', 11),\n",
       " ('original', 11),\n",
       " ('biography', 11),\n",
       " ('library', 11),\n",
       " ('compromise', 11),\n",
       " ('et', 11),\n",
       " ('museum', 11),\n",
       " ('thomas', 11),\n",
       " ('battle', 11),\n",
       " ('young', 11),\n",
       " ('story', 11),\n",
       " ('less', 11),\n",
       " ('average', 11),\n",
       " ('british', 11),\n",
       " ('last', 11),\n",
       " ('whole', 11),\n",
       " ('material', 11),\n",
       " ('better', 11),\n",
       " ('students', 11),\n",
       " ('going', 11),\n",
       " ('cannot', 11),\n",
       " ('sense', 11),\n",
       " ('strong', 11),\n",
       " ('normal', 11),\n",
       " ('problems', 11),\n",
       " ('subject', 11),\n",
       " ('meaning', 11),\n",
       " ('already', 11),\n",
       " ('making', 11),\n",
       " ('influence', 11),\n",
       " ('referred', 11),\n",
       " ('small', 11),\n",
       " ('reference', 11),\n",
       " ('idea', 11),\n",
       " ('single', 11),\n",
       " ('throughout', 11),\n",
       " ('classical', 11),\n",
       " ('always', 11),\n",
       " ('h', 11),\n",
       " ('prominent', 11),\n",
       " ('official', 11),\n",
       " ('electoral', 11),\n",
       " ('difficult', 11),\n",
       " ('paris', 11),\n",
       " ('rebellion', 11),\n",
       " ('successful', 11),\n",
       " ('prior', 11),\n",
       " ('democratic', 11),\n",
       " ('argued', 11),\n",
       " ('labor', 11),\n",
       " ('joseph', 11),\n",
       " ('laws', 11),\n",
       " ('similar', 11),\n",
       " ('particularly', 11),\n",
       " ('working', 11),\n",
       " ('tat', 10),\n",
       " ('tit', 10),\n",
       " ('branch', 10),\n",
       " ('psychological', 10),\n",
       " ('soul', 10),\n",
       " ('actor', 10),\n",
       " ('duty', 10),\n",
       " ('booth', 10),\n",
       " ('reconstruction', 10),\n",
       " ('finally', 10),\n",
       " ('lost', 10),\n",
       " ('born', 10),\n",
       " ('thetis', 10),\n",
       " ('iliad', 10),\n",
       " ('county', 10),\n",
       " ('court', 10),\n",
       " ('west', 10),\n",
       " ('military', 10),\n",
       " ('site', 10),\n",
       " ('despite', 10),\n",
       " ('continued', 10),\n",
       " ('com', 10),\n",
       " ('note', 10),\n",
       " ('light', 10),\n",
       " ('statistics', 10),\n",
       " ('parts', 10),\n",
       " ('next', 10),\n",
       " ('song', 10),\n",
       " ('earlier', 10),\n",
       " ('speak', 10),\n",
       " ('far', 10),\n",
       " ('level', 10),\n",
       " ('either', 10),\n",
       " ('order', 10),\n",
       " ('adults', 10),\n",
       " ('cure', 10),\n",
       " ('band', 10),\n",
       " ('treatment', 10),\n",
       " ('makes', 10),\n",
       " ('open', 10),\n",
       " ('scale', 10),\n",
       " ('effort', 10),\n",
       " ('todd', 10),\n",
       " ('issue', 10),\n",
       " ('schools', 10),\n",
       " ('feminism', 10),\n",
       " ('along', 10),\n",
       " ('established', 10),\n",
       " ('victory', 10),\n",
       " ('central', 10),\n",
       " ('critics', 10),\n",
       " ('largest', 10),\n",
       " ('n', 10),\n",
       " ('syndicalism', 10),\n",
       " ('communist', 10),\n",
       " ('end', 10),\n",
       " ('april', 10),\n",
       " ('simply', 10),\n",
       " ('developed', 10),\n",
       " ('join', 10),\n",
       " ('complete', 10),\n",
       " ('true', 10),\n",
       " ('religious', 10),\n",
       " ('europe', 10),\n",
       " ('principles', 10),\n",
       " ('aid', 10),\n",
       " ('defined', 10),\n",
       " ('peikoff', 9),\n",
       " ('novels', 9),\n",
       " ('altruist', 9),\n",
       " ('oscar', 9),\n",
       " ('athens', 9),\n",
       " ('rhetoric', 9),\n",
       " ('york', 9),\n",
       " ('kentucky', 9),\n",
       " ('assassination', 9),\n",
       " ('virginia', 9),\n",
       " ('cooperation', 9),\n",
       " ('affair', 9),\n",
       " ('nation', 9),\n",
       " ('grief', 9),\n",
       " ('homer', 9),\n",
       " ('gave', 9),\n",
       " ('album', 9),\n",
       " ('novel', 9),\n",
       " ('version', 9),\n",
       " ('vowel', 9),\n",
       " ('come', 9),\n",
       " ('das', 9),\n",
       " ('postal', 9),\n",
       " ('white', 9),\n",
       " ('trees', 9),\n",
       " ('surface', 9),\n",
       " ('actually', 9),\n",
       " ('mother', 9),\n",
       " ('service', 9),\n",
       " ('rett', 9),\n",
       " ('given', 9),\n",
       " ('difficulties', 9),\n",
       " ('childhood', 9),\n",
       " ('sensory', 9),\n",
       " ('instead', 9),\n",
       " ('dsm', 9),\n",
       " ('almost', 9),\n",
       " ('skills', 9),\n",
       " ('symptoms', 9),\n",
       " ('ways', 9),\n",
       " ('conditions', 9),\n",
       " ('voting', 9),\n",
       " ('music', 9),\n",
       " ('recent', 9),\n",
       " ('home', 9),\n",
       " ('nearly', 9),\n",
       " ('philosophers', 9),\n",
       " ('position', 9),\n",
       " ('receiving', 9),\n",
       " ('org', 9),\n",
       " ('whether', 9),\n",
       " ('various', 9),\n",
       " ('anarcha', 9),\n",
       " ('tend', 9),\n",
       " ('author', 9),\n",
       " ('kingdom', 9),\n",
       " ('large', 9),\n",
       " ('changed', 9),\n",
       " ('democrats', 9),\n",
       " ('rise', 9),\n",
       " ('influenced', 9),\n",
       " ('latin', 9),\n",
       " ('membership', 9),\n",
       " ('writing', 9),\n",
       " ('seen', 9),\n",
       " ('communists', 9),\n",
       " ('moved', 9),\n",
       " ('congress', 9),\n",
       " ('fought', 9),\n",
       " ('difference', 9),\n",
       " ('august', 9),\n",
       " ('liberty', 9),\n",
       " ('conflict', 9),\n",
       " ('individualist', 9),\n",
       " ('saying', 9),\n",
       " ('using', 9),\n",
       " ('involved', 9),\n",
       " ('stated', 9),\n",
       " ('libertarian', 9),\n",
       " ('something', 9),\n",
       " ('western', 9),\n",
       " ('kropotkin', 9),\n",
       " ('brought', 9),\n",
       " ('association', 9),\n",
       " ('advocate', 9),\n",
       " ('fountainhead', 8),\n",
       " ('utc', 8),\n",
       " ('literary', 8),\n",
       " ('happiness', 8),\n",
       " ('categories', 8),\n",
       " ('nicomachean', 8),\n",
       " ('purpose', 8),\n",
       " ('allowed', 8),\n",
       " ('died', 8),\n",
       " ('cabinet', 8),\n",
       " ('forces', 8),\n",
       " ('provided', 8),\n",
       " ('choice', 8),\n",
       " ('killed', 8),\n",
       " ('odysseus', 8),\n",
       " ('leonard', 8),\n",
       " ('peleus', 8),\n",
       " ('p', 8),\n",
       " ('sea', 8),\n",
       " ('candidate', 8),\n",
       " ('mississippi', 8),\n",
       " ('southern', 8),\n",
       " ('career', 8),\n",
       " ('administration', 8),\n",
       " ('office', 8),\n",
       " ('country', 8),\n",
       " ('arab', 8),\n",
       " ('result', 8),\n",
       " ('cities', 8),\n",
       " ('northern', 8),\n",
       " ('greater', 8),\n",
       " ('radiation', 8),\n",
       " ('selection', 8),\n",
       " ('period', 8),\n",
       " ('question', 8),\n",
       " ('probably', 8),\n",
       " ('student', 8),\n",
       " ('understanding', 8),\n",
       " ('show', 8),\n",
       " ('low', 8),\n",
       " ('situation', 8),\n",
       " ('friends', 8),\n",
       " ('appear', 8),\n",
       " ('beings', 8),\n",
       " ('edition', 8),\n",
       " ('reported', 8),\n",
       " ('diagnostic', 8),\n",
       " ('points', 8),\n",
       " ('covered', 8),\n",
       " ('essays', 8),\n",
       " ('argues', 8),\n",
       " ('perhaps', 8),\n",
       " ('character', 8),\n",
       " ('source', 8),\n",
       " ('attempt', 8),\n",
       " ('mexico', 8),\n",
       " ('separate', 8),\n",
       " ('created', 8),\n",
       " ('color', 8),\n",
       " ('issues', 8),\n",
       " ('base', 8),\n",
       " ('f', 8),\n",
       " ('desire', 8),\n",
       " ('favor', 8),\n",
       " ('return', 8),\n",
       " ('controversial', 8),\n",
       " ('tradition', 8),\n",
       " ('kind', 8),\n",
       " ('environment', 8),\n",
       " ('went', 8),\n",
       " ('church', 8),\n",
       " ('religion', 8),\n",
       " ('historical', 8),\n",
       " ('helped', 8),\n",
       " ('front', 8),\n",
       " ('divided', 8),\n",
       " ('fight', 8),\n",
       " ('forms', 8),\n",
       " ('success', 8),\n",
       " ('soon', 8),\n",
       " ('initially', 8),\n",
       " ('october', 8),\n",
       " ('allow', 8),\n",
       " ('founded', 8),\n",
       " ('spain', 8),\n",
       " ('style', 8),\n",
       " ('associated', 8),\n",
       " ('experience', 8),\n",
       " ('leo', 8),\n",
       " ('concepts', 8),\n",
       " ('final', 8),\n",
       " ('activity', 8),\n",
       " ('came', 8),\n",
       " ('elected', 8),\n",
       " ('revolutionary', 8),\n",
       " ('twenty', 8),\n",
       " ('received', 8),\n",
       " ('says', 8),\n",
       " ('warren', 8),\n",
       " ('nevertheless', 8),\n",
       " ('amount', 8),\n",
       " ('commonly', 8),\n",
       " ('radical', 8),\n",
       " ('mean', 8),\n",
       " ('wealth', 8),\n",
       " ('especially', 8),\n",
       " ('mutual', 8),\n",
       " ('structures', 8),\n",
       " ('regarded', 8),\n",
       " ('institutions', 8),\n",
       " ('belief', 8),\n",
       " ('romantic', 7),\n",
       " ('virtuous', 7),\n",
       " ('virtue', 7),\n",
       " ('rational', 7),\n",
       " ('causation', 7),\n",
       " ('causality', 7),\n",
       " ('essence', 7),\n",
       " ('art', 7),\n",
       " ('written', 7),\n",
       " ('charity', 7),\n",
       " ('henry', 7),\n",
       " ('whig', 7),\n",
       " ('member', 7),\n",
       " ('farm', 7),\n",
       " ('amendment', 7),\n",
       " ('criticized', 7),\n",
       " ('gettysburg', 7),\n",
       " ('speeches', 7),\n",
       " ('ed', 7),\n",
       " ('stand', 7),\n",
       " ('relationship', 7),\n",
       " ('woman', 7),\n",
       " ('welfare', 7),\n",
       " ('love', 7),\n",
       " ('telephus', 7),\n",
       " ('frequently', 7),\n",
       " ('lines', 7),\n",
       " ('race', 7),\n",
       " ('analysis', 7),\n",
       " ('east', 7),\n",
       " ('poetry', 7),\n",
       " ('letters', 7),\n",
       " ('score', 7),\n",
       " ('address', 7),\n",
       " ('command', 7),\n",
       " ('symbol', 7),\n",
       " ('x', 7),\n",
       " ('head', 7),\n",
       " ('ended', 7),\n",
       " ('stamps', 7),\n",
       " ('july', 7),\n",
       " ('uae', 7),\n",
       " ('september', 7),\n",
       " ('studies', 7),\n",
       " ('put', 7),\n",
       " ('college', 7),\n",
       " ('via', 7),\n",
       " ('highest', 7),\n",
       " ('across', 7),\n",
       " ('expressed', 7),\n",
       " ('characters', 7),\n",
       " ('married', 7),\n",
       " ('local', 7),\n",
       " ('category', 7),\n",
       " ('partly', 7),\n",
       " ('controversy', 7),\n",
       " ('medical', 7),\n",
       " ('former', 7),\n",
       " ('persons', 7),\n",
       " ('perform', 7),\n",
       " ('serve', 7),\n",
       " ('literature', 7),\n",
       " ('activities', 7),\n",
       " ('bringing', 7),\n",
       " ('stories', 7),\n",
       " ('hidden', 7),\n",
       " ('sign', 7),\n",
       " ('objects', 7),\n",
       " ('toward', 7),\n",
       " ('someone', 7),\n",
       " ('repetitive', 7),\n",
       " ('typical', 7),\n",
       " ('dr', 7),\n",
       " ('psychology', 7),\n",
       " ('criteria', 7),\n",
       " ('conservative', 7),\n",
       " ('patterns', 7),\n",
       " ('encyclopedia', 7),\n",
       " ('includes', 7),\n",
       " ('rock', 7),\n",
       " ('phenomena', 7),\n",
       " ('middle', 7),\n",
       " ('read', 7),\n",
       " ('evil', 7),\n",
       " ('hand', 7),\n",
       " ('line', 7),\n",
       " ('global', 7),\n",
       " ('alone', 7),\n",
       " ('attention', 7),\n",
       " ('section', 7),\n",
       " ('speaking', 7),\n",
       " ('taking', 7),\n",
       " ('articles', 7),\n",
       " ('exist', 7),\n",
       " ('entirely', 7),\n",
       " ('mary', 7),\n",
       " ('lead', 7),\n",
       " ('focus', 7),\n",
       " ('rejected', 7),\n",
       " ('higher', 7),\n",
       " ('bring', 7),\n",
       " ('fascist', 7),\n",
       " ('soviet', 7),\n",
       " ('fascism', 7),\n",
       " ('theoretical', 7),\n",
       " ('uk', 7),\n",
       " ('role', 7),\n",
       " ('vote', 7),\n",
       " ('lives', 7),\n",
       " ('significant', 7),\n",
       " ('formed', 7),\n",
       " ('whose', 7),\n",
       " ('publishing', 7),\n",
       " ('goldman', 7),\n",
       " ('evolution', 7),\n",
       " ('beneficial', 7),\n",
       " ('leading', 7),\n",
       " ('european', 7),\n",
       " ('stephen', 7),\n",
       " ('herbert', 7),\n",
       " ('december', 7),\n",
       " ('tucker', 7),\n",
       " ('defend', 7),\n",
       " ('comes', 7),\n",
       " ('reality', 7),\n",
       " ('mind', 7),\n",
       " ('influential', 7),\n",
       " ('production', 7),\n",
       " ('represented', 7),\n",
       " ('products', 7),\n",
       " ('trade', 7),\n",
       " ('vision', 7),\n",
       " ('existed', 7),\n",
       " ('leader', 7),\n",
       " ('l', 7),\n",
       " ('follow', 7),\n",
       " ('refers', 7),\n",
       " ('ruler', 7),\n",
       " ('shrugged', 6),\n",
       " ('atlas', 6),\n",
       " ('anthem', 6),\n",
       " ('promote', 6),\n",
       " ('game', 6),\n",
       " ('selfish', 6),\n",
       " ('nietzsche', 6),\n",
       " ('morality', 6),\n",
       " ('comte', 6),\n",
       " ('evolutionary', 6),\n",
       " ('nominations', 6),\n",
       " ('humans', 6),\n",
       " ('analytics', 6),\n",
       " ('arts', 6),\n",
       " ('texts', 6),\n",
       " ('studied', 6),\n",
       " ('prize', 6),\n",
       " ('j', 6),\n",
       " ('statues', 6),\n",
       " ('told', 6),\n",
       " ('theater', 6),\n",
       " ('winning', 6),\n",
       " ('freed', 6),\n",
       " ('doubt', 6),\n",
       " ('james', 6),\n",
       " ('salem', 6),\n",
       " ('indiana', 6),\n",
       " ('legal', 6),\n",
       " ('freeing', 6),\n",
       " ('moderate', 6),\n",
       " ('sources', 6),\n",
       " ('heroes', 6),\n",
       " ('apollo', 6),\n",
       " ('account', 6),\n",
       " ('asked', 6),\n",
       " ('wound', 6),\n",
       " ('rivals', 6),\n",
       " ('mortal', 6),\n",
       " ('latter', 6),\n",
       " ('tennessee', 6),\n",
       " ('mobile', 6),\n",
       " ('creek', 6),\n",
       " ('top', 6),\n",
       " ('ending', 6),\n",
       " ('unrounded', 6),\n",
       " ('box', 6),\n",
       " ('decided', 6),\n",
       " ('sheikh', 6),\n",
       " ('occupied', 6),\n",
       " ('located', 6),\n",
       " ('lies', 6),\n",
       " ('trucial', 6),\n",
       " ('side', 6),\n",
       " ('w', 6),\n",
       " ('forcing', 6),\n",
       " ('night', 6),\n",
       " ('clouds', 6),\n",
       " ('basis', 6),\n",
       " ('ideal', 6),\n",
       " ('summer', 6),\n",
       " ('forests', 6),\n",
       " ('regions', 6),\n",
       " ('winter', 6),\n",
       " ('thousands', 6),\n",
       " ('size', 6),\n",
       " ('temperature', 6),\n",
       " ('warming', 6),\n",
       " ('truth', 6),\n",
       " ('mentioned', 6),\n",
       " ('behaviour', 6),\n",
       " ('shared', 6),\n",
       " ('sciences', 6),\n",
       " ('real', 6),\n",
       " ('ten', 6),\n",
       " ('matter', 6),\n",
       " ('potential', 6),\n",
       " ('total', 6),\n",
       " ('lower', 6),\n",
       " ('shown', 6),\n",
       " ('presented', 6),\n",
       " ('taught', 6),\n",
       " ('teacher', 6),\n",
       " ('topics', 6),\n",
       " ('relatively', 6),\n",
       " ('voice', 6),\n",
       " ('languages', 6),\n",
       " ('giving', 6),\n",
       " ('online', 6),\n",
       " ('hours', 6),\n",
       " ('clear', 6),\n",
       " ('trouble', 6),\n",
       " ('emotional', 6),\n",
       " ('friend', 6),\n",
       " ('seems', 6),\n",
       " ('unusual', 6),\n",
       " ('learning', 6),\n",
       " ('contrast', 6),\n",
       " ('care', 6),\n",
       " ('behaviors', 6),\n",
       " ('stereotyped', 6),\n",
       " ('iv', 6),\n",
       " ('suggested', 6),\n",
       " ('kanner', 6),\n",
       " ('communicate', 6),\n",
       " ('manual', 6),\n",
       " ('delays', 6),\n",
       " ('condition', 6),\n",
       " ('series', 6),\n",
       " ('daily', 6),\n",
       " ('events', 6),\n",
       " ('past', 6),\n",
       " ('musical', 6),\n",
       " ('criticisms', 6),\n",
       " ('modes', 6),\n",
       " ('think', 6),\n",
       " ('expansion', 6),\n",
       " ('begin', 6),\n",
       " ('acting', 6),\n",
       " ('organizations', 6),\n",
       " ('formal', 6),\n",
       " ('critical', 6),\n",
       " ('degree', 6),\n",
       " ...]"
      ]
     },
     "execution_count": 12,
     "metadata": {},
     "output_type": "execute_result"
    }
   ],
   "source": [
    "sorted(token_counts.items(), key=lambda x: x[1])[::-1]"
   ]
  },
  {
   "cell_type": "code",
   "execution_count": 18,
   "metadata": {},
   "outputs": [
    {
     "name": "stdout",
     "output_type": "stream",
     "text": [
      "autism\n",
      "spectrum\n",
      "autistic\n",
      "disorder\n",
      "asperger\n",
      "syndrome\n",
      "people\n",
      "information\n",
      "treatment\n",
      "often\n"
     ]
    }
   ],
   "source": [
    "model.most_similar(\"autism\", token_index)"
   ]
  },
  {
   "cell_type": "code",
   "execution_count": null,
   "metadata": {},
   "outputs": [],
   "source": []
  },
  {
   "cell_type": "code",
   "execution_count": null,
   "metadata": {},
   "outputs": [],
   "source": []
  },
  {
   "cell_type": "code",
   "execution_count": null,
   "metadata": {},
   "outputs": [],
   "source": []
  },
  {
   "cell_type": "code",
   "execution_count": null,
   "metadata": {},
   "outputs": [],
   "source": []
  }
 ],
 "metadata": {
  "kernelspec": {
   "display_name": "Python 3",
   "language": "python",
   "name": "python3"
  }
 },
 "nbformat": 4,
 "nbformat_minor": 2
}
